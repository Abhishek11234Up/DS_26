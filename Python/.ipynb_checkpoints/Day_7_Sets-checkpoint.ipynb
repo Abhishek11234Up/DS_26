{
 "cells": [
  {
   "cell_type": "code",
   "execution_count": 1,
   "id": "5a8c0b13-1e71-4004-920c-776d18315c55",
   "metadata": {},
   "outputs": [
    {
     "name": "stdout",
     "output_type": "stream",
     "text": [
      "<class 'set'>\n",
      "{1, 2, 3, 4, 5}\n"
     ]
    }
   ],
   "source": [
    "my_set = {1,2,3,4,5}\n",
    "\n",
    "print(type(my_set))\n",
    "print(my_set)"
   ]
  },
  {
   "cell_type": "code",
   "execution_count": 7,
   "id": "c1e507b2-2b81-400d-8018-d6593c6bb5d6",
   "metadata": {},
   "outputs": [],
   "source": [
    "my_set_1 = {\"Mango\", \"Litchi\", \"Grapes\", \"Bananas\", \"Mango\", \"Bananas\"}"
   ]
  },
  {
   "cell_type": "code",
   "execution_count": 8,
   "id": "7507058e-f2c5-49f4-bc70-b7ab152872d3",
   "metadata": {},
   "outputs": [
    {
     "data": {
      "text/plain": [
       "{'Bananas', 'Grapes', 'Litchi', 'Mango'}"
      ]
     },
     "execution_count": 8,
     "metadata": {},
     "output_type": "execute_result"
    }
   ],
   "source": [
    "my_set_1"
   ]
  },
  {
   "cell_type": "code",
   "execution_count": 9,
   "id": "c781aab6-bca2-4f48-9989-56e532e802d5",
   "metadata": {},
   "outputs": [
    {
     "data": {
      "text/plain": [
       "4"
      ]
     },
     "execution_count": 9,
     "metadata": {},
     "output_type": "execute_result"
    }
   ],
   "source": [
    "len(my_set_1)"
   ]
  },
  {
   "cell_type": "code",
   "execution_count": 11,
   "id": "01587ef3-bd16-4e6c-aaa5-61a9b669a5b9",
   "metadata": {},
   "outputs": [],
   "source": [
    "my_set_2 = {1,2.5, 3+9J, \"AmiT\"}"
   ]
  },
  {
   "cell_type": "code",
   "execution_count": 12,
   "id": "ce948551-43ab-4ef0-853d-33988fe67217",
   "metadata": {},
   "outputs": [],
   "source": [
    "my_set_2.add(\"Kinshuk\")"
   ]
  },
  {
   "cell_type": "code",
   "execution_count": 13,
   "id": "1693d5dd-1944-431e-83eb-8f9cd72275a8",
   "metadata": {},
   "outputs": [
    {
     "data": {
      "text/plain": [
       "{(3+9j), 1, 2.5, 'AmiT', 'Kinshuk'}"
      ]
     },
     "execution_count": 13,
     "metadata": {},
     "output_type": "execute_result"
    }
   ],
   "source": [
    "my_set_2"
   ]
  },
  {
   "cell_type": "code",
   "execution_count": 20,
   "id": "c37a8b92-b916-47fb-aa0e-8155db5dfd14",
   "metadata": {},
   "outputs": [
    {
     "name": "stdout",
     "output_type": "stream",
     "text": [
      "{1, 2, 3, 4, 5, 'Grapes', 'Bananas', 'Mango', 'Litchi'}\n"
     ]
    }
   ],
   "source": [
    "my_set = {1,2,3,4,5}\n",
    "my_set_2 = {1,2.5, 3+9J, \"AmiT\"}\n",
    "my_set.update(my_set_1)\n",
    "print(my_set)"
   ]
  },
  {
   "cell_type": "code",
   "execution_count": 15,
   "id": "8f008981-e4d6-4d19-bcca-5d03463f841f",
   "metadata": {},
   "outputs": [],
   "source": [
    "my_set"
   ]
  },
  {
   "cell_type": "code",
   "execution_count": 19,
   "id": "875a750b-d8a3-4e38-920d-f86909ca0660",
   "metadata": {},
   "outputs": [
    {
     "name": "stdout",
     "output_type": "stream",
     "text": [
      "{'banana', 'cherry', 'mango', 'apple', 'papaya', 'pineapple'}\n"
     ]
    }
   ],
   "source": [
    "thisset = {\"apple\", \"banana\", \"cherry\"}\n",
    "tropical = {\"pineapple\", \"mango\", \"papaya\"}\n",
    "\n",
    "thisset.update(tropical)\n",
    "\n",
    "print(thisset)"
   ]
  },
  {
   "cell_type": "code",
   "execution_count": 21,
   "id": "abeab22d-a8ee-4212-9481-1ce14452c542",
   "metadata": {},
   "outputs": [
    {
     "name": "stdin",
     "output_type": "stream",
     "text": [
      "How many slices of pizza did you start with?  8\n",
      "How many slices have you eaten?  4\n"
     ]
    },
    {
     "name": "stdout",
     "output_type": "stream",
     "text": [
      "You have 4 slices of pizza left.\n"
     ]
    }
   ],
   "source": [
    "def main():\n",
    "    # Ask the user how many slices of pizza they started with\n",
    "    total_slices = int(input(\"How many slices of pizza did you start with? \"))\n",
    "    \n",
    "    # Ask the user how many slices they have eaten\n",
    "    eaten_slices = int(input(\"How many slices have you eaten? \"))\n",
    "    \n",
    "    # Calculate the remaining slices\n",
    "    remaining_slices = total_slices - eaten_slices\n",
    "    \n",
    "    # Display the result\n",
    "    print(\"You have\", remaining_slices, \"slices of pizza left.\")\n",
    "\n",
    "if __name__ == \"__main__\":\n",
    "    main()\n"
   ]
  },
  {
   "cell_type": "code",
   "execution_count": 22,
   "id": "5636e893-8093-42d7-84c3-300816c191c9",
   "metadata": {},
   "outputs": [
    {
     "name": "stdin",
     "output_type": "stream",
     "text": [
      "How many slices of pizza did you start with?  9\n",
      "How many slices have you eaten?  5\n"
     ]
    },
    {
     "name": "stdout",
     "output_type": "stream",
     "text": [
      "You have 4 slices of pizza left.\n"
     ]
    }
   ],
   "source": [
    "# Ask the user how many slices of pizza they started with\n",
    "total_slices = int(input(\"How many slices of pizza did you start with? \"))\n",
    "\n",
    "# Ask the user how many slices they have eaten\n",
    "eaten_slices = int(input(\"How many slices have you eaten? \"))\n",
    "\n",
    "# Calculate the remaining slices\n",
    "remaining_slices = total_slices - eaten_slices\n",
    "\n",
    "# Display the result\n",
    "print(\"You have\", remaining_slices, \"slices of pizza left.\")\n"
   ]
  },
  {
   "cell_type": "code",
   "execution_count": 23,
   "id": "31198efa-74b9-406e-9538-1ce973c8bbc0",
   "metadata": {},
   "outputs": [
    {
     "data": {
      "text/plain": [
       "{'apple', 'banana', 'cherry', 'mango', 'papaya', 'pineapple'}"
      ]
     },
     "execution_count": 23,
     "metadata": {},
     "output_type": "execute_result"
    }
   ],
   "source": [
    "thisset"
   ]
  },
  {
   "cell_type": "code",
   "execution_count": 24,
   "id": "15932327-54bd-4953-b764-7cc73376ad76",
   "metadata": {},
   "outputs": [],
   "source": [
    "del thisset"
   ]
  },
  {
   "cell_type": "code",
   "execution_count": 25,
   "id": "5a1e67d4-286d-4ddb-b777-5157788a8e84",
   "metadata": {},
   "outputs": [
    {
     "ename": "NameError",
     "evalue": "name 'thisset' is not defined",
     "output_type": "error",
     "traceback": [
      "\u001b[1;31m---------------------------------------------------------------------------\u001b[0m",
      "\u001b[1;31mNameError\u001b[0m                                 Traceback (most recent call last)",
      "Cell \u001b[1;32mIn[25], line 1\u001b[0m\n\u001b[1;32m----> 1\u001b[0m thisset\n",
      "\u001b[1;31mNameError\u001b[0m: name 'thisset' is not defined"
     ]
    }
   ],
   "source": [
    "thisset"
   ]
  },
  {
   "cell_type": "code",
   "execution_count": 26,
   "id": "4c28fbdd-f2c1-4acf-887b-914248a55e19",
   "metadata": {},
   "outputs": [
    {
     "name": "stdout",
     "output_type": "stream",
     "text": [
      "1\n",
      "2\n",
      "3\n",
      "4\n",
      "5\n",
      "Grapes\n",
      "Bananas\n",
      "Mango\n",
      "Litchi\n"
     ]
    }
   ],
   "source": [
    "for i in my_set:\n",
    "    print(i)"
   ]
  }
 ],
 "metadata": {
  "kernelspec": {
   "display_name": "Python 3 (ipykernel)",
   "language": "python",
   "name": "python3"
  },
  "language_info": {
   "codemirror_mode": {
    "name": "ipython",
    "version": 3
   },
   "file_extension": ".py",
   "mimetype": "text/x-python",
   "name": "python",
   "nbconvert_exporter": "python",
   "pygments_lexer": "ipython3",
   "version": "3.11.7"
  }
 },
 "nbformat": 4,
 "nbformat_minor": 5
}
