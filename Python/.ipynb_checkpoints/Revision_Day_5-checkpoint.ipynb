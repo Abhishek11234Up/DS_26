{
 "cells": [
  {
   "cell_type": "code",
   "execution_count": 1,
   "id": "3603d458-9be2-4aa9-991d-ef6329978c4f",
   "metadata": {},
   "outputs": [],
   "source": [
    "import sys"
   ]
  },
  {
   "cell_type": "code",
   "execution_count": 2,
   "id": "c16bf66a-3279-4db2-9979-5b7f62df3bbc",
   "metadata": {},
   "outputs": [
    {
     "name": "stdout",
     "output_type": "stream",
     "text": [
      "3.11.7 | packaged by Anaconda, Inc. | (main, Dec 15 2023, 18:05:47) [MSC v.1916 64 bit (AMD64)]\n"
     ]
    }
   ],
   "source": [
    "print(sys.version)"
   ]
  },
  {
   "cell_type": "code",
   "execution_count": 4,
   "id": "23e8926b-27ad-417b-b569-c27925d10db0",
   "metadata": {},
   "outputs": [
    {
     "name": "stdout",
     "output_type": "stream",
     "text": [
      "Hello World!\n"
     ]
    }
   ],
   "source": [
    "print(\"Hello World!\")"
   ]
  },
  {
   "cell_type": "code",
   "execution_count": 5,
   "id": "903cde1d-5011-46fc-892d-3ce83feb8083",
   "metadata": {},
   "outputs": [
    {
     "data": {
      "text/plain": [
       "3"
      ]
     },
     "execution_count": 5,
     "metadata": {},
     "output_type": "execute_result"
    }
   ],
   "source": [
    "1+2"
   ]
  },
  {
   "cell_type": "code",
   "execution_count": 6,
   "id": "4975f742-970f-42a5-affd-381088f46736",
   "metadata": {},
   "outputs": [
    {
     "data": {
      "text/plain": [
       "-1"
      ]
     },
     "execution_count": 6,
     "metadata": {},
     "output_type": "execute_result"
    }
   ],
   "source": [
    "1-2"
   ]
  },
  {
   "cell_type": "code",
   "execution_count": 7,
   "id": "2ecfdb5b-4496-4656-9a70-6c514739c51d",
   "metadata": {},
   "outputs": [
    {
     "data": {
      "text/plain": [
       "8"
      ]
     },
     "execution_count": 7,
     "metadata": {},
     "output_type": "execute_result"
    }
   ],
   "source": [
    "2*4"
   ]
  },
  {
   "cell_type": "code",
   "execution_count": 8,
   "id": "390ddea8-7eb5-461e-9e11-113ffccb0134",
   "metadata": {},
   "outputs": [
    {
     "data": {
      "text/plain": [
       "2.0"
      ]
     },
     "execution_count": 8,
     "metadata": {},
     "output_type": "execute_result"
    }
   ],
   "source": [
    "4/2"
   ]
  },
  {
   "cell_type": "code",
   "execution_count": 9,
   "id": "a1c04cfe-9bc0-4967-859b-388b385e6786",
   "metadata": {},
   "outputs": [
    {
     "name": "stdout",
     "output_type": "stream",
     "text": [
      "What is your name?\n"
     ]
    }
   ],
   "source": [
    "print(\"What is your name?\")"
   ]
  },
  {
   "cell_type": "code",
   "execution_count": 10,
   "id": "c765a31d-0b84-4c2f-ab98-1cc99b999f5d",
   "metadata": {},
   "outputs": [
    {
     "name": "stdin",
     "output_type": "stream",
     "text": [
      "What is your name?  Amit\n"
     ]
    },
    {
     "data": {
      "text/plain": [
       "'Amit'"
      ]
     },
     "execution_count": 10,
     "metadata": {},
     "output_type": "execute_result"
    }
   ],
   "source": [
    "input(\"What is your name? \")"
   ]
  },
  {
   "cell_type": "code",
   "execution_count": 11,
   "id": "f502a51f-b04b-4632-89ee-51e24ae357a9",
   "metadata": {},
   "outputs": [
    {
     "name": "stdin",
     "output_type": "stream",
     "text": [
      "What is your name?  Amit\n"
     ]
    },
    {
     "name": "stdout",
     "output_type": "stream",
     "text": [
      "Hello Amit\n"
     ]
    }
   ],
   "source": [
    "print(\"Hello\", input(\"What is your name? \"))"
   ]
  },
  {
   "cell_type": "code",
   "execution_count": 12,
   "id": "bf39c1eb-cb1d-4a35-988e-15aaaf187de1",
   "metadata": {},
   "outputs": [
    {
     "name": "stdout",
     "output_type": "stream",
     "text": [
      "The Zen of Python, by Tim Peters\n",
      "\n",
      "Beautiful is better than ugly.\n",
      "Explicit is better than implicit.\n",
      "Simple is better than complex.\n",
      "Complex is better than complicated.\n",
      "Flat is better than nested.\n",
      "Sparse is better than dense.\n",
      "Readability counts.\n",
      "Special cases aren't special enough to break the rules.\n",
      "Although practicality beats purity.\n",
      "Errors should never pass silently.\n",
      "Unless explicitly silenced.\n",
      "In the face of ambiguity, refuse the temptation to guess.\n",
      "There should be one-- and preferably only one --obvious way to do it.\n",
      "Although that way may not be obvious at first unless you're Dutch.\n",
      "Now is better than never.\n",
      "Although never is often better than *right* now.\n",
      "If the implementation is hard to explain, it's a bad idea.\n",
      "If the implementation is easy to explain, it may be a good idea.\n",
      "Namespaces are one honking great idea -- let's do more of those!\n"
     ]
    }
   ],
   "source": [
    "import this"
   ]
  },
  {
   "cell_type": "code",
   "execution_count": 15,
   "id": "a5e533eb-a515-4589-888f-e181650b6b67",
   "metadata": {},
   "outputs": [
    {
     "name": "stdout",
     "output_type": "stream",
     "text": [
      "Dekh rahe ho kaise kaam chl rha h\n"
     ]
    }
   ],
   "source": [
    "# Ctrl + /\n",
    "# single line comment\n",
    "# Beautiful is better than ugly.\n",
    "# Explicit is better than implicit.\n",
    "# Simple is better than complex.\n",
    "# Complex is better than complicated.\n",
    "# Flat is better than nested.\n",
    "# Sparse is better than dense.\n",
    "# Namespaces are one honking great idea -- let's do more of those!\n",
    "\n",
    "'''Now is better than never.\n",
    "Although never is often better than *right* now.\n",
    "If the implementation is hard to explain, it's a bad idea.\n",
    "If the implementation is easy to explain, it may be a good idea.\n",
    "Namespaces are one honking great idea -- let's do more of those!'''\n",
    "\n",
    "print(\"Dekh rahe ho kaise kaam chl rha h\")"
   ]
  },
  {
   "cell_type": "code",
   "execution_count": 16,
   "id": "67faa41c-dc67-4661-8623-29b90fb75db8",
   "metadata": {},
   "outputs": [],
   "source": [
    "# Variable --> It is a container which hold some value inside our computer's memory.\n",
    "\n",
    "My_num = 9898787434"
   ]
  },
  {
   "cell_type": "code",
   "execution_count": 17,
   "id": "92a91b11-bb19-405f-89a2-ff74eeb37282",
   "metadata": {},
   "outputs": [
    {
     "name": "stdout",
     "output_type": "stream",
     "text": [
      "9898787434\n"
     ]
    }
   ],
   "source": [
    "print(My_num)"
   ]
  },
  {
   "cell_type": "code",
   "execution_count": 18,
   "id": "7b444f2b-d508-4f62-8066-da17bd915809",
   "metadata": {},
   "outputs": [],
   "source": [
    "My_num = 7728041227"
   ]
  },
  {
   "cell_type": "code",
   "execution_count": 19,
   "id": "5e4148e6-96bb-4358-975d-31003099e2a6",
   "metadata": {},
   "outputs": [
    {
     "name": "stdout",
     "output_type": "stream",
     "text": [
      "7728041227\n"
     ]
    }
   ],
   "source": [
    "print(My_num)"
   ]
  },
  {
   "cell_type": "code",
   "execution_count": 20,
   "id": "b84be9aa-5c3a-421a-b5d3-9eb45c228d0d",
   "metadata": {},
   "outputs": [
    {
     "name": "stdout",
     "output_type": "stream",
     "text": [
      "2094197125680\n"
     ]
    }
   ],
   "source": [
    "# method/function/properties -- > id() -- to get the location of variable\n",
    "print(id(My_num))"
   ]
  },
  {
   "cell_type": "code",
   "execution_count": 21,
   "id": "19aab8e2-da34-43d2-a4bb-3c042a375604",
   "metadata": {},
   "outputs": [
    {
     "name": "stdout",
     "output_type": "stream",
     "text": [
      "<class 'int'>\n"
     ]
    }
   ],
   "source": [
    "print(type(My_num))"
   ]
  },
  {
   "cell_type": "code",
   "execution_count": 22,
   "id": "3afd087f-2bc5-412c-a6d1-d57f89ce7095",
   "metadata": {},
   "outputs": [],
   "source": [
    "name = \"Amit\""
   ]
  },
  {
   "cell_type": "code",
   "execution_count": 23,
   "id": "7a40d6cf-bc48-4a60-bc48-789bae640a2b",
   "metadata": {},
   "outputs": [
    {
     "name": "stdout",
     "output_type": "stream",
     "text": [
      "<class 'str'>\n"
     ]
    }
   ],
   "source": [
    "print(type(name))"
   ]
  },
  {
   "cell_type": "code",
   "execution_count": 24,
   "id": "47d6add1-7a24-4ba3-ab2b-ece992d226c1",
   "metadata": {},
   "outputs": [],
   "source": [
    "a,b,c = 1,1.5,\"d\""
   ]
  },
  {
   "cell_type": "code",
   "execution_count": 25,
   "id": "fd224cad-8708-4e13-9693-adec9d5bd6f6",
   "metadata": {},
   "outputs": [
    {
     "data": {
      "text/plain": [
       "1"
      ]
     },
     "execution_count": 25,
     "metadata": {},
     "output_type": "execute_result"
    }
   ],
   "source": [
    "# Not recommended\n",
    "a"
   ]
  },
  {
   "cell_type": "code",
   "execution_count": 26,
   "id": "215b34d0-fb6d-4cc2-975a-45304267c126",
   "metadata": {},
   "outputs": [
    {
     "data": {
      "text/plain": [
       "1.5"
      ]
     },
     "execution_count": 26,
     "metadata": {},
     "output_type": "execute_result"
    }
   ],
   "source": [
    "b"
   ]
  },
  {
   "cell_type": "code",
   "execution_count": 27,
   "id": "a3c4ce2f-ecb4-425d-883a-93bc1bb99341",
   "metadata": {},
   "outputs": [
    {
     "data": {
      "text/plain": [
       "'d'"
      ]
     },
     "execution_count": 27,
     "metadata": {},
     "output_type": "execute_result"
    }
   ],
   "source": [
    "c"
   ]
  },
  {
   "cell_type": "code",
   "execution_count": 29,
   "id": "2882686e-3f95-4ea1-98ec-596cec046151",
   "metadata": {},
   "outputs": [],
   "source": [
    "a,b,c = 1,1.5,\"d\""
   ]
  },
  {
   "cell_type": "code",
   "execution_count": 30,
   "id": "506cdbee-43c2-4976-a6dd-53d218ccf6d3",
   "metadata": {},
   "outputs": [
    {
     "name": "stdout",
     "output_type": "stream",
     "text": [
      "1.5\n"
     ]
    }
   ],
   "source": [
    "# Best Practice\n",
    "print(b)"
   ]
  }
 ],
 "metadata": {
  "kernelspec": {
   "display_name": "Python 3 (ipykernel)",
   "language": "python",
   "name": "python3"
  },
  "language_info": {
   "codemirror_mode": {
    "name": "ipython",
    "version": 3
   },
   "file_extension": ".py",
   "mimetype": "text/x-python",
   "name": "python",
   "nbconvert_exporter": "python",
   "pygments_lexer": "ipython3",
   "version": "3.11.7"
  }
 },
 "nbformat": 4,
 "nbformat_minor": 5
}
