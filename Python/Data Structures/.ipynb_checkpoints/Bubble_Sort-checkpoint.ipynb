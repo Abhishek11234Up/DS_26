{
 "cells": [
  {
   "cell_type": "code",
   "execution_count": 13,
   "id": "c6ca5e00-83d5-47d3-8c26-a67d4138c09f",
   "metadata": {},
   "outputs": [],
   "source": [
    "list_2 = [12, 13, 10, 9, 45, 8, 6, 0]"
   ]
  },
  {
   "cell_type": "code",
   "execution_count": 5,
   "id": "cb9f8002-ad56-4c98-b43d-0686e25774c4",
   "metadata": {},
   "outputs": [
    {
     "data": {
      "text/plain": [
       "8"
      ]
     },
     "execution_count": 5,
     "metadata": {},
     "output_type": "execute_result"
    }
   ],
   "source": [
    "len(list_2)"
   ]
  },
  {
   "cell_type": "code",
   "execution_count": 6,
   "id": "6741142b-00f8-4f95-a2da-b62a7e17a330",
   "metadata": {},
   "outputs": [],
   "source": [
    "import sys"
   ]
  },
  {
   "cell_type": "code",
   "execution_count": 7,
   "id": "12503748-6e24-43cf-9acc-4787a1ce47bb",
   "metadata": {},
   "outputs": [
    {
     "data": {
      "text/plain": [
       "120"
      ]
     },
     "execution_count": 7,
     "metadata": {},
     "output_type": "execute_result"
    }
   ],
   "source": [
    "sys.getsizeof(list_2)"
   ]
  },
  {
   "cell_type": "code",
   "execution_count": 8,
   "id": "ca74b3b8-80fd-4896-8bbc-523d09d5900e",
   "metadata": {},
   "outputs": [
    {
     "data": {
      "text/plain": [
       "28"
      ]
     },
     "execution_count": 8,
     "metadata": {},
     "output_type": "execute_result"
    }
   ],
   "source": [
    "sys.getsizeof(list_2[0])"
   ]
  },
  {
   "cell_type": "code",
   "execution_count": 9,
   "id": "52586e22-bd97-42e3-86ca-4877a91a4fa6",
   "metadata": {},
   "outputs": [
    {
     "data": {
      "text/plain": [
       "28"
      ]
     },
     "execution_count": 9,
     "metadata": {},
     "output_type": "execute_result"
    }
   ],
   "source": [
    "sys.getsizeof(list_2[-1])"
   ]
  },
  {
   "cell_type": "code",
   "execution_count": 10,
   "id": "705fc2bb-487f-47f0-a1fa-e8dde342ef8f",
   "metadata": {},
   "outputs": [
    {
     "data": {
      "text/plain": [
       "224"
      ]
     },
     "execution_count": 10,
     "metadata": {},
     "output_type": "execute_result"
    }
   ],
   "source": [
    "28 * 8"
   ]
  },
  {
   "cell_type": "code",
   "execution_count": 11,
   "id": "0d541483-3a1d-4b0b-a677-4f78fde022d4",
   "metadata": {},
   "outputs": [
    {
     "data": {
      "text/plain": [
       "28"
      ]
     },
     "execution_count": 11,
     "metadata": {},
     "output_type": "execute_result"
    }
   ],
   "source": [
    "sys.getsizeof(list_2[2])"
   ]
  },
  {
   "cell_type": "code",
   "execution_count": 12,
   "id": "cc695c70-38e7-4450-80ff-7c35c7c1f50c",
   "metadata": {},
   "outputs": [
    {
     "name": "stdout",
     "output_type": "stream",
     "text": [
      "88\n"
     ]
    }
   ],
   "source": [
    "c_tuple = (1, 2, 3)\n",
    "c = list(c_tuple)\n",
    "print(sys.getsizeof(c))"
   ]
  },
  {
   "cell_type": "code",
   "execution_count": 14,
   "id": "8d4819af-6bb8-4517-b6b3-364cd79fbbf8",
   "metadata": {},
   "outputs": [
    {
     "name": "stdout",
     "output_type": "stream",
     "text": [
      "Sorted array: [0, 6, 8, 9, 10, 12, 13, 45]\n"
     ]
    }
   ],
   "source": [
    "my_array = [12, 13, 10, 9, 45, 8, 6, 0]\n",
    "n = len(my_array)\n",
    "for i in range(n-1):\n",
    "    for j in range(n-i-1):\n",
    "        if my_array[j] > my_array[j+1]:\n",
    "            my_array[j], my_array[j+1] = my_array[j+1], my_array[j]\n",
    "\n",
    "print(\"Sorted array:\", my_array)"
   ]
  },
  {
   "cell_type": "code",
   "execution_count": 15,
   "id": "85af1cef-03ba-4fe7-815a-a5255bfed5ff",
   "metadata": {},
   "outputs": [
    {
     "name": "stdout",
     "output_type": "stream",
     "text": [
      "Sorted array: [3, 7, 9, 11, 12]\n"
     ]
    }
   ],
   "source": [
    "my_array = [7, 3, 9, 12, 11]\n",
    "\n",
    "n = len(my_array)\n",
    "for i in range(n-1):\n",
    "    swapped = False\n",
    "    for j in range(n-i-1):\n",
    "        if my_array[j] > my_array[j+1]:\n",
    "            my_array[j], my_array[j+1] = my_array[j+1], my_array[j]\n",
    "            swapped = True\n",
    "    if not swapped:\n",
    "        break\n",
    "\n",
    "print(\"Sorted array:\", my_array)"
   ]
  }
 ],
 "metadata": {
  "kernelspec": {
   "display_name": "Python 3 (ipykernel)",
   "language": "python",
   "name": "python3"
  },
  "language_info": {
   "codemirror_mode": {
    "name": "ipython",
    "version": 3
   },
   "file_extension": ".py",
   "mimetype": "text/x-python",
   "name": "python",
   "nbconvert_exporter": "python",
   "pygments_lexer": "ipython3",
   "version": "3.11.7"
  }
 },
 "nbformat": 4,
 "nbformat_minor": 5
}
