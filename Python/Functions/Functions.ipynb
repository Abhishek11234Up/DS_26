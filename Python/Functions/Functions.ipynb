{
 "cells": [
  {
   "cell_type": "code",
   "execution_count": 1,
   "id": "9715e119-ad3d-40f5-8d70-4f8c670744fe",
   "metadata": {},
   "outputs": [],
   "source": [
    "# Function --> A block/ particular set of code which is written to perform a particular task.---VVI\n",
    "# only runs when it is called --> Hmko chahiye full ijjat.\n",
    "# Example :-"
   ]
  },
  {
   "cell_type": "code",
   "execution_count": 1,
   "id": "26243910-91fa-47b3-a83a-b2eb1e64924d",
   "metadata": {},
   "outputs": [],
   "source": [
    "# At the time of function definition.\n",
    "\n",
    "# def ---> keyword for writing a function.\n",
    "# Function_name --> Name of the function\n",
    "# () ---> Inside these parameters. After this put a colon.\n",
    "# Body of function ---> The Indented block of code which you get after putting a colon in above line. This is something your funvtion is going to do."
   ]
  },
  {
   "cell_type": "code",
   "execution_count": 2,
   "id": "c6b1c167-6530-4e6d-86bf-eb5711e6852e",
   "metadata": {},
   "outputs": [],
   "source": [
    "def square(n):\n",
    "    print(n*n)"
   ]
  },
  {
   "cell_type": "code",
   "execution_count": 3,
   "id": "e9202868-3bb5-4cf4-88e2-56e1e026c1bb",
   "metadata": {},
   "outputs": [
    {
     "name": "stdout",
     "output_type": "stream",
     "text": [
      "25\n"
     ]
    }
   ],
   "source": [
    "# In order to get the output of above written function you need to call it.\n",
    "\n",
    "square(5)"
   ]
  },
  {
   "cell_type": "code",
   "execution_count": 4,
   "id": "5fc3b717-4696-42ce-9777-1c1ea770588b",
   "metadata": {},
   "outputs": [],
   "source": [
    "def sum(a,b):\n",
    "    return a+b\n",
    "    # print(a+b)"
   ]
  },
  {
   "cell_type": "code",
   "execution_count": 5,
   "id": "f0015ea2-6c5b-491d-996f-503243e4b8b6",
   "metadata": {},
   "outputs": [
    {
     "data": {
      "text/plain": [
       "9"
      ]
     },
     "execution_count": 5,
     "metadata": {},
     "output_type": "execute_result"
    }
   ],
   "source": [
    "sum(4,5)"
   ]
  },
  {
   "cell_type": "code",
   "execution_count": 8,
   "id": "f69821b5-8143-4242-aa96-83e31767cc29",
   "metadata": {},
   "outputs": [],
   "source": [
    "# No. of arguments \n",
    "# You will get a error if your uncommented the below line --- Why?\n",
    "# sum(0,3,6)\n",
    "# sum(3)"
   ]
  },
  {
   "cell_type": "code",
   "execution_count": 9,
   "id": "b0ca7dc6-ece8-45b1-aeea-961c3e2bf45d",
   "metadata": {},
   "outputs": [
    {
     "data": {
      "text/plain": [
       "-4"
      ]
     },
     "execution_count": 9,
     "metadata": {},
     "output_type": "execute_result"
    }
   ],
   "source": [
    "sum(-10,6)"
   ]
  },
  {
   "cell_type": "markdown",
   "id": "8a703fe3-cc0a-4259-9d58-03f86569e92b",
   "metadata": {},
   "source": [
    "## A parameter is the variable listed inside the parentheses in the function definition. -- Declared at the time of defining a function.\n",
    "\n",
    "## def ---> keyword to define a function\n",
    "## when you call a function at that time whatever the value you're passing inside a function that is called arguments-- args.\n",
    "## An argument is the value that is sent to the function when it is called."
   ]
  },
  {
   "cell_type": "code",
   "execution_count": 10,
   "id": "0cd56827-eb19-4757-897d-b7858c1179f4",
   "metadata": {},
   "outputs": [
    {
     "name": "stdout",
     "output_type": "stream",
     "text": [
      "The youngest child is Linus\n"
     ]
    }
   ],
   "source": [
    "# When we don't know how many no. of args are there.\n",
    "def my_function(*kids):\n",
    "  print(\"The youngest child is \" + kids[2])\n",
    "\n",
    "my_function(\"Emil\", \"Tobias\", \"Linus\")"
   ]
  },
  {
   "cell_type": "code",
   "execution_count": 11,
   "id": "1f6f1326-2b97-49e8-a977-85d01ea6c88d",
   "metadata": {},
   "outputs": [
    {
     "name": "stdout",
     "output_type": "stream",
     "text": [
      "The youngest child is Linus\n"
     ]
    }
   ],
   "source": [
    "def my_function(child3, child2, child1):\n",
    "  print(\"The youngest child is \" + child3)\n",
    "\n",
    "my_function(child1 = \"Emil\", child2 = \"Tobias\", child3 = \"Linus\")"
   ]
  },
  {
   "cell_type": "code",
   "execution_count": 12,
   "id": "0377a34d-f416-4005-a72a-f9cffa64105b",
   "metadata": {},
   "outputs": [],
   "source": [
    "def my_function(country = \"Norway\"):\n",
    "  print(\"I am from \" + country)"
   ]
  },
  {
   "cell_type": "code",
   "execution_count": 13,
   "id": "bd7f7544-4210-402c-b8d7-905058bcee77",
   "metadata": {},
   "outputs": [
    {
     "name": "stdout",
     "output_type": "stream",
     "text": [
      "I am from Sweden\n",
      "I am from India\n",
      "I am from Brazil\n"
     ]
    }
   ],
   "source": [
    "my_function(\"Sweden\")\n",
    "my_function(\"India\")\n",
    "my_function(\"Brazil\")"
   ]
  },
  {
   "cell_type": "code",
   "execution_count": 14,
   "id": "8d79e3fb-ea85-4063-9686-db91d3057333",
   "metadata": {},
   "outputs": [
    {
     "name": "stdout",
     "output_type": "stream",
     "text": [
      "I am from Norway\n"
     ]
    }
   ],
   "source": [
    "my_function()"
   ]
  },
  {
   "cell_type": "code",
   "execution_count": 11,
   "id": "0819736b-0381-4249-a02b-22813f27a711",
   "metadata": {},
   "outputs": [
    {
     "name": "stdout",
     "output_type": "stream",
     "text": [
      "apple\n",
      "banana\n",
      "cherry\n",
      "Mai ni khata ye sb\n",
      "\n",
      "Tinde\n",
      "Bottlegaurd\n",
      "BitterGuard\n",
      "Capsicums\n"
     ]
    }
   ],
   "source": [
    "def my_function(food):\n",
    "  for x in food:\n",
    "    print(x)\n",
    "\n",
    "fruits = [\"apple\", \"banana\", \"cherry\"]\n",
    "\n",
    "veg = [\"Tinde\", \"Bottlegaurd\", \"BitterGuard\", \"Capsicums\"]\n",
    "\n",
    "my_function(fruits)\n",
    "\n",
    "print(\"Mai ni khata ye sb\\n\")\n",
    "my_function(veg)"
   ]
  },
  {
   "cell_type": "code",
   "execution_count": 13,
   "id": "31c93e99-993d-4d9d-8add-125fabdb97fd",
   "metadata": {},
   "outputs": [],
   "source": [
    "def my_function(food):\n",
    "    pass"
   ]
  },
  {
   "cell_type": "code",
   "execution_count": 19,
   "id": "8a04dc17-f81b-48c6-bf34-2c98b7bfc6ed",
   "metadata": {},
   "outputs": [
    {
     "name": "stdout",
     "output_type": "stream",
     "text": [
      "1\n",
      "3\n",
      "6\n",
      "10\n",
      "15\n",
      "21\n"
     ]
    },
    {
     "data": {
      "text/plain": [
       "21"
      ]
     },
     "execution_count": 19,
     "metadata": {},
     "output_type": "execute_result"
    }
   ],
   "source": [
    "def tri_recursion(k):\n",
    "  if(k > 0):\n",
    "    result = k + tri_recursion(k - 1)\n",
    "    print(result)\n",
    "  else:\n",
    "    result = 0\n",
    "  return result\n",
    "\n",
    "tri_recursion(6)"
   ]
  },
  {
   "cell_type": "code",
   "execution_count": 22,
   "id": "941d4488-bebd-44c6-9890-cd3e5d39a25c",
   "metadata": {},
   "outputs": [
    {
     "name": "stdout",
     "output_type": "stream",
     "text": [
      "Fibonacci series:\n",
      "0\n",
      "1\n",
      "1\n",
      "2\n",
      "3\n",
      "5\n",
      "8\n",
      "13\n",
      "21\n",
      "34\n",
      "55\n",
      "89\n",
      "144\n",
      "233\n",
      "377\n"
     ]
    }
   ],
   "source": [
    "# Program to print the fibonacci series upto n_terms\n",
    "\n",
    "# Recursive function\n",
    "def recursive_fibonacci(n):\n",
    "    if n <= 1:\n",
    "    \treturn n\n",
    "    else:\n",
    "    \treturn(recursive_fibonacci(n-1) + recursive_fibonacci(n-2))\n",
    "\n",
    "n_terms = 15\n",
    "\n",
    "# check if the number of terms is valid\n",
    "if n_terms <= 0:\n",
    "    print(\"Invalid input ! Please input a positive value\")\n",
    "else:\n",
    "    print(\"Fibonacci series:\")\n",
    "for i in range(n_terms):\n",
    "\tprint(recursive_fibonacci(i))\n"
   ]
  },
  {
   "cell_type": "code",
   "execution_count": 23,
   "id": "77e6eeb9-2609-487d-862f-7879ae7701ec",
   "metadata": {},
   "outputs": [
    {
     "name": "stdout",
     "output_type": "stream",
     "text": [
      "15\n"
     ]
    }
   ],
   "source": [
    "x = lambda a : a + 10\n",
    "print(x(5))"
   ]
  },
  {
   "cell_type": "code",
   "execution_count": 25,
   "id": "58c69903-2c47-4572-ae35-1e0d0e8d3814",
   "metadata": {},
   "outputs": [
    {
     "name": "stdin",
     "output_type": "stream",
     "text": [
      "Enter a number:  5\n"
     ]
    },
    {
     "name": "stdout",
     "output_type": "stream",
     "text": [
      "The factorial of 5 is : 120\n"
     ]
    }
   ],
   "source": [
    "n = int(input(\"Enter a number: \"))\n",
    "\n",
    "def factorial(n):\n",
    "    if n == 0 or n == 1:\n",
    "        return 1\n",
    "    else :\n",
    "        return n * factorial(n-1)\n",
    "    \n",
    "result = factorial(n)\n",
    "\n",
    "print(f\"The factorial of {n} is : {result}\")"
   ]
  }
 ],
 "metadata": {
  "kernelspec": {
   "display_name": "Python 3 (ipykernel)",
   "language": "python",
   "name": "python3"
  },
  "language_info": {
   "codemirror_mode": {
    "name": "ipython",
    "version": 3
   },
   "file_extension": ".py",
   "mimetype": "text/x-python",
   "name": "python",
   "nbconvert_exporter": "python",
   "pygments_lexer": "ipython3",
   "version": "3.11.7"
  }
 },
 "nbformat": 4,
 "nbformat_minor": 5
}
