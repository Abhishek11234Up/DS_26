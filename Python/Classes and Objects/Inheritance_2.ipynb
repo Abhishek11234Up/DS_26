{
 "cells": [
  {
   "cell_type": "markdown",
   "id": "06346a70-c124-4da5-8e15-c5ff7543cbfd",
   "metadata": {},
   "source": [
    "## Python Inheritance Syntaxdy}"
   ]
  },
  {
   "cell_type": "code",
   "execution_count": 1,
   "id": "aa5c7762-74f8-4b55-b5a3-465211f14fae",
   "metadata": {},
   "outputs": [],
   "source": [
    "# Class BaseClass:\n",
    "     # {Body}\n",
    "# Class DerivedClass(BaseClass):\n",
    "    # {Body}"
   ]
  },
  {
   "cell_type": "code",
   "execution_count": 3,
   "id": "8a7639e7-8edc-4c95-ad47-fa78b1c1fdb5",
   "metadata": {},
   "outputs": [
    {
     "name": "stdout",
     "output_type": "stream",
     "text": [
      "Satyam 102\n"
     ]
    }
   ],
   "source": [
    "# Creating a parent class\n",
    "# A Python program to demonstrate inheritance\n",
    "class Person(object):\n",
    "\n",
    "# Constructor\n",
    "    def __init__(self, name, id):\n",
    "    \tself.name = name\n",
    "    \tself.id = id\n",
    "\n",
    "# To check if this person is an employee\n",
    "    def Display(self):\n",
    "    \tprint(self.name, self.id)\n",
    "\n",
    "\n",
    "# Driver code\n",
    "emp = Person(\"Satyam\", 102) # An Object of Person\n",
    "emp.Display()\n"
   ]
  },
  {
   "cell_type": "code",
   "execution_count": 5,
   "id": "4f8af0c7-2b3c-447b-9b0b-4912ede3718d",
   "metadata": {},
   "outputs": [
    {
     "name": "stdout",
     "output_type": "stream",
     "text": [
      "Mayank 103\n",
      "Emp class called\n"
     ]
    }
   ],
   "source": [
    "# Creating a child class\n",
    "\n",
    "class Emp(Person):\n",
    "\n",
    "    def Print(self):\n",
    "    \tprint(\"Emp class called\")\n",
    "\t\n",
    "Emp_details = Emp(\"Mayank\", 103)\n",
    "\n",
    "# calling parent class function\n",
    "Emp_details.Display()\n",
    "\n",
    "# Calling child class function\n",
    "Emp_details.Print()"
   ]
  },
  {
   "cell_type": "code",
   "execution_count": 6,
   "id": "4624ec55-c7aa-4fa0-b36e-72090daf0345",
   "metadata": {},
   "outputs": [
    {
     "name": "stdout",
     "output_type": "stream",
     "text": [
      "Rahul\n",
      "886012\n"
     ]
    }
   ],
   "source": [
    "# Subclassing (Calling constructor of parent class)\n",
    "# A child class needs to identify which class is its parent class. \n",
    "# This can be done by mentioning the parent class name in the definition of the child class. \n",
    "\n",
    "\n",
    "# Python code to demonstrate how parent constructors\n",
    "# are called.\n",
    "\n",
    "# parent class\n",
    "class Person(object):\n",
    "\n",
    "\t# __init__ is known as the constructor\n",
    "\tdef __init__(self, name, idnumber):\n",
    "\t\tself.name = name\n",
    "\t\tself.idnumber = idnumber\n",
    "\n",
    "\tdef display(self):\n",
    "\t\tprint(self.name)\n",
    "\t\tprint(self.idnumber)\n",
    "\n",
    "# child class\n",
    "class Employee(Person):\n",
    "\tdef __init__(self, name, idnumber, salary, post):\n",
    "\t\tself.salary = salary\n",
    "\t\tself.post = post\n",
    "\n",
    "\t\t# invoking the __init__ of the parent class\n",
    "\t\tPerson.__init__(self, name, idnumber)\n",
    "\n",
    "# creation of an object variable or an instance\n",
    "a = Employee('Rahul', 886012, 200000, \"Intern\")\n",
    "\n",
    "# calling a function of the class Person using its instance\n",
    "a.display()\n"
   ]
  },
  {
   "cell_type": "code",
   "execution_count": 7,
   "id": "0f217299-cebc-4544-a917-33be321a06c0",
   "metadata": {},
   "outputs": [
    {
     "ename": "AttributeError",
     "evalue": "'B' object has no attribute 'name'",
     "output_type": "error",
     "traceback": [
      "\u001b[1;31m---------------------------------------------------------------------------\u001b[0m",
      "\u001b[1;31mAttributeError\u001b[0m                            Traceback (most recent call last)",
      "Cell \u001b[1;32mIn[7], line 10\u001b[0m\n\u001b[0;32m      7\u001b[0m \t\t\u001b[38;5;28mself\u001b[39m\u001b[38;5;241m.\u001b[39mroll \u001b[38;5;241m=\u001b[39m roll\n\u001b[0;32m      9\u001b[0m \u001b[38;5;28mobject\u001b[39m \u001b[38;5;241m=\u001b[39m B(\u001b[38;5;241m23\u001b[39m)\n\u001b[1;32m---> 10\u001b[0m \u001b[38;5;28mprint\u001b[39m(\u001b[38;5;28mobject\u001b[39m\u001b[38;5;241m.\u001b[39mname)\n",
      "\u001b[1;31mAttributeError\u001b[0m: 'B' object has no attribute 'name'"
     ]
    }
   ],
   "source": [
    "class A:\n",
    "\tdef __init__(self, n='Rahul'):\n",
    "\t\tself.name = n\n",
    "\n",
    "class B(A):\n",
    "\tdef __init__(self, roll):\n",
    "\t\tself.roll = roll\n",
    "\n",
    "object = B(23)\n",
    "print(object.name)"
   ]
  },
  {
   "cell_type": "code",
   "execution_count": 9,
   "id": "1d59c8b4-cb9e-46cf-9b93-66e094fa8125",
   "metadata": {},
   "outputs": [
    {
     "name": "stdout",
     "output_type": "stream",
     "text": [
      "Rahul 23\n",
      "Mayank 23\n"
     ]
    }
   ],
   "source": [
    "# parent class\n",
    "class Person():\n",
    "    def __init__(self, name, age):\n",
    "    \tself.name = name\n",
    "    \tself.age = age\n",
    "\n",
    "    def display(self):\n",
    "    \tprint(self.name, self.age)\n",
    "\n",
    "# child class\n",
    "class Student(Person):\n",
    "    def __init__(self, name, age):\n",
    "    \tself.sName = name\n",
    "    \tself.sAge = age\n",
    "\t# inheriting the properties of parent class\n",
    "    \tsuper().__init__(\"Rahul\", age)\n",
    "\n",
    "    def displayInfo(self):\n",
    "    \tprint(self.sName, self.sAge)\n",
    "\n",
    "obj = Student(\"Mayank\", 23)\n",
    "obj.display()\n",
    "obj.displayInfo()\n"
   ]
  },
  {
   "cell_type": "code",
   "execution_count": 10,
   "id": "c844835d-16b9-4be2-a4ed-06138a32224a",
   "metadata": {},
   "outputs": [
    {
     "name": "stdout",
     "output_type": "stream",
     "text": [
      "Rahul 23\n",
      "Mayank 23 16-03-2000\n"
     ]
    }
   ],
   "source": [
    "# Building own properties\n",
    "\n",
    "# parent class\n",
    "class Person():\n",
    "    def __init__(self, name, age):\n",
    "    \tself.name = name\n",
    "    \tself.age = age\n",
    "\n",
    "    def display(self):\n",
    "    \tprint(self.name, self.age)\n",
    "\n",
    "# child class\n",
    "class Student(Person):\n",
    "    def __init__(self, name, age, dob):\n",
    "    \tself.sName = name\n",
    "    \tself.sAge = age\n",
    "    \tself.dob = dob\n",
    "\t# inheriting the properties of parent class\n",
    "    \tsuper().__init__(\"Rahul\", age)\n",
    "\n",
    "    def displayInfo(self):\n",
    "    \tprint(self.sName, self.sAge, self.dob)\n",
    "\n",
    "obj = Student(\"Mayank\", 23, \"16-03-2000\")\n",
    "obj.display()\n",
    "obj.displayInfo()\n"
   ]
  },
  {
   "cell_type": "code",
   "execution_count": 16,
   "id": "11900630-a716-4b7a-8e13-616f7047eb2f",
   "metadata": {},
   "outputs": [
    {
     "name": "stdout",
     "output_type": "stream",
     "text": [
      "Base1\n",
      "Base2\n",
      "Derived\n",
      "Geek1 Geek2\n"
     ]
    }
   ],
   "source": [
    "# Python example to show the working of multiple inheritance\n",
    "\n",
    "class Base1:\n",
    "    def __init__(self):\n",
    "        self.str1 = \"Geek1\"\n",
    "        print(\"Base1\")\n",
    "\n",
    "class Base2:\n",
    "    def __init__(self):\n",
    "        self.str2 = \"Geek2\"\n",
    "        print(\"Base2\")\n",
    "\n",
    "class Derived(Base1, Base2):\n",
    "    def __init__(self):\n",
    "        # Calling constructors of Base1 and Base2 classes\n",
    "        Base1.__init__(self)\n",
    "        Base2.__init__(self)\n",
    "        print(\"Derived\")\n",
    "\n",
    "    def printStrs(self):\n",
    "        print(self.str1, self.str2)\n",
    "\n",
    "# Creating an object of the Derived class\n",
    "ob = Derived()\n",
    "\n",
    "# Calling the printStrs method to print the strings from Base1 and Base2\n",
    "ob.printStrs()\n"
   ]
  },
  {
   "cell_type": "code",
   "execution_count": 18,
   "id": "3885ff94-8696-4d99-bc45-0dda0aaf54f5",
   "metadata": {},
   "outputs": [
    {
     "name": "stdout",
     "output_type": "stream",
     "text": [
      "Geek1 23 Noida\n"
     ]
    }
   ],
   "source": [
    "# A Python program to demonstrate inheritance\n",
    "\n",
    "# Base or Super class. Note object in bracket.\n",
    "# (Generally, object is made ancestor of all classes)\n",
    "# In Python 3.x \"class Person\" is\n",
    "# equivalent to \"class Person(object)\"\n",
    "\n",
    "class Base:\n",
    "\n",
    "\t# Constructor\n",
    "\tdef __init__(self, name):\n",
    "\t\tself.name = name\n",
    "\n",
    "\t# To get name\n",
    "\tdef getName(self):\n",
    "\t\treturn self.name\n",
    "\n",
    "\n",
    "# Inherited or Sub class (Note Person in bracket)\n",
    "class Child(Base):\n",
    "\n",
    "\t# Constructor\n",
    "\tdef __init__(self, name, age):\n",
    "\t\tBase.__init__(self, name)\n",
    "\t\tself.age = age\n",
    "\n",
    "\t# To get name\n",
    "\tdef getAge(self):\n",
    "\t\treturn self.age\n",
    "\n",
    "# Inherited or Sub class (Note Person in bracket)\n",
    "\n",
    "\n",
    "class GrandChild(Child):\n",
    "\n",
    "\t# Constructor\n",
    "\tdef __init__(self, name, age, address):\n",
    "\t\tChild.__init__(self, name, age)\n",
    "\t\tself.address = address\n",
    "\n",
    "\t# To get address\n",
    "\tdef getAddress(self):\n",
    "\t\treturn self.address\n",
    "\n",
    "\n",
    "# Driver code\n",
    "g = GrandChild(\"Geek1\", 23, \"Noida\")\n",
    "print(g.getName(), g.getAge(), g.getAddress())\n"
   ]
  },
  {
   "cell_type": "code",
   "execution_count": 19,
   "id": "3283c85d-eadc-4410-84f4-3000d685520e",
   "metadata": {},
   "outputs": [
    {
     "name": "stdout",
     "output_type": "stream",
     "text": [
      "This function is in parent class.\n",
      "This function is in child class.\n"
     ]
    }
   ],
   "source": [
    "# Python program to demonstrate\n",
    "# single inheritance\n",
    "\n",
    "# Base class\n",
    "class Parent:\n",
    "\tdef func1(self):\n",
    "\t\tprint(\"This function is in parent class.\")\n",
    "\n",
    "# Derived class\n",
    "\n",
    "\n",
    "class Child(Parent):\n",
    "\tdef func2(self):\n",
    "\t\tprint(\"This function is in child class.\")\n",
    "\n",
    "\n",
    "# Driver's code\n",
    "object = Child()\n",
    "object.func1()\n",
    "object.func2()\n"
   ]
  },
  {
   "cell_type": "code",
   "execution_count": 20,
   "id": "4a0a2d78-683d-4cb2-a33a-69ad10a2ed91",
   "metadata": {},
   "outputs": [
    {
     "name": "stdout",
     "output_type": "stream",
     "text": [
      "Father : RAM\n",
      "Mother : SITA\n"
     ]
    }
   ],
   "source": [
    "# Python program to demonstrate\n",
    "# multiple inheritance\n",
    "\n",
    "# Base class1\n",
    "class Mother:\n",
    "\tmothername = \"\"\n",
    "\n",
    "\tdef mother(self):\n",
    "\t\tprint(self.mothername)\n",
    "\n",
    "# Base class2\n",
    "\n",
    "\n",
    "class Father:\n",
    "\tfathername = \"\"\n",
    "\n",
    "\tdef father(self):\n",
    "\t\tprint(self.fathername)\n",
    "\n",
    "# Derived class\n",
    "\n",
    "\n",
    "class Son(Mother, Father):\n",
    "\tdef parents(self):\n",
    "\t\tprint(\"Father :\", self.fathername)\n",
    "\t\tprint(\"Mother :\", self.mothername)\n",
    "\n",
    "\n",
    "# Driver's code\n",
    "s1 = Son()\n",
    "s1.fathername = \"RAM\"\n",
    "s1.mothername = \"SITA\"\n",
    "s1.parents()"
   ]
  },
  {
   "cell_type": "code",
   "execution_count": 21,
   "id": "d1c06f85-c436-4d51-89fc-04ddd391400d",
   "metadata": {},
   "outputs": [
    {
     "name": "stdout",
     "output_type": "stream",
     "text": [
      "Lal mani\n",
      "Grandfather name : Lal mani\n",
      "Father name : Rampal\n",
      "Son name : Prince\n"
     ]
    }
   ],
   "source": [
    "# Python program to demonstrate\n",
    "# multilevel inheritance\n",
    "\n",
    "# Base class\n",
    "\n",
    "\n",
    "class Grandfather:\n",
    "\n",
    "\tdef __init__(self, grandfathername):\n",
    "\t\tself.grandfathername = grandfathername\n",
    "\n",
    "# Intermediate class\n",
    "\n",
    "\n",
    "class Father(Grandfather):\n",
    "\tdef __init__(self, fathername, grandfathername):\n",
    "\t\tself.fathername = fathername\n",
    "\n",
    "\t\t# invoking constructor of Grandfather class\n",
    "\t\tGrandfather.__init__(self, grandfathername)\n",
    "\n",
    "# Derived class\n",
    "\n",
    "\n",
    "class Son(Father):\n",
    "\tdef __init__(self, sonname, fathername, grandfathername):\n",
    "\t\tself.sonname = sonname\n",
    "\n",
    "\t\t# invoking constructor of Father class\n",
    "\t\tFather.__init__(self, fathername, grandfathername)\n",
    "\n",
    "\tdef print_name(self):\n",
    "\t\tprint('Grandfather name :', self.grandfathername)\n",
    "\t\tprint(\"Father name :\", self.fathername)\n",
    "\t\tprint(\"Son name :\", self.sonname)\n",
    "\n",
    "\n",
    "# Driver code\n",
    "s1 = Son('Prince', 'Rampal', 'Lal mani')\n",
    "print(s1.grandfathername)\n",
    "s1.print_name()"
   ]
  },
  {
   "cell_type": "code",
   "execution_count": 22,
   "id": "82dcab1c-00de-4d40-b0ee-5faaf0bd080a",
   "metadata": {},
   "outputs": [
    {
     "name": "stdout",
     "output_type": "stream",
     "text": [
      "This function is in parent class.\n",
      "This function is in child 1.\n",
      "This function is in parent class.\n",
      "This function is in child 2.\n"
     ]
    }
   ],
   "source": [
    "# Python program to demonstrate\n",
    "# Hierarchical inheritance\n",
    "\n",
    "\n",
    "# Base class\n",
    "class Parent:\n",
    "\tdef func1(self):\n",
    "\t\tprint(\"This function is in parent class.\")\n",
    "\n",
    "# Derived class1\n",
    "\n",
    "\n",
    "class Child1(Parent):\n",
    "\tdef func2(self):\n",
    "\t\tprint(\"This function is in child 1.\")\n",
    "\n",
    "# Derivied class2\n",
    "\n",
    "\n",
    "class Child2(Parent):\n",
    "\tdef func3(self):\n",
    "\t\tprint(\"This function is in child 2.\")\n",
    "\n",
    "\n",
    "# Driver's code\n",
    "object1 = Child1()\n",
    "object2 = Child2()\n",
    "object1.func1()\n",
    "object1.func2()\n",
    "object2.func1()\n",
    "object2.func3()\n"
   ]
  },
  {
   "cell_type": "code",
   "execution_count": 23,
   "id": "ada4cb38-f6f9-463f-8287-d41dae2d48ef",
   "metadata": {},
   "outputs": [
    {
     "name": "stdout",
     "output_type": "stream",
     "text": [
      "This function is in school.\n",
      "This function is in student 1. \n"
     ]
    }
   ],
   "source": [
    "# Python program to demonstrate\n",
    "# hybrid inheritance\n",
    "\n",
    "\n",
    "class School:\n",
    "\tdef func1(self):\n",
    "\t\tprint(\"This function is in school.\")\n",
    "\n",
    "\n",
    "class Student1(School):\n",
    "\tdef func2(self):\n",
    "\t\tprint(\"This function is in student 1. \")\n",
    "\n",
    "\n",
    "class Student2(School):\n",
    "\tdef func3(self):\n",
    "\t\tprint(\"This function is in student 2.\")\n",
    "\n",
    "\n",
    "class Student3(Student1, School):\n",
    "\tdef func4(self):\n",
    "\t\tprint(\"This function is in student 3.\")\n",
    "\n",
    "\n",
    "# Driver's code\n",
    "object = Student3()\n",
    "object.func1()\n",
    "object.func2()\n"
   ]
  },
  {
   "cell_type": "markdown",
   "id": "1ae4cd9a-7427-407d-9f42-ddaaefdef482",
   "metadata": {},
   "source": [
    "## Private members of the parent class --> we can make an instance variable private by adding double underscores before its name."
   ]
  },
  {
   "cell_type": "code",
   "execution_count": 34,
   "id": "c110a191-675a-4513-8c92-d11bd2ce6681",
   "metadata": {},
   "outputs": [
    {
     "name": "stdout",
     "output_type": "stream",
     "text": [
      "21\n"
     ]
    },
    {
     "ename": "AttributeError",
     "evalue": "'D' object has no attribute '__d'",
     "output_type": "error",
     "traceback": [
      "\u001b[1;31m---------------------------------------------------------------------------\u001b[0m",
      "\u001b[1;31mAttributeError\u001b[0m                            Traceback (most recent call last)",
      "Cell \u001b[1;32mIn[34], line 21\u001b[0m\n\u001b[0;32m     19\u001b[0m \u001b[38;5;66;03m# produces an error as d is private instance variable\u001b[39;00m\n\u001b[0;32m     20\u001b[0m \u001b[38;5;28mprint\u001b[39m(object1\u001b[38;5;241m.\u001b[39mc)\n\u001b[1;32m---> 21\u001b[0m \u001b[38;5;28mprint\u001b[39m(object1\u001b[38;5;241m.\u001b[39m__d)\n",
      "\u001b[1;31mAttributeError\u001b[0m: 'D' object has no attribute '__d'"
     ]
    }
   ],
   "source": [
    "# Python program to demonstrate private members\n",
    "# of the parent class\n",
    "\n",
    "class C:\n",
    "\tdef __init__(self):\n",
    "\t\tself.c = 21\n",
    "\n",
    "\t\t# d is private instance variable\n",
    "\t\tself.__d = 42\n",
    "\n",
    "\n",
    "class D(C):\n",
    "\tdef __init__(self):\n",
    "\t\tself.e = 84\n",
    "\t\tC.__init__(self)\n",
    "\n",
    "object1 = D()\n",
    "\n",
    "# produces an error as d is private instance variable\n",
    "print(object1.c)\n",
    "print(object1.__d)\n"
   ]
  },
  {
   "cell_type": "code",
   "execution_count": 33,
   "id": "f21e13cd-9ba9-4771-beac-ee47864114cb",
   "metadata": {},
   "outputs": [
    {
     "name": "stdout",
     "output_type": "stream",
     "text": [
      "21\n",
      "42\n"
     ]
    }
   ],
   "source": [
    "# Python program to demonstrate private members of the parent class\n",
    "\n",
    "class C:\n",
    "    def __init__(self):\n",
    "        self.c = 21\n",
    "        # __d is a private instance variable\n",
    "        self.__d = 42\n",
    "\n",
    "    # Getter method to access the private variable\n",
    "    def get_d(self):\n",
    "        return self.__d\n",
    "\n",
    "class D(C):\n",
    "    def __init__(self):\n",
    "        self.e = 84\n",
    "        # Calling the constructor of the parent class\n",
    "        C.__init__(self)\n",
    "\n",
    "object1 = D()\n",
    "\n",
    "# Accessing the public member\n",
    "print(object1.c)\n",
    "\n",
    "# Attempting to access the private member directly will produce an error\n",
    "# print(object1.__d)  # This line will cause an AttributeError\n",
    "\n",
    "# Correct way to access the private member using a getter method\n",
    "print(object1.get_d())\n"
   ]
  }
 ],
 "metadata": {
  "kernelspec": {
   "display_name": "Python 3 (ipykernel)",
   "language": "python",
   "name": "python3"
  },
  "language_info": {
   "codemirror_mode": {
    "name": "ipython",
    "version": 3
   },
   "file_extension": ".py",
   "mimetype": "text/x-python",
   "name": "python",
   "nbconvert_exporter": "python",
   "pygments_lexer": "ipython3",
   "version": "3.11.7"
  }
 },
 "nbformat": 4,
 "nbformat_minor": 5
}
