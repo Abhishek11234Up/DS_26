{
 "cells": [
  {
   "cell_type": "code",
   "execution_count": 1,
   "id": "8bf58f1a-ee19-406e-9a66-f38096d9dbf5",
   "metadata": {},
   "outputs": [],
   "source": [
    "# A class that contains one or more abstract methods is called an abstract class. \n",
    "# An abstract method is a method that has a declaration but does not have an implementation."
   ]
  },
  {
   "cell_type": "code",
   "execution_count": 10,
   "id": "5a8f7fe7-e973-42e3-bb08-a41d601480d3",
   "metadata": {},
   "outputs": [
    {
     "name": "stdout",
     "output_type": "stream",
     "text": [
      "I have 3 sides\n",
      "I have 4 sides\n",
      "I have 5 sides\n",
      "I have 6 sides\n"
     ]
    }
   ],
   "source": [
    "# Python program showing\n",
    "# abstract base class work\n",
    "import abc\n",
    "from abc import ABC, abstractmethod\n",
    "\n",
    "\n",
    "class Polygon(ABC):\n",
    "\n",
    "    @abstractmethod\n",
    "    def noofsides(self):\n",
    "        pass\n",
    "\n",
    "\n",
    "class Triangle(Polygon):\n",
    "\n",
    "    # overriding abstract method\n",
    "    def noofsides(self):\n",
    "        print(\"I have 3 sides\")\n",
    "\n",
    "\n",
    "class Pentagon(Polygon):\n",
    "\n",
    "    # overriding abstract method\n",
    "    def noofsides(self):\n",
    "        print(\"I have 5 sides\")\n",
    "\n",
    "\n",
    "class Hexagon(Polygon):\n",
    "\n",
    "    # overriding abstract method\n",
    "    def noofsides(self):\n",
    "        print(\"I have 6 sides\")\n",
    "\n",
    "\n",
    "class Quadrilateral(Polygon):\n",
    "\n",
    "    # overriding abstract method\n",
    "    def noofsides(self):\n",
    "        print(\"I have 4 sides\")\n",
    "\n",
    "\n",
    "# Driver code\n",
    "R = Triangle()\n",
    "R.noofsides()\n",
    "\n",
    "K = Quadrilateral()\n",
    "K.noofsides()\n",
    "\n",
    "R = Pentagon()\n",
    "R.noofsides()\n",
    "\n",
    "K = Hexagon()\n",
    "K.noofsides()\n"
   ]
  },
  {
   "cell_type": "code",
   "execution_count": 3,
   "id": "dd3c7b05-63c3-4e6c-8b4f-2534e1e9a627",
   "metadata": {},
   "outputs": [],
   "source": [
    "def a_b(A,B):\n",
    "    pass"
   ]
  },
  {
   "cell_type": "code",
   "execution_count": 5,
   "id": "95ec72b8-5cba-41b3-baa4-5182c9c7e6f1",
   "metadata": {},
   "outputs": [
    {
     "name": "stdout",
     "output_type": "stream",
     "text": [
      "I can walk and run\n",
      "I can crawl\n",
      "I can bark\n",
      "I can roar\n"
     ]
    }
   ],
   "source": [
    "# Python program showing\n",
    "# abstract base class work\n",
    "\n",
    "\n",
    "\n",
    "class Animal(ABC):\n",
    "\n",
    "    def move(self):\n",
    "        pass\n",
    "\n",
    "class Human(Animal):\n",
    "\n",
    "    def move(self):\n",
    "        print(\"I can walk and run\")\n",
    "\n",
    "class Snake(Animal):\n",
    "\n",
    "    def move(self):\n",
    "        print(\"I can crawl\")\n",
    "\n",
    "class Dog(Animal):\n",
    "\n",
    "    def move(self):\n",
    "        print(\"I can bark\")\n",
    "\n",
    "class Lion(Animal):\n",
    "\n",
    "    def move(self):\n",
    "        print(\"I can roar\")\n",
    "\n",
    "# Driver code\n",
    "R = Human()\n",
    "R.move()\n",
    "\n",
    "K = Snake()\n",
    "K.move()\n",
    "\n",
    "R = Dog()\n",
    "R.move()\n",
    "\n",
    "K = Lion()\n",
    "K.move()"
   ]
  },
  {
   "cell_type": "code",
   "execution_count": 7,
   "id": "b1466e36-5d73-477b-ae7c-752edecb0b95",
   "metadata": {},
   "outputs": [
    {
     "name": "stdout",
     "output_type": "stream",
     "text": [
      "True\n",
      "True\n"
     ]
    }
   ],
   "source": [
    "# Python program showing\n",
    "# implementation of abstract\n",
    "# class through subclassing\n",
    "\n",
    "class parent:       \n",
    "    def geeks(self):\n",
    "        pass\n",
    "\n",
    "class child(parent):\n",
    "    def geeks(self):\n",
    "        print(\"child class\")\n",
    "\n",
    "# Driver code\n",
    "print( issubclass(child, parent))\n",
    "print( isinstance(child(), parent))"
   ]
  },
  {
   "cell_type": "code",
   "execution_count": 9,
   "id": "8da4c756-6f5a-4171-bf6f-f940f3bbad42",
   "metadata": {},
   "outputs": [
    {
     "name": "stdout",
     "output_type": "stream",
     "text": [
      "Abstract Base Class\n",
      "subclass \n"
     ]
    }
   ],
   "source": [
    "# Python program invoking a \n",
    "# method using super()\n",
    "\n",
    "class R(ABC):\n",
    "    def rk(self):\n",
    "        # pass\n",
    "        print(\"Abstract Base Class\")\n",
    "\n",
    "class K(R):\n",
    "    def rk(self):\n",
    "        super().rk()\n",
    "        print(\"subclass \")\n",
    "\n",
    "# Driver code\n",
    "r = K()\n",
    "r.rk()\n"
   ]
  },
  {
   "cell_type": "code",
   "execution_count": 11,
   "id": "2d26ed1e-b31e-4f38-a505-2da4f63dfedf",
   "metadata": {},
   "outputs": [
    {
     "name": "stdout",
     "output_type": "stream",
     "text": [
      "Can't instantiate abstract class parent with abstract method geeks\n",
      "child class\n"
     ]
    }
   ],
   "source": [
    "# Python program showing\n",
    "# abstract properties\n",
    "\n",
    "\n",
    "\n",
    "class parent(ABC):\n",
    "    @abc.abstractproperty\n",
    "    def geeks(self):\n",
    "        return \"parent class\"\n",
    "\n",
    "\n",
    "class child(parent):\n",
    "\n",
    "    @property\n",
    "    def geeks(self):\n",
    "        return \"child class\"\n",
    "\n",
    "\n",
    "try:\n",
    "    r = parent()\n",
    "    print(r.geeks)\n",
    "except Exception as err:\n",
    "    print(err)\n",
    "\n",
    "r = child()\n",
    "print(r.geeks)"
   ]
  },
  {
   "cell_type": "code",
   "execution_count": 12,
   "id": "9052155e-a378-45ab-97d6-a98381171d73",
   "metadata": {},
   "outputs": [
    {
     "name": "stdout",
     "output_type": "stream",
     "text": [
      "Calling protected member of base class:  2\n",
      "Calling modified protected member outside class:  3\n",
      "Accessing protected member of obj1:  3\n",
      "Accessing protected member of obj2:  2\n"
     ]
    }
   ],
   "source": [
    "# Python program to \n",
    "# demonstrate protected members \n",
    "\n",
    "# Creating a base class \n",
    "class Base: \n",
    "\tdef __init__(self): \n",
    "\n",
    "\t\t# Protected member \n",
    "\t\tself._a = 2\n",
    "\n",
    "# Creating a derived class \n",
    "class Derived(Base): \n",
    "\tdef __init__(self): \n",
    "\n",
    "\t\t# Calling constructor of \n",
    "\t\t# Base class \n",
    "\t\tBase.__init__(self) \n",
    "\t\tprint(\"Calling protected member of base class: \", \n",
    "\t\t\tself._a) \n",
    "\n",
    "\t\t# Modify the protected variable: \n",
    "\t\tself._a = 3\n",
    "\t\tprint(\"Calling modified protected member outside class: \", \n",
    "\t\t\tself._a) \n",
    "\n",
    "\n",
    "obj1 = Derived() \n",
    "\n",
    "obj2 = Base() \n",
    "\n",
    "# Calling protected member \n",
    "# Can be accessed but should not be done due to convention \n",
    "print(\"Accessing protected member of obj1: \", obj1._a) \n",
    "\n",
    "# Accessing the protected variable outside \n",
    "print(\"Accessing protected member of obj2: \", obj2._a) "
   ]
  },
  {
   "cell_type": "code",
   "execution_count": null,
   "id": "d2d5a38c-7b5f-4ae6-a676-83811cbebb83",
   "metadata": {},
   "outputs": [],
   "source": []
  }
 ],
 "metadata": {
  "kernelspec": {
   "display_name": "Python 3 (ipykernel)",
   "language": "python",
   "name": "python3"
  },
  "language_info": {
   "codemirror_mode": {
    "name": "ipython",
    "version": 3
   },
   "file_extension": ".py",
   "mimetype": "text/x-python",
   "name": "python",
   "nbconvert_exporter": "python",
   "pygments_lexer": "ipython3",
   "version": "3.11.7"
  }
 },
 "nbformat": 4,
 "nbformat_minor": 5
}
