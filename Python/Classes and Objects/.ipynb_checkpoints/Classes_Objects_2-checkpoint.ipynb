{
 "cells": [
  {
   "cell_type": "code",
   "execution_count": 2,
   "id": "f66967cb-b1ef-4b22-98e2-531998b00425",
   "metadata": {},
   "outputs": [
    {
     "name": "stdout",
     "output_type": "stream",
     "text": [
      "mammal\n",
      "I'm a mammal\n",
      "I'm a dog\n"
     ]
    }
   ],
   "source": [
    "# Python3 program to\n",
    "# demonstrate instantiating\n",
    "# a class\n",
    "class Dog:\n",
    "\n",
    "    # A simple class\n",
    "    # attribute\n",
    "    attr1 = \"mammal\"\n",
    "    attr2 = \"dog\"\n",
    "\n",
    "    # A sample method\n",
    "    def fun(self):\n",
    "        print(\"I'm a\", self.attr1)\n",
    "        print(\"I'm a\", self.attr2)\n",
    "\n",
    "\n",
    "# Driver code\n",
    "# Object instantiation\n",
    "Rodger = Dog()\n",
    "\n",
    "# Accessing class attributes\n",
    "# and method through objects\n",
    "print(Rodger.attr1)\n",
    "Rodger.fun()"
   ]
  },
  {
   "cell_type": "markdown",
   "id": "7396f129-ee48-493f-a9c7-8b544f860329",
   "metadata": {},
   "source": [
    "## Defining instance variables using a constructor"
   ]
  },
  {
   "cell_type": "code",
   "execution_count": 3,
   "id": "bcf5b01a-c653-4b6b-87e4-b0233bf83b7a",
   "metadata": {},
   "outputs": [
    {
     "name": "stdout",
     "output_type": "stream",
     "text": [
      "Rodger details:\n",
      "Rodger is a dog\n",
      "Breed:  Pug\n",
      "Color:  brown\n",
      "\n",
      "Buzo details:\n",
      "Buzo is a dog\n",
      "Breed:  Bulldog\n",
      "Color:  black\n",
      "\n",
      "Accessing class variable using class name\n",
      "dog\n"
     ]
    }
   ],
   "source": [
    "# Python3 program to show that the variables with a value\n",
    "# assigned in the class declaration, are class variables and\n",
    "# variables inside methods and constructors are instance\n",
    "# variables.\n",
    "\n",
    "# Class for Dog\n",
    "\n",
    "\n",
    "class Dog:\n",
    "\n",
    "    # Class Variable\n",
    "    animal = 'dog'\n",
    "\n",
    "    # The init method or constructor\n",
    "    def __init__(self, breed, color):\n",
    "\n",
    "        # Instance Variable\n",
    "        self.breed = breed\n",
    "        self.color = color\n",
    "\n",
    "\n",
    "# Objects of Dog class\n",
    "Rodger = Dog(\"Pug\", \"brown\")\n",
    "Buzo = Dog(\"Bulldog\", \"black\")\n",
    "\n",
    "print('Rodger details:')\n",
    "print('Rodger is a', Rodger.animal)\n",
    "print('Breed: ', Rodger.breed)\n",
    "print('Color: ', Rodger.color)\n",
    "\n",
    "print('\\nBuzo details:')\n",
    "print('Buzo is a', Buzo.animal)\n",
    "print('Breed: ', Buzo.breed)\n",
    "print('Color: ', Buzo.color)\n",
    "\n",
    "# Class variables can be accessed using class\n",
    "# name also\n",
    "print(\"\\nAccessing class variable using class name\")\n",
    "print(Dog.animal)"
   ]
  },
  {
   "cell_type": "markdown",
   "id": "9066dbef-ba15-4508-bf24-fbf216973f64",
   "metadata": {},
   "source": [
    "## Defining instance variables using the normal method"
   ]
  },
  {
   "cell_type": "code",
   "execution_count": 4,
   "id": "e534108a-ea20-477b-9a57-251d4eef1e9f",
   "metadata": {},
   "outputs": [
    {
     "name": "stdout",
     "output_type": "stream",
     "text": [
      "brown\n"
     ]
    }
   ],
   "source": [
    "# Python3 program to show that we can create\n",
    "# instance variables inside methods\n",
    "\n",
    "# Class for Dog\n",
    "\n",
    "\n",
    "class Dog:\n",
    "\n",
    "    # Class Variable\n",
    "    animal = 'dog'\n",
    "\n",
    "    # The init method or constructor\n",
    "    def __init__(self, breed):\n",
    "\n",
    "        # Instance Variable\n",
    "        self.breed = breed\n",
    "\n",
    "    # Adds an instance variable\n",
    "    def setColor(self, color):\n",
    "        self.color = color\n",
    "\n",
    "    # Retrieves instance variable\n",
    "    def getColor(self):\n",
    "        return self.color\n",
    "\n",
    "\n",
    "# Driver Code\n",
    "Rodger = Dog(\"pug\")\n",
    "Rodger.setColor(\"brown\")\n",
    "print(Rodger.getColor())"
   ]
  },
  {
   "cell_type": "markdown",
   "id": "887835da-6204-4ba8-ac52-1e92d7fdda70",
   "metadata": {},
   "source": [
    "## Syntax of constructor declaration : \n",
    "\n",
    "### def __init__(self):\r\n",
    "    # body of the constructor"
   ]
  },
  {
   "cell_type": "code",
   "execution_count": 6,
   "id": "68f0082c-4fb2-4ad8-a012-534225955610",
   "metadata": {},
   "outputs": [
    {
     "name": "stdout",
     "output_type": "stream",
     "text": [
      "Bhai Hai Tu Mera\n"
     ]
    }
   ],
   "source": [
    "# Example of default constructor : \n",
    "class Ye_Meri_class:\n",
    "\n",
    "\t# default constructor\n",
    "\tdef __init__(self):\n",
    "\t\tself.me = \"Bhai Hai Tu Mera\"\n",
    "\n",
    "\t# a method for printing data members\n",
    "\tdef print_me(self):\n",
    "\t\tprint(self.me)\n",
    "\n",
    "\n",
    "# creating object of the class\n",
    "obj = Ye_Meri_class()\n",
    "\n",
    "# calling the instance method using the object obj\n",
    "obj.print_me()\n"
   ]
  },
  {
   "cell_type": "code",
   "execution_count": 7,
   "id": "ba1a74ba-43e0-40df-9cab-27471cf72738",
   "metadata": {},
   "outputs": [
    {
     "name": "stdout",
     "output_type": "stream",
     "text": [
      "First number = 1000\n",
      "Second number = 2000\n",
      "Addition of two numbers = 3000\n",
      "First number = 10\n",
      "Second number = 20\n",
      "Addition of two numbers = 30\n"
     ]
    }
   ],
   "source": [
    "# Example of the parameterized constructor : \n",
    "\n",
    "class Addition:\n",
    "\tfirst = 0\n",
    "\tsecond = 0\n",
    "\tanswer = 0\n",
    "\n",
    "\t# parameterized constructor\n",
    "\tdef __init__(self, f, s):\n",
    "\t\tself.first = f\n",
    "\t\tself.second = s\n",
    "\n",
    "\tdef display(self):\n",
    "\t\tprint(\"First number = \" + str(self.first))\n",
    "\t\tprint(\"Second number = \" + str(self.second))\n",
    "\t\tprint(\"Addition of two numbers = \" + str(self.answer))\n",
    "\n",
    "\tdef calculate(self):\n",
    "\t\tself.answer = self.first + self.second\n",
    "\n",
    "\n",
    "# creating object of the class\n",
    "# this will invoke parameterized constructor\n",
    "obj1 = Addition(1000, 2000)\n",
    "\n",
    "# creating second object of same class\n",
    "obj2 = Addition(10, 20)\n",
    "\n",
    "# perform Addition on obj1\n",
    "obj1.calculate()\n",
    "\n",
    "# perform Addition on obj2\n",
    "obj2.calculate()\n",
    "\n",
    "# display result of obj1\n",
    "obj1.display()\n",
    "\n",
    "# display result of obj2\n",
    "obj2.display()\n"
   ]
  },
  {
   "cell_type": "code",
   "execution_count": 8,
   "id": "bfa7b65d-3884-4d9c-b99e-dad4a21c902a",
   "metadata": {},
   "outputs": [
    {
     "name": "stdout",
     "output_type": "stream",
     "text": [
      "Default constructor called\n",
      "Method called without a name\n",
      "Parameterized constructor called with name John\n",
      "Method called with name John\n"
     ]
    }
   ],
   "source": [
    "class MyClass:\n",
    "\tdef __init__(self, name=None):\n",
    "\t\tif name is None:\n",
    "\t\t\tprint(\"Default constructor called\")\n",
    "\t\telse:\n",
    "\t\t\tself.name = name\n",
    "\t\t\tprint(\"Parameterized constructor called with name\", self.name)\n",
    "\t\n",
    "\tdef method(self):\n",
    "\t\tif hasattr(self, 'name'):\n",
    "\t\t\tprint(\"Method called with name\", self.name)\n",
    "\t\telse:\n",
    "\t\t\tprint(\"Method called without a name\")\n",
    "\n",
    "# Create an object of the class using the default constructor\n",
    "obj1 = MyClass()\n",
    "\n",
    "# Call a method of the class\n",
    "obj1.method()\n",
    "\n",
    "# Create an object of the class using the parameterized constructor\n",
    "obj2 = MyClass(\"John\")\n",
    "\n",
    "# Call a method of the class\n",
    "obj2.method()"
   ]
  },
  {
   "cell_type": "markdown",
   "id": "3e3bc193-6601-4754-bbb0-7279bee658b2",
   "metadata": {},
   "source": [
    "## Syntax of destructor declaration \n",
    "### def __del__(self):\r\n",
    "    body of destructor"
   ]
  },
  {
   "cell_type": "code",
   "execution_count": 9,
   "id": "d12c9283-2f33-45c1-ab8d-9c5c79763033",
   "metadata": {},
   "outputs": [
    {
     "name": "stdout",
     "output_type": "stream",
     "text": [
      "Employee created.\n",
      "Destructor called, Employee deleted.\n"
     ]
    }
   ],
   "source": [
    "# Python program to illustrate destructor\n",
    "class Employee:\n",
    "\n",
    "\t# Initializing\n",
    "\tdef __init__(self):\n",
    "\t\tprint('Employee created.')\n",
    "\n",
    "\t# Deleting (Calling destructor)\n",
    "\tdef __del__(self):\n",
    "\t\tprint('Destructor called, Employee deleted.')\n",
    "\n",
    "obj = Employee()\n",
    "del obj"
   ]
  }
 ],
 "metadata": {
  "kernelspec": {
   "display_name": "Python 3 (ipykernel)",
   "language": "python",
   "name": "python3"
  },
  "language_info": {
   "codemirror_mode": {
    "name": "ipython",
    "version": 3
   },
   "file_extension": ".py",
   "mimetype": "text/x-python",
   "name": "python",
   "nbconvert_exporter": "python",
   "pygments_lexer": "ipython3",
   "version": "3.11.7"
  }
 },
 "nbformat": 4,
 "nbformat_minor": 5
}
