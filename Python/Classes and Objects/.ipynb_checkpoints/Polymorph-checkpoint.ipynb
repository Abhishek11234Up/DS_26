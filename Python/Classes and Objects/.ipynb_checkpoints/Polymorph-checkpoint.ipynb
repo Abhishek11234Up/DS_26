{
 "cells": [
  {
   "cell_type": "code",
   "execution_count": 1,
   "id": "0f60f705-1476-4688-8eff-9b64190dc017",
   "metadata": {},
   "outputs": [],
   "source": [
    "def sum_1(a,b):\n",
    "    return a+b"
   ]
  },
  {
   "cell_type": "code",
   "execution_count": 2,
   "id": "1943bd52-8206-4697-af1e-c2b31f8f203c",
   "metadata": {},
   "outputs": [
    {
     "name": "stdout",
     "output_type": "stream",
     "text": [
      "11\n",
      "10.5\n",
      "AbhiShek\n"
     ]
    }
   ],
   "source": [
    "print(sum_1(8, 3))\n",
    "print(sum_1(8.9, 1.6))\n",
    "print(sum_1(\"Abhi\",\"Shek\"))"
   ]
  },
  {
   "cell_type": "code",
   "execution_count": 3,
   "id": "c771b4a6-0224-47a0-ad63-5f242885e4b9",
   "metadata": {},
   "outputs": [
    {
     "name": "stdout",
     "output_type": "stream",
     "text": [
      "5\n",
      "3\n"
     ]
    }
   ],
   "source": [
    "# Python program to demonstrate in-built poly-\n",
    "# morphic functions\n",
    "\n",
    "# len() being used for a string\n",
    "print(len(\"geeks\"))\n",
    "\n",
    "# len() being used for a list\n",
    "print(len([10, 20, 30]))\n"
   ]
  },
  {
   "cell_type": "code",
   "execution_count": 4,
   "id": "e97adcfd-3325-4058-8736-d1f1bcc86a4f",
   "metadata": {},
   "outputs": [
    {
     "name": "stdout",
     "output_type": "stream",
     "text": [
      "5\n",
      "9\n"
     ]
    }
   ],
   "source": [
    "# A simple Python function to demonstrate \n",
    "# Polymorphism\n",
    "# No. of arguments are changing Notice.\n",
    "\n",
    "def add(x, y, z = 0): \n",
    "\treturn x + y+z\n",
    "\n",
    "# Driver code \n",
    "print(add(2, 3))\n",
    "print(add(2, 3, 4))\n"
   ]
  },
  {
   "cell_type": "code",
   "execution_count": null,
   "id": "39552fa9-9089-412b-a1a7-bffeb7c0b423",
   "metadata": {},
   "outputs": [],
   "source": []
  }
 ],
 "metadata": {
  "kernelspec": {
   "display_name": "Python 3 (ipykernel)",
   "language": "python",
   "name": "python3"
  },
  "language_info": {
   "codemirror_mode": {
    "name": "ipython",
    "version": 3
   },
   "file_extension": ".py",
   "mimetype": "text/x-python",
   "name": "python",
   "nbconvert_exporter": "python",
   "pygments_lexer": "ipython3",
   "version": "3.11.7"
  }
 },
 "nbformat": 4,
 "nbformat_minor": 5
}
