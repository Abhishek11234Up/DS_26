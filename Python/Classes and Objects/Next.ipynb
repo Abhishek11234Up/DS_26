{
 "cells": [
  {
   "cell_type": "code",
   "execution_count": 1,
   "id": "4012d8d9-8587-46b6-bb9f-3f41f7a4162b",
   "metadata": {},
   "outputs": [
    {
     "name": "stdout",
     "output_type": "stream",
     "text": [
      "Address of self =  3000502012240\n",
      "Address of class object =  3000502012240\n"
     ]
    }
   ],
   "source": [
    "class check:\n",
    "\tdef __init__(self):\n",
    "\t\tprint(\"Address of self = \",id(self))\n",
    "\n",
    "obj = check()\n",
    "print(\"Address of class object = \",id(obj))"
   ]
  },
  {
   "cell_type": "code",
   "execution_count": 2,
   "id": "55e6acd0-2e8d-491e-93f0-a6f1ae4840cc",
   "metadata": {},
   "outputs": [
    {
     "name": "stdout",
     "output_type": "stream",
     "text": [
      "Model is audi a4\n",
      "color is blue\n",
      "Model is ferrari 488\n",
      "color is green\n",
      "Model for audi is  audi a4\n",
      "Colour for ferrari is  green\n"
     ]
    }
   ],
   "source": [
    "class car():\n",
    "\t\n",
    "\t# init method or constructor\n",
    "\tdef __init__(self, model, color):\n",
    "\t\tself.model = model\n",
    "\t\tself.color = color\n",
    "\t\t\n",
    "\tdef show(self):\n",
    "\t\tprint(\"Model is\", self.model )\n",
    "\t\tprint(\"color is\", self.color )\n",
    "\t\t\n",
    "# both objects have different self which contain their attributes\n",
    "audi = car(\"audi a4\", \"blue\")\n",
    "ferrari = car(\"ferrari 488\", \"green\")\n",
    "\n",
    "audi.show()\t # same output as car.show(audi)\n",
    "ferrari.show() # same output as car.show(ferrari)\n",
    "\n",
    "print(\"Model for audi is \",audi.model)\n",
    "print(\"Colour for ferrari is \",ferrari.color)\n"
   ]
  },
  {
   "cell_type": "code",
   "execution_count": 3,
   "id": "ba72f200-1e8a-4764-9ec4-3690386b6ef9",
   "metadata": {},
   "outputs": [
    {
     "name": "stdout",
     "output_type": "stream",
     "text": [
      "Bhai Ka Bhaukal Hai\n"
     ]
    }
   ],
   "source": [
    "class DefaultConstructor:\n",
    "\n",
    "\t# default constructor\n",
    "\tdef __init__(self):\n",
    "\t\tself.construct = \"Bhai Ka Bhaukal Hai\"\n",
    "\n",
    "\t# a method for printing data members\n",
    "\tdef print_construct(self):\n",
    "\t\tprint(self.construct)\n",
    "\n",
    "\n",
    "# creating object of the class\n",
    "obj = DefaultConstructor()\n",
    "\n",
    "# calling the instance method using the object obj\n",
    "obj.print_construct()"
   ]
  },
  {
   "cell_type": "code",
   "execution_count": 4,
   "id": "51d1b8df-da8f-4404-97c7-f4ec7889ed31",
   "metadata": {},
   "outputs": [
    {
     "name": "stdout",
     "output_type": "stream",
     "text": [
      "First number = 1000\n",
      "Second number = 2000\n",
      "Addition of two numbers = 3000\n",
      "First number = 10\n",
      "Second number = 20\n",
      "Addition of two numbers = 30\n"
     ]
    }
   ],
   "source": [
    "class Addition:\n",
    "\tfirst = 0\n",
    "\tsecond = 0\n",
    "\tanswer = 0\n",
    "\n",
    "\t# parameterized constructor\n",
    "\tdef __init__(self, f, s):\n",
    "\t\tself.first = f\n",
    "\t\tself.second = s\n",
    "\n",
    "\tdef display(self):\n",
    "\t\tprint(\"First number = \" + str(self.first))\n",
    "\t\tprint(\"Second number = \" + str(self.second))\n",
    "\t\tprint(\"Addition of two numbers = \" + str(self.answer))\n",
    "\n",
    "\tdef calculate(self):\n",
    "\t\tself.answer = self.first + self.second\n",
    "\n",
    "\n",
    "# creating object of the class\n",
    "# this will invoke parameterized constructor\n",
    "obj1 = Addition(1000, 2000)\n",
    "\n",
    "# creating second object of same class\n",
    "obj2 = Addition(10, 20)\n",
    "\n",
    "# perform Addition on obj1\n",
    "obj1.calculate()\n",
    "\n",
    "# perform Addition on obj2\n",
    "obj2.calculate()\n",
    "\n",
    "# display result of obj1\n",
    "obj1.display()\n",
    "\n",
    "# display result of obj2\n",
    "obj2.display()\n"
   ]
  },
  {
   "cell_type": "code",
   "execution_count": 5,
   "id": "6d4f770b-323e-42fc-8b45-60db283cc69c",
   "metadata": {},
   "outputs": [
    {
     "name": "stdout",
     "output_type": "stream",
     "text": [
      "Default constructor called\n",
      "Method called without a name\n",
      "Parameterized constructor called with name John\n",
      "Method called with name John\n"
     ]
    }
   ],
   "source": [
    "class MyClass:\n",
    "\tdef __init__(self, name=None):\n",
    "\t\tif name is None:\n",
    "\t\t\tprint(\"Default constructor called\")\n",
    "\t\telse:\n",
    "\t\t\tself.name = name\n",
    "\t\t\tprint(\"Parameterized constructor called with name\", self.name)\n",
    "\t\n",
    "\tdef method(self):\n",
    "\t\tif hasattr(self, 'name'):\n",
    "\t\t\tprint(\"Method called with name\", self.name)\n",
    "\t\telse:\n",
    "\t\t\tprint(\"Method called without a name\")\n",
    "\n",
    "# Create an object of the class using the default constructor\n",
    "obj1 = MyClass()\n",
    "\n",
    "# Call a method of the class\n",
    "obj1.method()\n",
    "\n",
    "# Create an object of the class using the parameterized constructor\n",
    "obj2 = MyClass(\"John\")\n",
    "\n",
    "# Call a method of the class\n",
    "obj2.method()\n"
   ]
  },
  {
   "cell_type": "code",
   "execution_count": 7,
   "id": "1c2a38fe-a711-433d-b9b6-ec33e1e8efa2",
   "metadata": {},
   "outputs": [
    {
     "name": "stdout",
     "output_type": "stream",
     "text": [
      "Employee created.\n",
      "Destructor called, Employee deleted.\n"
     ]
    }
   ],
   "source": [
    "# Python program to illustrate destructor\n",
    "class Employee:\n",
    "\n",
    "\t# Initializing\n",
    "\tdef __init__(self):\n",
    "\t\tprint('Employee created.')\n",
    "\n",
    "\t# Deleting (Calling destructor)\n",
    "\tdef __del__(self):\n",
    "\t\tprint('Destructor called, Employee deleted.')\n",
    "\n",
    "obj = Employee()\n",
    "del obj"
   ]
  },
  {
   "cell_type": "code",
   "execution_count": null,
   "id": "6ce6ab41-5cf3-450c-849d-db07e4692bec",
   "metadata": {},
   "outputs": [],
   "source": []
  }
 ],
 "metadata": {
  "kernelspec": {
   "display_name": "Python 3 (ipykernel)",
   "language": "python",
   "name": "python3"
  },
  "language_info": {
   "codemirror_mode": {
    "name": "ipython",
    "version": 3
   },
   "file_extension": ".py",
   "mimetype": "text/x-python",
   "name": "python",
   "nbconvert_exporter": "python",
   "pygments_lexer": "ipython3",
   "version": "3.11.7"
  }
 },
 "nbformat": 4,
 "nbformat_minor": 5
}
