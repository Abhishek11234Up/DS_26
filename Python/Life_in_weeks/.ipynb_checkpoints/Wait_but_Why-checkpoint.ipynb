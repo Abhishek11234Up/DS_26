{
 "cells": [
  {
   "cell_type": "code",
   "execution_count": 8,
   "id": "04cc4f76-4070-4041-8bf8-adebb06c8bb2",
   "metadata": {},
   "outputs": [
    {
     "name": "stdin",
     "output_type": "stream",
     "text": [
      "What is your current age? 30\n"
     ]
    },
    {
     "name": "stdout",
     "output_type": "stream",
     "text": [
      "You have 21900 days, 3120 weeks, and 720 months left.\n"
     ]
    }
   ],
   "source": [
    "# 🚨 Don't change the code below 👇\n",
    "age = input(\"What is your current age?\")\n",
    "# 🚨 Don't change the code above 👆\n",
    "\n",
    "#Write your code below this line 👇\n",
    "\n",
    "\n",
    "years = 90 - int(age)\n",
    "months = round(years * 12)\n",
    "weeks = round(years * 52)\n",
    "days = round(years * 365)\n",
    "\n",
    "print(f\"You have {days} days, {weeks} weeks, and {months} months left.\")"
   ]
  }
 ],
 "metadata": {
  "kernelspec": {
   "display_name": "Python 3 (ipykernel)",
   "language": "python",
   "name": "python3"
  },
  "language_info": {
   "codemirror_mode": {
    "name": "ipython",
    "version": 3
   },
   "file_extension": ".py",
   "mimetype": "text/x-python",
   "name": "python",
   "nbconvert_exporter": "python",
   "pygments_lexer": "ipython3",
   "version": "3.11.7"
  }
 },
 "nbformat": 4,
 "nbformat_minor": 5
}
