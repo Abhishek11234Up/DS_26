{
 "cells": [
  {
   "cell_type": "code",
   "execution_count": 1,
   "id": "3d50fab5-3289-43bd-b0c9-e73ff6c8abc8",
   "metadata": {},
   "outputs": [],
   "source": [
    "# NumPy was created in 2005 by Travis Oliphant"
   ]
  },
  {
   "cell_type": "code",
   "execution_count": 4,
   "id": "f6481c8f-0dd7-44ea-8cc5-92049f77f7a6",
   "metadata": {},
   "outputs": [],
   "source": [
    "import numpy as np"
   ]
  },
  {
   "cell_type": "code",
   "execution_count": 2,
   "id": "103f13c8-5c27-40a0-950a-c56c2e7b6a2a",
   "metadata": {},
   "outputs": [],
   "source": [
    "x = [1,2,3,4,5]"
   ]
  },
  {
   "cell_type": "code",
   "execution_count": 7,
   "id": "e9ae4b45-3ad0-48a8-bd60-8d2b8824c9f8",
   "metadata": {},
   "outputs": [
    {
     "name": "stdout",
     "output_type": "stream",
     "text": [
      "2386200828800\n",
      "[1, 2, 3, 4, 5]\n"
     ]
    }
   ],
   "source": [
    "print(id(x))\n",
    "print(x)"
   ]
  },
  {
   "cell_type": "code",
   "execution_count": 8,
   "id": "0dd31008-c2a2-4780-9110-50d8e86994c5",
   "metadata": {},
   "outputs": [],
   "source": [
    "# This will give you error because we are using numpy under alias (as) np.\n",
    "# arr = numpy.array([1, 2, 3, 4, 5])\n",
    "\n",
    "# print(arr)"
   ]
  },
  {
   "cell_type": "code",
   "execution_count": 12,
   "id": "8f91d5ca-4b80-44c6-a54e-a054dd007a75",
   "metadata": {},
   "outputs": [
    {
     "name": "stdout",
     "output_type": "stream",
     "text": [
      "[1 2 3 4 5]\n"
     ]
    }
   ],
   "source": [
    "arr_list = np.array([1, 2, 3, 4, 5])\n",
    "\n",
    "print(arr_list)"
   ]
  },
  {
   "cell_type": "code",
   "execution_count": 9,
   "id": "b3706192-0fc6-4e6b-96f2-4a693957e65e",
   "metadata": {},
   "outputs": [
    {
     "name": "stdout",
     "output_type": "stream",
     "text": [
      "1.26.4\n"
     ]
    }
   ],
   "source": [
    "print(np.__version__)"
   ]
  },
  {
   "cell_type": "code",
   "execution_count": 13,
   "id": "2a8e0563-3e41-4dbc-8f52-7ac46ade55d6",
   "metadata": {},
   "outputs": [
    {
     "name": "stdout",
     "output_type": "stream",
     "text": [
      "<class 'numpy.ndarray'>\n"
     ]
    }
   ],
   "source": [
    "print(type(arr_list))"
   ]
  },
  {
   "cell_type": "code",
   "execution_count": 14,
   "id": "a2da1f16-9b69-4c32-9fb7-bc7275664a26",
   "metadata": {},
   "outputs": [
    {
     "data": {
      "text/plain": [
       "numpy.ndarray"
      ]
     },
     "execution_count": 14,
     "metadata": {},
     "output_type": "execute_result"
    }
   ],
   "source": [
    "type(arr_list)"
   ]
  },
  {
   "cell_type": "code",
   "execution_count": 15,
   "id": "2481d91a-39b8-49ef-8343-215712fbd8e5",
   "metadata": {},
   "outputs": [
    {
     "name": "stdout",
     "output_type": "stream",
     "text": [
      "[1 2 3 4 5]\n"
     ]
    }
   ],
   "source": [
    "arr_tuples = np.array((1, 2, 3, 4, 5))\n",
    "\n",
    "print(arr_tuples)"
   ]
  },
  {
   "cell_type": "code",
   "execution_count": 17,
   "id": "5d834a13-0e54-4bd3-8fb5-9fe6ef9aa88b",
   "metadata": {},
   "outputs": [
    {
     "name": "stdout",
     "output_type": "stream",
     "text": [
      "42\n"
     ]
    }
   ],
   "source": [
    "# 0-dimensional (0-d) array\n",
    "ar = np.array(42)\n",
    "\n",
    "print(ar)"
   ]
  },
  {
   "cell_type": "code",
   "execution_count": 18,
   "id": "1f154d1f-c046-4739-ae8c-ba6192515a9c",
   "metadata": {},
   "outputs": [
    {
     "name": "stdout",
     "output_type": "stream",
     "text": [
      "[1 2 3 4 5]\n"
     ]
    }
   ],
   "source": [
    "# 1-d \n",
    "a = np.array([1, 2, 3, 4, 5])\n",
    "\n",
    "print(a)"
   ]
  },
  {
   "cell_type": "code",
   "execution_count": 19,
   "id": "a95ad575-1721-48eb-99df-f8ffc9286ef9",
   "metadata": {},
   "outputs": [
    {
     "name": "stdout",
     "output_type": "stream",
     "text": [
      "[[1 2 3]\n",
      " [4 5 6]]\n"
     ]
    }
   ],
   "source": [
    "# 2 -d \n",
    "\n",
    "b = np.array([[1, 2, 3], [4, 5, 6]])\n",
    "\n",
    "print(b)"
   ]
  },
  {
   "cell_type": "code",
   "execution_count": 21,
   "id": "769b0d81-a7e3-413e-994a-881a73ae446f",
   "metadata": {},
   "outputs": [
    {
     "name": "stdout",
     "output_type": "stream",
     "text": [
      "[[[1 2 3]\n",
      "  [4 5 6]]\n",
      "\n",
      " [[1 2 3]\n",
      "  [4 5 6]]]\n"
     ]
    }
   ],
   "source": [
    "# 3-d \n",
    "c = np.array([[[1, 2, 3], [4, 5, 6]], [[1, 2, 3], [4, 5, 6]]])\n",
    "\n",
    "print(c)"
   ]
  },
  {
   "cell_type": "code",
   "execution_count": 22,
   "id": "77733417-7a61-4197-ab55-fed327318af4",
   "metadata": {},
   "outputs": [
    {
     "name": "stdout",
     "output_type": "stream",
     "text": [
      "0\n",
      "1\n",
      "2\n",
      "3\n"
     ]
    }
   ],
   "source": [
    "a = np.array(42)\n",
    "b = np.array([1, 2, 3, 4, 5])\n",
    "c = np.array([[1, 2, 3], [4, 5, 6]])\n",
    "d = np.array([[[1, 2, 3], [4, 5, 6]], [[1, 2, 3], [4, 5, 6]]])\n",
    "\n",
    "print(a.ndim)\n",
    "print(b.ndim)\n",
    "print(c.ndim)\n",
    "print(d.ndim)"
   ]
  },
  {
   "cell_type": "code",
   "execution_count": 23,
   "id": "29464603-96fd-42fa-ab28-0f79c6848484",
   "metadata": {},
   "outputs": [
    {
     "name": "stdout",
     "output_type": "stream",
     "text": [
      "[[[[[1 2 3 4]]]]]\n",
      "number of dimensions : 5\n"
     ]
    }
   ],
   "source": [
    "arr = np.array([1, 2, 3, 4], ndmin=5)\n",
    "\n",
    "print(arr)\n",
    "print('number of dimensions :', arr.ndim)"
   ]
  },
  {
   "cell_type": "code",
   "execution_count": 24,
   "id": "448c2e5b-6870-4e60-95ff-b1b4d3f2e5cc",
   "metadata": {},
   "outputs": [],
   "source": [
    "# In this array the innermost dimension (5th dim) has 4 elements, the 4th dim has 1 element that is the vector, \n",
    "# the 3rd dim has 1 element that is the matrix with the vector, the 2nd dim has 1 element that is 3D array \n",
    "# and 1st dim has 1 element that is a 4D array."
   ]
  },
  {
   "cell_type": "code",
   "execution_count": 26,
   "id": "450b874c-5dc5-4346-8630-0bf9be1be236",
   "metadata": {},
   "outputs": [
    {
     "name": "stdout",
     "output_type": "stream",
     "text": [
      "[[ 1  2  3  4  5]\n",
      " [ 6  7  8  9 10]]\n"
     ]
    }
   ],
   "source": [
    "mY_d = np.array([[1,2,3,4,5], [6,7,8,9,10]])\n",
    "\n",
    "print(mY_d)"
   ]
  },
  {
   "cell_type": "code",
   "execution_count": 27,
   "id": "fb7f80cd-84b9-45b9-a4f9-9a2ee1904923",
   "metadata": {},
   "outputs": [
    {
     "name": "stdout",
     "output_type": "stream",
     "text": [
      "5th element on 2nd row:  10\n"
     ]
    }
   ],
   "source": [
    "print('5th element on 2nd row: ', mY_d[1, 4])"
   ]
  },
  {
   "cell_type": "code",
   "execution_count": 28,
   "id": "b7d53427-6b1c-4eb9-87e7-305e7a46ea5c",
   "metadata": {},
   "outputs": [
    {
     "name": "stdout",
     "output_type": "stream",
     "text": [
      "4\n"
     ]
    }
   ],
   "source": [
    "print(mY_d[0,3])"
   ]
  }
 ],
 "metadata": {
  "kernelspec": {
   "display_name": "Python 3 (ipykernel)",
   "language": "python",
   "name": "python3"
  },
  "language_info": {
   "codemirror_mode": {
    "name": "ipython",
    "version": 3
   },
   "file_extension": ".py",
   "mimetype": "text/x-python",
   "name": "python",
   "nbconvert_exporter": "python",
   "pygments_lexer": "ipython3",
   "version": "3.11.7"
  }
 },
 "nbformat": 4,
 "nbformat_minor": 5
}
