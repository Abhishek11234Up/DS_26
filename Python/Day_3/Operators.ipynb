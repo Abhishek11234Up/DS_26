{
 "cells": [
  {
   "cell_type": "markdown",
   "id": "f5464403-66d3-4c10-ab37-543298bfd95c",
   "metadata": {},
   "source": [
    "# Operators\n",
    "### These are the symbols which are applied on operands to perform multiple calculations.\n",
    "### Ex - +, -, *, %, etc..\n",
    "\n",
    "# operand\n",
    "### These are the values/variables on which operators work."
   ]
  },
  {
   "cell_type": "code",
   "execution_count": 1,
   "id": "ae4c6d4d-89e2-4f02-8eef-f996010ac709",
   "metadata": {},
   "outputs": [],
   "source": [
    "# Python divides the operators in the following groups:\n",
    "\n",
    "# Arithmetic operators\n",
    "# Assignment operators\n",
    "# Comparison operators\n",
    "# Logical operators\n",
    "# Identity operators\n",
    "# Membership operators\n",
    "# Bitwise operatorsrators\r\n"
   ]
  },
  {
   "cell_type": "code",
   "execution_count": 2,
   "id": "be4f342d-da17-4b63-b8c2-ba42094ec709",
   "metadata": {},
   "outputs": [],
   "source": [
    "# Arithmetic operators - +,-,*,/,%,//,**\n",
    "a = 15\n",
    "b = 4"
   ]
  },
  {
   "cell_type": "code",
   "execution_count": 9,
   "id": "d112c01c-bc6e-4149-a1cd-b818cacf0816",
   "metadata": {},
   "outputs": [
    {
     "data": {
      "text/plain": [
       "19"
      ]
     },
     "execution_count": 9,
     "metadata": {},
     "output_type": "execute_result"
    }
   ],
   "source": [
    "# Addition -- print(a+b) --- Recommended\n",
    "a + b"
   ]
  },
  {
   "cell_type": "code",
   "execution_count": 10,
   "id": "33495f17-14e9-4d3c-b4f9-3dde5d2c92b8",
   "metadata": {},
   "outputs": [
    {
     "data": {
      "text/plain": [
       "11"
      ]
     },
     "execution_count": 10,
     "metadata": {},
     "output_type": "execute_result"
    }
   ],
   "source": [
    "# Subtraction\n",
    "a - b"
   ]
  },
  {
   "cell_type": "code",
   "execution_count": 11,
   "id": "b4d2bd9d-4aac-496e-944b-6d1070c47113",
   "metadata": {},
   "outputs": [
    {
     "data": {
      "text/plain": [
       "60"
      ]
     },
     "execution_count": 11,
     "metadata": {},
     "output_type": "execute_result"
    }
   ],
   "source": [
    "# Multiplication\n",
    "a*b"
   ]
  },
  {
   "cell_type": "code",
   "execution_count": 12,
   "id": "5a418274-52d7-4454-8b7f-80167c094456",
   "metadata": {},
   "outputs": [
    {
     "data": {
      "text/plain": [
       "3.75"
      ]
     },
     "execution_count": 12,
     "metadata": {},
     "output_type": "execute_result"
    }
   ],
   "source": [
    "# Divison\n",
    "a/b"
   ]
  },
  {
   "cell_type": "code",
   "execution_count": 13,
   "id": "cf4002ef-33b3-4b17-9672-4ceb62ede43e",
   "metadata": {},
   "outputs": [
    {
     "data": {
      "text/plain": [
       "3"
      ]
     },
     "execution_count": 13,
     "metadata": {},
     "output_type": "execute_result"
    }
   ],
   "source": [
    "# Modulo -- Remainder\n",
    "a%b"
   ]
  },
  {
   "cell_type": "code",
   "execution_count": 14,
   "id": "39397811-b766-4123-86be-4e9943077444",
   "metadata": {},
   "outputs": [
    {
     "data": {
      "text/plain": [
       "3"
      ]
     },
     "execution_count": 14,
     "metadata": {},
     "output_type": "execute_result"
    }
   ],
   "source": [
    "# Floor divison -- It gives you the numerical/integral part of divison.\n",
    "a//b"
   ]
  },
  {
   "cell_type": "code",
   "execution_count": 17,
   "id": "cb804a35-975a-4788-80b2-8daef2f567b5",
   "metadata": {},
   "outputs": [],
   "source": [
    "# Comparison Operators -- As the name suggest these operators are used to compare two operands & give results in boolean.\n",
    "# Equal -- ==\n",
    "# Not Equal -- !=\n",
    "# Greater Than --  >\n",
    "# Greater than and Equal to -- >=\n",
    "# Less than --  <\n",
    "# Less than and Equal to   -- <="
   ]
  },
  {
   "cell_type": "code",
   "execution_count": 18,
   "id": "8bd9b5c7-09af-468a-afbf-c7a1030b4e72",
   "metadata": {},
   "outputs": [
    {
     "data": {
      "text/plain": [
       "15"
      ]
     },
     "execution_count": 18,
     "metadata": {},
     "output_type": "execute_result"
    }
   ],
   "source": [
    "a"
   ]
  },
  {
   "cell_type": "code",
   "execution_count": 19,
   "id": "bbb1707b-491b-4f84-b37b-8dc47c2c88a6",
   "metadata": {},
   "outputs": [
    {
     "data": {
      "text/plain": [
       "4"
      ]
     },
     "execution_count": 19,
     "metadata": {},
     "output_type": "execute_result"
    }
   ],
   "source": [
    "b"
   ]
  },
  {
   "cell_type": "code",
   "execution_count": 20,
   "id": "93c76cd9-a765-4065-a3d1-c4bed525b08c",
   "metadata": {},
   "outputs": [
    {
     "data": {
      "text/plain": [
       "False"
      ]
     },
     "execution_count": 20,
     "metadata": {},
     "output_type": "execute_result"
    }
   ],
   "source": [
    "a==b"
   ]
  },
  {
   "cell_type": "code",
   "execution_count": 21,
   "id": "94cf2576-f9c5-4254-a4e5-eb6d2ddb07d7",
   "metadata": {},
   "outputs": [
    {
     "data": {
      "text/plain": [
       "True"
      ]
     },
     "execution_count": 21,
     "metadata": {},
     "output_type": "execute_result"
    }
   ],
   "source": [
    "a != b"
   ]
  },
  {
   "cell_type": "code",
   "execution_count": 22,
   "id": "51ab4685-0dbb-49a5-8b22-13b9136b23a0",
   "metadata": {},
   "outputs": [
    {
     "data": {
      "text/plain": [
       "True"
      ]
     },
     "execution_count": 22,
     "metadata": {},
     "output_type": "execute_result"
    }
   ],
   "source": [
    "a > b"
   ]
  },
  {
   "cell_type": "code",
   "execution_count": 23,
   "id": "3c744047-28fa-46e5-98f5-df4412535ed2",
   "metadata": {},
   "outputs": [
    {
     "data": {
      "text/plain": [
       "False"
      ]
     },
     "execution_count": 23,
     "metadata": {},
     "output_type": "execute_result"
    }
   ],
   "source": [
    "a < b"
   ]
  },
  {
   "cell_type": "code",
   "execution_count": 24,
   "id": "d82cb203-c06e-4f53-92fc-35b69b4222ee",
   "metadata": {},
   "outputs": [
    {
     "data": {
      "text/plain": [
       "True"
      ]
     },
     "execution_count": 24,
     "metadata": {},
     "output_type": "execute_result"
    }
   ],
   "source": [
    "a >= b"
   ]
  },
  {
   "cell_type": "code",
   "execution_count": 25,
   "id": "7884ad48-568c-44ac-a9e9-3d8ad4e5f956",
   "metadata": {},
   "outputs": [
    {
     "data": {
      "text/plain": [
       "False"
      ]
     },
     "execution_count": 25,
     "metadata": {},
     "output_type": "execute_result"
    }
   ],
   "source": [
    "a <= b"
   ]
  },
  {
   "cell_type": "code",
   "execution_count": 28,
   "id": "acfc6822-0780-4306-9341-2fd822736aa0",
   "metadata": {},
   "outputs": [],
   "source": [
    "# Membership\n",
    "\n",
    "msg = \"I am not a good boy.\""
   ]
  },
  {
   "cell_type": "code",
   "execution_count": 29,
   "id": "50773f72-9906-41c9-bdc9-c6c0db175340",
   "metadata": {},
   "outputs": [
    {
     "name": "stdout",
     "output_type": "stream",
     "text": [
      "False\n"
     ]
    }
   ],
   "source": [
    "print(\"good\" not in msg)"
   ]
  },
  {
   "cell_type": "code",
   "execution_count": 30,
   "id": "5cb9c3b8-7200-4028-9de7-382cb9d507c6",
   "metadata": {},
   "outputs": [
    {
     "name": "stdout",
     "output_type": "stream",
     "text": [
      "True\n"
     ]
    }
   ],
   "source": [
    "print('Are' not in msg)"
   ]
  },
  {
   "cell_type": "code",
   "execution_count": 32,
   "id": "d3d0a1bf-d507-424e-bbf9-d5297c7fac94",
   "metadata": {},
   "outputs": [
    {
     "data": {
      "text/plain": [
       "True"
      ]
     },
     "execution_count": 32,
     "metadata": {},
     "output_type": "execute_result"
    }
   ],
   "source": [
    "\"I\" in msg"
   ]
  },
  {
   "cell_type": "code",
   "execution_count": 33,
   "id": "a95329c6-5d83-4f5d-ba81-d09b90c51ccf",
   "metadata": {},
   "outputs": [],
   "source": [
    "# Bitwise operator\n",
    "\n",
    "a = 6\n",
    "b = 3"
   ]
  },
  {
   "cell_type": "code",
   "execution_count": 34,
   "id": "9b34339f-78db-46a7-b288-1e873adcd18d",
   "metadata": {},
   "outputs": [
    {
     "data": {
      "text/plain": [
       "2"
      ]
     },
     "execution_count": 34,
     "metadata": {},
     "output_type": "execute_result"
    }
   ],
   "source": [
    "a & b"
   ]
  },
  {
   "cell_type": "code",
   "execution_count": 35,
   "id": "a259d8b4-a621-4e9d-9bec-1b657f6f8210",
   "metadata": {},
   "outputs": [
    {
     "data": {
      "text/plain": [
       "7"
      ]
     },
     "execution_count": 35,
     "metadata": {},
     "output_type": "execute_result"
    }
   ],
   "source": [
    "a | b"
   ]
  },
  {
   "cell_type": "code",
   "execution_count": 36,
   "id": "d384eef7-56d7-44af-82d6-a614d98a135a",
   "metadata": {},
   "outputs": [
    {
     "data": {
      "text/plain": [
       "5"
      ]
     },
     "execution_count": 36,
     "metadata": {},
     "output_type": "execute_result"
    }
   ],
   "source": [
    "a ^ b"
   ]
  },
  {
   "cell_type": "code",
   "execution_count": 37,
   "id": "972ebbbd-9e28-49bc-80c6-3d75aff15856",
   "metadata": {},
   "outputs": [
    {
     "data": {
      "text/plain": [
       "-7"
      ]
     },
     "execution_count": 37,
     "metadata": {},
     "output_type": "execute_result"
    }
   ],
   "source": [
    "~a"
   ]
  },
  {
   "cell_type": "code",
   "execution_count": 38,
   "id": "d312b5c5-a838-4a11-947b-fd22f3aa45a5",
   "metadata": {},
   "outputs": [
    {
     "data": {
      "text/plain": [
       "-4"
      ]
     },
     "execution_count": 38,
     "metadata": {},
     "output_type": "execute_result"
    }
   ],
   "source": [
    "~b"
   ]
  },
  {
   "cell_type": "code",
   "execution_count": 39,
   "id": "2924527e-3862-4c7a-bd19-ce34c694df42",
   "metadata": {},
   "outputs": [
    {
     "data": {
      "text/plain": [
       "48"
      ]
     },
     "execution_count": 39,
     "metadata": {},
     "output_type": "execute_result"
    }
   ],
   "source": [
    "# Left Shift \n",
    "a << b"
   ]
  },
  {
   "cell_type": "code",
   "execution_count": 40,
   "id": "4930db9e-f715-43e7-bf29-ae83e7cdada1",
   "metadata": {},
   "outputs": [
    {
     "data": {
      "text/plain": [
       "192"
      ]
     },
     "execution_count": 40,
     "metadata": {},
     "output_type": "execute_result"
    }
   ],
   "source": [
    "b << a"
   ]
  },
  {
   "cell_type": "code",
   "execution_count": 41,
   "id": "c61e0a8f-ae02-4a2c-9514-f0a14ef361d3",
   "metadata": {},
   "outputs": [
    {
     "data": {
      "text/plain": [
       "0"
      ]
     },
     "execution_count": 41,
     "metadata": {},
     "output_type": "execute_result"
    }
   ],
   "source": [
    "# Right shift\n",
    "\n",
    "a >> b"
   ]
  },
  {
   "cell_type": "code",
   "execution_count": 43,
   "id": "ea240603-2886-4066-b170-a46d7d5cbd46",
   "metadata": {},
   "outputs": [
    {
     "data": {
      "text/plain": [
       "1"
      ]
     },
     "execution_count": 43,
     "metadata": {},
     "output_type": "execute_result"
    }
   ],
   "source": [
    "6 >> 2"
   ]
  },
  {
   "cell_type": "code",
   "execution_count": 46,
   "id": "80ac64e4-8548-47f8-b1af-b18cda4e9c11",
   "metadata": {},
   "outputs": [
    {
     "data": {
      "text/plain": [
       "6"
      ]
     },
     "execution_count": 46,
     "metadata": {},
     "output_type": "execute_result"
    }
   ],
   "source": [
    "#Assignment Operators\n",
    "a"
   ]
  },
  {
   "cell_type": "code",
   "execution_count": 47,
   "id": "c7ed669e-97bc-4a9d-b92e-cc6bd42d53db",
   "metadata": {},
   "outputs": [],
   "source": [
    "a += 3 # a = a + 3"
   ]
  },
  {
   "cell_type": "code",
   "execution_count": 48,
   "id": "32680966-664b-46c1-adb7-8eb175605c87",
   "metadata": {},
   "outputs": [
    {
     "data": {
      "text/plain": [
       "9"
      ]
     },
     "execution_count": 48,
     "metadata": {},
     "output_type": "execute_result"
    }
   ],
   "source": [
    "a"
   ]
  },
  {
   "cell_type": "code",
   "execution_count": 49,
   "id": "cef3682f-aa4b-4532-98e9-8bdae922d3a6",
   "metadata": {},
   "outputs": [],
   "source": [
    "a -= 2"
   ]
  },
  {
   "cell_type": "code",
   "execution_count": 50,
   "id": "8a67143c-016e-4c1f-a201-68a22240c748",
   "metadata": {},
   "outputs": [
    {
     "data": {
      "text/plain": [
       "7"
      ]
     },
     "execution_count": 50,
     "metadata": {},
     "output_type": "execute_result"
    }
   ],
   "source": [
    "a"
   ]
  },
  {
   "cell_type": "code",
   "execution_count": 51,
   "id": "92165afb-e570-46bf-b673-658255cee837",
   "metadata": {},
   "outputs": [],
   "source": [
    "a *= 3"
   ]
  },
  {
   "cell_type": "code",
   "execution_count": 54,
   "id": "5ecfd4fb-5bfa-406a-b257-6999f6ef1d69",
   "metadata": {},
   "outputs": [
    {
     "data": {
      "text/plain": [
       "7.0"
      ]
     },
     "execution_count": 54,
     "metadata": {},
     "output_type": "execute_result"
    }
   ],
   "source": [
    "a"
   ]
  },
  {
   "cell_type": "code",
   "execution_count": 53,
   "id": "987830c7-af04-47fe-a4d7-ba766e6b6b33",
   "metadata": {},
   "outputs": [
    {
     "data": {
      "text/plain": [
       "7.0"
      ]
     },
     "execution_count": 53,
     "metadata": {},
     "output_type": "execute_result"
    }
   ],
   "source": [
    "a /= 3\n",
    "a"
   ]
  },
  {
   "cell_type": "code",
   "execution_count": 57,
   "id": "0723d9e9-b90d-4bc9-9d78-ae148811b1d2",
   "metadata": {},
   "outputs": [
    {
     "data": {
      "text/plain": [
       "1.0"
      ]
     },
     "execution_count": 57,
     "metadata": {},
     "output_type": "execute_result"
    }
   ],
   "source": [
    "a //= 2\n",
    "a"
   ]
  },
  {
   "cell_type": "code",
   "execution_count": 56,
   "id": "e7b25f59-a871-409f-afad-2857a690a9d7",
   "metadata": {},
   "outputs": [
    {
     "data": {
      "text/plain": [
       "3.0"
      ]
     },
     "execution_count": 56,
     "metadata": {},
     "output_type": "execute_result"
    }
   ],
   "source": [
    "a"
   ]
  },
  {
   "cell_type": "code",
   "execution_count": null,
   "id": "70725eed-2eed-4eca-a7b3-e54eb2681315",
   "metadata": {},
   "outputs": [],
   "source": []
  }
 ],
 "metadata": {
  "kernelspec": {
   "display_name": "Python 3 (ipykernel)",
   "language": "python",
   "name": "python3"
  },
  "language_info": {
   "codemirror_mode": {
    "name": "ipython",
    "version": 3
   },
   "file_extension": ".py",
   "mimetype": "text/x-python",
   "name": "python",
   "nbconvert_exporter": "python",
   "pygments_lexer": "ipython3",
   "version": "3.11.7"
  }
 },
 "nbformat": 4,
 "nbformat_minor": 5
}
