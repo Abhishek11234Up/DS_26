{
 "cells": [
  {
   "cell_type": "code",
   "execution_count": 1,
   "id": "c85ea128-de3d-4b48-8f45-b46e83944b79",
   "metadata": {},
   "outputs": [],
   "source": [
    "# Booleans -- bool() --> True and False\n",
    "a = 10\n",
    "b = 9"
   ]
  },
  {
   "cell_type": "code",
   "execution_count": 2,
   "id": "42698ed0-d5c4-438d-9a99-19f2e20aa02d",
   "metadata": {},
   "outputs": [
    {
     "data": {
      "text/plain": [
       "False"
      ]
     },
     "execution_count": 2,
     "metadata": {},
     "output_type": "execute_result"
    }
   ],
   "source": [
    "a == b"
   ]
  },
  {
   "cell_type": "code",
   "execution_count": 3,
   "id": "f01749e2-9526-4721-96d2-55b16761df4b",
   "metadata": {},
   "outputs": [
    {
     "data": {
      "text/plain": [
       "True"
      ]
     },
     "execution_count": 3,
     "metadata": {},
     "output_type": "execute_result"
    }
   ],
   "source": [
    "a > b"
   ]
  },
  {
   "cell_type": "code",
   "execution_count": 4,
   "id": "621b5a05-b0ae-4dcf-a15f-261f9e29b4f0",
   "metadata": {},
   "outputs": [
    {
     "data": {
      "text/plain": [
       "False"
      ]
     },
     "execution_count": 4,
     "metadata": {},
     "output_type": "execute_result"
    }
   ],
   "source": [
    "a < b"
   ]
  },
  {
   "cell_type": "markdown",
   "id": "b25023e2-b20a-4bc0-9a97-8c1295e43af8",
   "metadata": {},
   "source": [
    "## Empty String -- \" \",' '\n",
    "## Empty Tuple  -- ()\n",
    "## Empty List   -- []\n",
    "#  Empty Sets   -- {}"
   ]
  },
  {
   "cell_type": "markdown",
   "id": "06d38f06-d09d-4adb-b732-f5809c72372e",
   "metadata": {},
   "source": [
    "## bool(False)\n",
    "## bool(None)\n",
    "## bool(0)\n",
    "## bool(\"\")\n",
    "## bool(())\n",
    "## bool([])\n",
    "## bool({})"
   ]
  },
  {
   "cell_type": "code",
   "execution_count": 22,
   "id": "3dfe38db-9a80-44ce-832b-e5210f1a804e",
   "metadata": {},
   "outputs": [
    {
     "name": "stdout",
     "output_type": "stream",
     "text": [
      "False\n"
     ]
    }
   ],
   "source": [
    "print(bool(False))"
   ]
  },
  {
   "cell_type": "code",
   "execution_count": 23,
   "id": "7d8b4f87-4007-48b5-b874-f2890554dfd7",
   "metadata": {},
   "outputs": [
    {
     "name": "stdout",
     "output_type": "stream",
     "text": [
      "False\n"
     ]
    }
   ],
   "source": [
    "print(bool(None))"
   ]
  },
  {
   "cell_type": "code",
   "execution_count": 24,
   "id": "bb769226-0666-4bc0-829d-e48feaff3f50",
   "metadata": {},
   "outputs": [
    {
     "name": "stdout",
     "output_type": "stream",
     "text": [
      "False\n"
     ]
    }
   ],
   "source": [
    "print(bool(0))"
   ]
  },
  {
   "cell_type": "code",
   "execution_count": 25,
   "id": "331d4b1f-5e9d-45fd-89ff-8e4d262ec2c2",
   "metadata": {},
   "outputs": [
    {
     "name": "stdout",
     "output_type": "stream",
     "text": [
      "False\n"
     ]
    }
   ],
   "source": [
    "print(bool(\"\"))"
   ]
  },
  {
   "cell_type": "code",
   "execution_count": 26,
   "id": "55c606f2-f088-49d3-9b62-d4832e42bcfa",
   "metadata": {},
   "outputs": [
    {
     "name": "stdout",
     "output_type": "stream",
     "text": [
      "False\n"
     ]
    }
   ],
   "source": [
    "print(bool(()))"
   ]
  },
  {
   "cell_type": "code",
   "execution_count": 27,
   "id": "23100f6b-84f5-420c-adba-007987bbbf6f",
   "metadata": {},
   "outputs": [
    {
     "name": "stdout",
     "output_type": "stream",
     "text": [
      "False\n"
     ]
    }
   ],
   "source": [
    "print(bool([]))"
   ]
  },
  {
   "cell_type": "code",
   "execution_count": 28,
   "id": "1dba112a-c162-4525-9783-7c333fde77d3",
   "metadata": {},
   "outputs": [
    {
     "name": "stdout",
     "output_type": "stream",
     "text": [
      "False\n"
     ]
    }
   ],
   "source": [
    "print(bool({}))"
   ]
  },
  {
   "cell_type": "code",
   "execution_count": 31,
   "id": "2a5bc02d-c643-41d4-bc42-2f52286d6126",
   "metadata": {},
   "outputs": [
    {
     "name": "stdout",
     "output_type": "stream",
     "text": [
      "True\n"
     ]
    }
   ],
   "source": [
    "# Checking that a particular value is of certain data type or not.\n",
    "\n",
    "r = 19 + 20j\n",
    "\n",
    "print(isinstance(r, complex))"
   ]
  },
  {
   "cell_type": "code",
   "execution_count": 34,
   "id": "3347f94a-55f9-4475-8b3c-93db52d9eef0",
   "metadata": {},
   "outputs": [
    {
     "name": "stdout",
     "output_type": "stream",
     "text": [
      "True\n"
     ]
    }
   ],
   "source": [
    "a = 'c'\n",
    "\n",
    "print(isinstance(a, str))"
   ]
  },
  {
   "cell_type": "code",
   "execution_count": null,
   "id": "58af4c00-8195-4f4e-9bb1-0ca6b8779e60",
   "metadata": {},
   "outputs": [],
   "source": []
  }
 ],
 "metadata": {
  "kernelspec": {
   "display_name": "Python 3 (ipykernel)",
   "language": "python",
   "name": "python3"
  },
  "language_info": {
   "codemirror_mode": {
    "name": "ipython",
    "version": 3
   },
   "file_extension": ".py",
   "mimetype": "text/x-python",
   "name": "python",
   "nbconvert_exporter": "python",
   "pygments_lexer": "ipython3",
   "version": "3.11.7"
  }
 },
 "nbformat": 4,
 "nbformat_minor": 5
}
