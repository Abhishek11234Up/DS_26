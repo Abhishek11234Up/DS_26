{
 "cells": [
  {
   "cell_type": "markdown",
   "id": "0258898b-699b-4903-b2fa-17fd8e73b1b6",
   "metadata": {},
   "source": [
    " Tip Calculator\n",
    "Instructions\n",
    "If the bill was $150.00, split between 5 people, with 12% tip.\n",
    "\n",
    "Each person should pay (150.00 / 5) * 1.12 = 33.6\n",
    "\n",
    "Format the result to 2 decimal places = 33.60\n",
    "\n",
    "Thus everyone's share of the total bill is $30.00 plus a $3.60 tip.\n",
    "\n",
    "Tip: There are 2 ways to round a number. You might have to do some Googling to solve this.💪\n",
    "\n",
    "Example Input\n",
    "Welcome to the tip calculator!\n",
    "What was the total bill? $124.56\n",
    "How much tip would you like to give? 10, 12, or 15? 12\n",
    "How many people to split the bill? 7\n",
    "\n",
    "Example Output\n",
    "Each person should pay: $19.93"
   ]
  },
  {
   "cell_type": "code",
   "execution_count": 7,
   "id": "0a0d9515-b742-42a0-ad12-81000cc9030d",
   "metadata": {},
   "outputs": [
    {
     "name": "stdout",
     "output_type": "stream",
     "text": [
      "Welcome to the tip calculator!\n"
     ]
    },
    {
     "name": "stdin",
     "output_type": "stream",
     "text": [
      "What was the total bill? $ 134\n",
      "How much tip would you like to give? 10, 12, or 15?  12\n",
      "How many people to split the bill? 4\n"
     ]
    },
    {
     "name": "stdout",
     "output_type": "stream",
     "text": [
      "Each person should pay: $37.52\n"
     ]
    }
   ],
   "source": [
    "#If the bill was $150.00, split between 5 people, with 12% tip. \n",
    "#Each person should pay (150.00 / 5) * 1.12 = 33.6\n",
    "#Round the result to 2 decimal places.\n",
    "print(\"Welcome to the tip calculator!\")\n",
    "bill = float(input(\"What was the total bill? $\"))\n",
    "tip = int(input(\"How much tip would you like to give? 10, 12, or 15? \"))\n",
    "people = int(input(\"How many people to split the bill?\"))\n",
    "\n",
    "tip_as_percent = tip / 100\n",
    "total_tip_amount = bill * tip_as_percent\n",
    "total_bill = bill + total_tip_amount\n",
    "bill_per_person = total_bill / people\n",
    "final_amount = round(bill_per_person, 2)\n",
    "\n",
    "\n",
    "# FAQ: How to round to 2 decimal places?\n",
    "\n",
    "\n",
    "\n",
    "\n",
    "print(f\"Each person should pay: ${final_amount}\")"
   ]
  },
  {
   "cell_type": "code",
   "execution_count": 5,
   "id": "8feafbdf-6236-4a01-8a8d-4a70c1e8cc57",
   "metadata": {},
   "outputs": [
    {
     "name": "stdout",
     "output_type": "stream",
     "text": [
      "Welcome to the tip calculator!\n"
     ]
    },
    {
     "name": "stdin",
     "output_type": "stream",
     "text": [
      "What was the total bill? $ 157\n",
      "How much tip would you like to give? 10, 12, or 15?  15\n",
      "How many people to split the bill?  7\n"
     ]
    },
    {
     "name": "stdout",
     "output_type": "stream",
     "text": [
      "Each person should pay: $ 25.79\n"
     ]
    }
   ],
   "source": [
    "#If the bill was $150.00, split between 5 people, with 12% tip. \n",
    "#Each person should pay (150.00 / 5) * 1.12 = 33.6\n",
    "#Round the result to 2 decimal places.\n",
    "print(\"Welcome to the tip calculator!\")\n",
    "bill = float(input(\"What was the total bill? $\"))\n",
    "tip = int(input(\"How much tip would you like to give? 10, 12, or 15? \"))\n",
    "people = int(input(\"How many people to split the bill? \"))\n",
    "\n",
    "tip_as_percent = tip / 100\n",
    "total_tip_amount = bill * tip_as_percent\n",
    "total_bill = bill + total_tip_amount\n",
    "bill_per_person = total_bill / people\n",
    "final_amount = round(bill_per_person,2)\n",
    "\n",
    "\n",
    "\n",
    "print(\"Each person should pay: $\",final_amount)"
   ]
  },
  {
   "cell_type": "code",
   "execution_count": null,
   "id": "35e65cbc-d6ee-40f0-8e72-9dfd7ca53ff5",
   "metadata": {},
   "outputs": [],
   "source": []
  }
 ],
 "metadata": {
  "kernelspec": {
   "display_name": "Python 3 (ipykernel)",
   "language": "python",
   "name": "python3"
  },
  "language_info": {
   "codemirror_mode": {
    "name": "ipython",
    "version": 3
   },
   "file_extension": ".py",
   "mimetype": "text/x-python",
   "name": "python",
   "nbconvert_exporter": "python",
   "pygments_lexer": "ipython3",
   "version": "3.11.7"
  }
 },
 "nbformat": 4,
 "nbformat_minor": 5
}
