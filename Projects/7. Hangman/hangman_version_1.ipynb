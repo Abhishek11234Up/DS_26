{
 "cells": [
  {
   "cell_type": "code",
   "execution_count": 2,
   "id": "dd95c827-44a5-4d73-af8c-39ad874ef2df",
   "metadata": {},
   "outputs": [
    {
     "name": "stdin",
     "output_type": "stream",
     "text": [
      "Guess a letter:  a\n"
     ]
    },
    {
     "name": "stdout",
     "output_type": "stream",
     "text": [
      "Right\n",
      "Wrong\n",
      "Wrong\n",
      "Wrong\n",
      "Right\n",
      "Wrong\n",
      "Wrong\n"
     ]
    }
   ],
   "source": [
    "#Step 1 \n",
    "\n",
    "word_list = [\"ardvark\", \"baboon\", \"camel\"]\n",
    "\n",
    "#TODO-1 - Randomly choose a word from the word_list and assign it to a variable called chosen_word.\n",
    "import random\n",
    "\n",
    "chosen_word = random.choice(word_list)\n",
    "\n",
    "#TODO-2 - Ask the user to guess a letter and assign their answer to a variable called guess. \n",
    "#Make guess lowercase.\n",
    "guess = input(\"Guess a letter: \").lower()\n",
    "\n",
    "#TODO-3 - Check if the letter the user guessed (guess) is one of the letters in the chosen_word.\n",
    "for letter in chosen_word:\n",
    "    if letter == guess:\n",
    "        print(\"Right\")\n",
    "    else:\n",
    "        print(\"Wrong\")"
   ]
  }
 ],
 "metadata": {
  "kernelspec": {
   "display_name": "Python 3 (ipykernel)",
   "language": "python",
   "name": "python3"
  },
  "language_info": {
   "codemirror_mode": {
    "name": "ipython",
    "version": 3
   },
   "file_extension": ".py",
   "mimetype": "text/x-python",
   "name": "python",
   "nbconvert_exporter": "python",
   "pygments_lexer": "ipython3",
   "version": "3.11.7"
  }
 },
 "nbformat": 4,
 "nbformat_minor": 5
}
