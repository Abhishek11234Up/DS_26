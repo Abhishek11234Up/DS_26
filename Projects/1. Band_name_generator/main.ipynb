{
 "cells": [
  {
   "cell_type": "markdown",
   "id": "b6f97de8-1f24-4fe4-9a26-e081eb8c4c8f",
   "metadata": {},
   "source": [
    " # 1. Ask user --> In which city did you grew up?\n",
    " # 2. Take the input from user.\n",
    " # 3. Ask user what's their favourite pet name?\n",
    " # 4. Join the city and pet name to generate band name for him/her.\n",
    " # 5. Make sure that your input prompt come in next line.\n",
    " # example output -- if city = Siwan and pet name = Jack then output should be \"Siwan Jack\""
   ]
  },
  {
   "cell_type": "code",
   "execution_count": 2,
   "id": "6eec51bd-94d0-4f55-98c8-37dfa0d0048c",
   "metadata": {},
   "outputs": [
    {
     "name": "stdin",
     "output_type": "stream",
     "text": [
      "In which city did you grew up?\n",
      " Siwan\n",
      "what's their favourite pet name?\n",
      " Jack\n"
     ]
    },
    {
     "data": {
      "text/plain": [
       "'Siwan Jack'"
      ]
     },
     "execution_count": 2,
     "metadata": {},
     "output_type": "execute_result"
    }
   ],
   "source": [
    "# Genrally we do this\n",
    "# Ask user --> In which city did you grew up?\n",
    "City_Name = input(\"In which city did you grew up?\\n\")\n",
    "\n",
    "# Ask user what's their favourite pet name?\n",
    "Pet_name = input(\"what's their favourite pet name?\\n\")\n",
    "\n",
    "# Join the city and pet name to generate band name for him/her.\n",
    "Band_Name = City_Name +\" \"+ Pet_name\n",
    "Band_Name"
   ]
  },
  {
   "cell_type": "code",
   "execution_count": 4,
   "id": "1819f816-6143-4e11-8e48-46418c44590b",
   "metadata": {},
   "outputs": [
    {
     "name": "stdout",
     "output_type": "stream",
     "text": [
      "Welcome to Band Name Generator.\n"
     ]
    },
    {
     "name": "stdin",
     "output_type": "stream",
     "text": [
      "In which city did you grew up?\n",
      " Siwan\n",
      "what's their favourite pet name?\n",
      " Jack\n"
     ]
    },
    {
     "name": "stdout",
     "output_type": "stream",
     "text": [
      "Your band name could be Siwan Jack.\n"
     ]
    }
   ],
   "source": [
    "# Greet user \n",
    "print(\"Welcome to Band Name Generator.\")\n",
    "\n",
    "# Ask user --> In which city did you grew up?\n",
    "City_Name = input(\"In which city did you grew up?\\n\")\n",
    "\n",
    "# Ask user what's their favourite pet name?\n",
    "Pet_name = input(\"what's their favourite pet name?\\n\")\n",
    "\n",
    "# Join the city and pet name to generate band name for him/her.\n",
    "Band_Name = City_Name +\" \"+ Pet_name\n",
    "\n",
    "print(\"Your band name could be \" + Band_Name+'.')"
   ]
  }
 ],
 "metadata": {
  "kernelspec": {
   "display_name": "Python 3 (ipykernel)",
   "language": "python",
   "name": "python3"
  },
  "language_info": {
   "codemirror_mode": {
    "name": "ipython",
    "version": 3
   },
   "file_extension": ".py",
   "mimetype": "text/x-python",
   "name": "python",
   "nbconvert_exporter": "python",
   "pygments_lexer": "ipython3",
   "version": "3.11.7"
  }
 },
 "nbformat": 4,
 "nbformat_minor": 5
}
