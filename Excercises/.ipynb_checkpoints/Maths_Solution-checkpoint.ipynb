{
 "cells": [
  {
   "cell_type": "code",
   "execution_count": 10,
   "id": "4c017359-943f-4543-9ba6-343a5005f479",
   "metadata": {},
   "outputs": [],
   "source": [
    "import math"
   ]
  },
  {
   "cell_type": "code",
   "execution_count": 1,
   "id": "eb7aea23-9943-48a4-a594-7ec1cc349d66",
   "metadata": {},
   "outputs": [],
   "source": [
    "# 027 Ask the user to enter a number with lots of\n",
    "# decimal places. Multiply this number by two and\n",
    "# display the answer."
   ]
  },
  {
   "cell_type": "code",
   "execution_count": 5,
   "id": "bc46b8f7-41b5-4504-a44c-4259b9d7c0e1",
   "metadata": {},
   "outputs": [
    {
     "name": "stdin",
     "output_type": "stream",
     "text": [
      "Enter a number with lots of decimal places:\n",
      " 45.87328432\n"
     ]
    },
    {
     "name": "stdout",
     "output_type": "stream",
     "text": [
      "91.74656864\n"
     ]
    }
   ],
   "source": [
    "num = float(input(\"Enter a number with lots of decimal places:\\n\"))\n",
    "print(num * 2)"
   ]
  },
  {
   "cell_type": "code",
   "execution_count": 6,
   "id": "5c7d41a7-3972-4f69-bbcd-dc3fd39ad532",
   "metadata": {},
   "outputs": [],
   "source": [
    "# 028 Update program 027 so that it will display the\n",
    "# answer to two decimal places."
   ]
  },
  {
   "cell_type": "code",
   "execution_count": 8,
   "id": "f1eecaad-5ab7-4942-b543-f03c2efe7fb6",
   "metadata": {},
   "outputs": [
    {
     "name": "stdin",
     "output_type": "stream",
     "text": [
      "Enter a number with lots of decimal places:\n",
      " 3.14157\n"
     ]
    },
    {
     "name": "stdout",
     "output_type": "stream",
     "text": [
      "6.28314\n",
      "6.28\n"
     ]
    }
   ],
   "source": [
    "num = float(input(\"Enter a number with lots of decimal places:\\n\"))\n",
    "answer = num * 2\n",
    "print(answer)\n",
    "print(round(answer,2))"
   ]
  },
  {
   "cell_type": "code",
   "execution_count": 9,
   "id": "6586c2ca-3338-480a-bdb4-171d3a410754",
   "metadata": {},
   "outputs": [],
   "source": [
    "# 029 Ask the user to enter an integer that is over 500.\n",
    "# Work out the square root of that number and display it\n",
    "# to two decimal places."
   ]
  },
  {
   "cell_type": "code",
   "execution_count": 12,
   "id": "93ddb637-0b34-4ad0-88b1-71b722fa2f90",
   "metadata": {},
   "outputs": [
    {
     "name": "stdin",
     "output_type": "stream",
     "text": [
      "Enter a number greater than 500:  650\n"
     ]
    },
    {
     "name": "stdout",
     "output_type": "stream",
     "text": [
      "25.5\n"
     ]
    }
   ],
   "source": [
    "num = int(input(\"Enter a number greater than 500: \"))\n",
    "answer = math.sqrt(num)\n",
    "print(round(answer,2))"
   ]
  },
  {
   "cell_type": "code",
   "execution_count": 13,
   "id": "1e30112e-d91c-43e3-bc68-210b056912fa",
   "metadata": {},
   "outputs": [
    {
     "data": {
      "text/plain": [
       "650.25"
      ]
     },
     "execution_count": 13,
     "metadata": {},
     "output_type": "execute_result"
    }
   ],
   "source": [
    "25.5 * 25.5"
   ]
  },
  {
   "cell_type": "code",
   "execution_count": 14,
   "id": "c378e683-ac97-48cc-99ae-e41569a3f1e7",
   "metadata": {},
   "outputs": [
    {
     "name": "stdout",
     "output_type": "stream",
     "text": [
      "3.14159\n"
     ]
    }
   ],
   "source": [
    "# 030 Display pi (π) to five decimal places.\n",
    "a = math.pi\n",
    "print(round(a,5))"
   ]
  },
  {
   "cell_type": "code",
   "execution_count": 15,
   "id": "357fe53c-dd24-4e27-9f56-dc6cdb5e5828",
   "metadata": {},
   "outputs": [],
   "source": [
    "# 031 Ask the user to enter the radius of a circle\n",
    "# (measurement from the centre point to the edge).\n",
    "# Work out the area of the circle (π*radius^2)."
   ]
  },
  {
   "cell_type": "code",
   "execution_count": 16,
   "id": "9fa0c92f-5096-4ada-99ac-65005076dbfe",
   "metadata": {},
   "outputs": [
    {
     "name": "stdin",
     "output_type": "stream",
     "text": [
      "Enter the radius of the circle:  25\n"
     ]
    },
    {
     "name": "stdout",
     "output_type": "stream",
     "text": [
      "1963.4954084936207\n"
     ]
    }
   ],
   "source": [
    "radius = int(input(\"Enter the radius of the circle: \"))\n",
    "area = math.pi*(radius**2)\n",
    "print(area)"
   ]
  },
  {
   "cell_type": "code",
   "execution_count": 18,
   "id": "982158c9-64ed-4976-adf5-f03d601282da",
   "metadata": {},
   "outputs": [],
   "source": [
    "# 032 Ask for the radius and the depth of a cylinder and\n",
    "# work out the total volume (circle area*depth) rounded\n",
    "# to three decimal places."
   ]
  },
  {
   "cell_type": "code",
   "execution_count": 19,
   "id": "58ad2158-423a-430b-92ce-21877b224d06",
   "metadata": {},
   "outputs": [
    {
     "name": "stdin",
     "output_type": "stream",
     "text": [
      "Enter the radius of the cylinder:  20\n",
      "Enter the depth of the cylinder:  30\n"
     ]
    },
    {
     "name": "stdout",
     "output_type": "stream",
     "text": [
      "37699.112\n"
     ]
    }
   ],
   "source": [
    "radius = int(input(\"Enter the radius of the cylinder: \"))\n",
    "depth = int(input(\"Enter the depth of the cylinder: \"))\n",
    "area = math.pi*(radius**2)\n",
    "volume = area * depth\n",
    "print(round(volume,3))"
   ]
  },
  {
   "cell_type": "code",
   "execution_count": 20,
   "id": "07b4d29d-f3b4-4de4-8b69-c405103dc728",
   "metadata": {},
   "outputs": [],
   "source": [
    "# 033 Ask the user to enter two numbers. Use whole\n",
    "# number division to divide the first number by the\n",
    "# second and also work out the remainder and display\n",
    "# the answer in a user-friendly way (e.g. if they enter 7\n",
    "# and 2 display “7 divided by 2 is 3 with 1 remaining”)"
   ]
  },
  {
   "cell_type": "code",
   "execution_count": 21,
   "id": "c1fbe8f1-63e3-4ad2-aab9-57807f36a4c1",
   "metadata": {},
   "outputs": [
    {
     "name": "stdin",
     "output_type": "stream",
     "text": [
      "Enter a number:  8\n",
      "Enter a number:  2\n"
     ]
    },
    {
     "name": "stdout",
     "output_type": "stream",
     "text": [
      "8 divided by 2 is 4.0 with 0 remaining.\n"
     ]
    }
   ],
   "source": [
    "num_1 = int(input(\"Enter a number: \"))\n",
    "num_2 = int(input(\"Enter a number: \"))\n",
    "ans_1 = num_1 / num_2\n",
    "ans_2 = num_1 % num_2\n",
    "print(num_1,\"divided by\",num_2, \"is\", ans_1, \"with\", ans_2, \"remaining.\")"
   ]
  },
  {
   "cell_type": "code",
   "execution_count": 22,
   "id": "684daac4-3b24-49ec-bb20-8801087cd8df",
   "metadata": {},
   "outputs": [],
   "source": [
    "# 034 Display the following message:\n",
    "# 1. Square\n",
    "# 2. Triangle\n",
    "# Enter a number:\n",
    "# If the user enters 1, then it should ask them for the\n",
    "# length of one of its sides and display the area. If they\n",
    "# select 2, it should ask for the base and height of the\n",
    "# triangle and display the area. If they type in anything\n",
    "# else, it should give them a suitable error message."
   ]
  },
  {
   "cell_type": "code",
   "execution_count": 26,
   "id": "68a4cc8b-2bd9-4d81-be18-79f6aff373a6",
   "metadata": {},
   "outputs": [
    {
     "name": "stdout",
     "output_type": "stream",
     "text": [
      "1) Square\n",
      "2) Traingle\n",
      "\n"
     ]
    },
    {
     "name": "stdin",
     "output_type": "stream",
     "text": [
      "Enter a number:  1\n",
      "Enter length of one side:  4\n"
     ]
    },
    {
     "name": "stdout",
     "output_type": "stream",
     "text": [
      "The area of your chosen shape is 16\n"
     ]
    }
   ],
   "source": [
    "print(\"1) Square\")\n",
    "print(\"2) Traingle\")\n",
    "print()\n",
    "menu_selection = int(input(\"Enter a number: \"))\n",
    "\n",
    "if menu_selection == 1:\n",
    "    side = int(input(\"Enter length of one side: \"))\n",
    "    area = side * side\n",
    "    print(\"The area of your chosen shape is\", area)\n",
    "elif menu_selection == 2:\n",
    "    base = int(input(\"Enter the length of the base: \"))\n",
    "    height = int(input(\"Enter the height of the triangle: \"))\n",
    "    area = (base * height) / 2\n",
    "    print(\"The area of your chosen shape is\", area)\n",
    "else:\n",
    "    print(\"Incorrect option selected.\")"
   ]
  }
 ],
 "metadata": {
  "kernelspec": {
   "display_name": "Python 3 (ipykernel)",
   "language": "python",
   "name": "python3"
  },
  "language_info": {
   "codemirror_mode": {
    "name": "ipython",
    "version": 3
   },
   "file_extension": ".py",
   "mimetype": "text/x-python",
   "name": "python",
   "nbconvert_exporter": "python",
   "pygments_lexer": "ipython3",
   "version": "3.11.7"
  }
 },
 "nbformat": 4,
 "nbformat_minor": 5
}
