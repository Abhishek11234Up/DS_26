{
 "cells": [
  {
   "cell_type": "code",
   "execution_count": 1,
   "id": "d72c9b86-6ad8-4e8c-ae70-861cc281b2ce",
   "metadata": {},
   "outputs": [
    {
     "name": "stdout",
     "output_type": "stream",
     "text": [
      "Hello, World!\n"
     ]
    }
   ],
   "source": [
    "print(\"Hello, World!\")"
   ]
  },
  {
   "cell_type": "code",
   "execution_count": 2,
   "id": "e0b96e85-9261-473d-ad85-806d0cee78ae",
   "metadata": {},
   "outputs": [
    {
     "name": "stdout",
     "output_type": "stream",
     "text": [
      "Hello, World!\n"
     ]
    }
   ],
   "source": [
    "my_string = \"Hello, World!\"\n",
    "print(my_string)"
   ]
  },
  {
   "cell_type": "code",
   "execution_count": 3,
   "id": "850d5e30-76bd-4acd-a504-8b2c1c7b82d3",
   "metadata": {},
   "outputs": [],
   "source": [
    "# Steps-->\n",
    "# 1. --> Understand the problem.\n",
    "# 2. --> Draw Flowcharts.\n",
    "# 3. --> Try with pen and paper first then write the code.\n",
    "# 4. --> If stucked in between start with step 1."
   ]
  }
 ],
 "metadata": {
  "kernelspec": {
   "display_name": "Python 3 (ipykernel)",
   "language": "python",
   "name": "python3"
  },
  "language_info": {
   "codemirror_mode": {
    "name": "ipython",
    "version": 3
   },
   "file_extension": ".py",
   "mimetype": "text/x-python",
   "name": "python",
   "nbconvert_exporter": "python",
   "pygments_lexer": "ipython3",
   "version": "3.11.7"
  }
 },
 "nbformat": 4,
 "nbformat_minor": 5
}
