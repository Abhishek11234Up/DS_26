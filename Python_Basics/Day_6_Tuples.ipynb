{
 "cells": [
  {
   "cell_type": "code",
   "execution_count": 1,
   "id": "d2279c43-b03a-4b05-8834-46c85c41f539",
   "metadata": {},
   "outputs": [],
   "source": [
    "Tuple_1 = (1, \"Amit\", \"MDH\", 3+5j, 55.9, [1,2,3], (2,5,9))"
   ]
  },
  {
   "cell_type": "code",
   "execution_count": 2,
   "id": "e63358a2-3fc5-4556-8ef5-a2bbffc50447",
   "metadata": {},
   "outputs": [
    {
     "data": {
      "text/plain": [
       "(1, 'Amit', 'MDH', (3+5j), 55.9, [1, 2, 3], (2, 5, 9))"
      ]
     },
     "execution_count": 2,
     "metadata": {},
     "output_type": "execute_result"
    }
   ],
   "source": [
    "Tuple_1"
   ]
  },
  {
   "cell_type": "code",
   "execution_count": 3,
   "id": "fa1ed1da-ea65-4b3a-b833-820c970737be",
   "metadata": {},
   "outputs": [
    {
     "ename": "TypeError",
     "evalue": "'tuple' object does not support item assignment",
     "output_type": "error",
     "traceback": [
      "\u001b[1;31m---------------------------------------------------------------------------\u001b[0m",
      "\u001b[1;31mTypeError\u001b[0m                                 Traceback (most recent call last)",
      "Cell \u001b[1;32mIn[3], line 1\u001b[0m\n\u001b[1;32m----> 1\u001b[0m Tuple_1[\u001b[38;5;241m2\u001b[39m] \u001b[38;5;241m=\u001b[39m \u001b[38;5;124m\"\u001b[39m\u001b[38;5;124mGoldee\u001b[39m\u001b[38;5;124m\"\u001b[39m\n",
      "\u001b[1;31mTypeError\u001b[0m: 'tuple' object does not support item assignment"
     ]
    }
   ],
   "source": [
    "Tuple_1[2] = \"Goldee\""
   ]
  },
  {
   "cell_type": "code",
   "execution_count": 6,
   "id": "e0d655a9-79b1-4382-9b1d-0bd4efca4582",
   "metadata": {},
   "outputs": [
    {
     "data": {
      "text/plain": [
       "7"
      ]
     },
     "execution_count": 6,
     "metadata": {},
     "output_type": "execute_result"
    }
   ],
   "source": [
    "len(Tuple_1)"
   ]
  },
  {
   "cell_type": "code",
   "execution_count": 4,
   "id": "793158a5-da32-49fd-9bef-289b771f4f5b",
   "metadata": {},
   "outputs": [
    {
     "data": {
      "text/plain": [
       "(2, 5, 9)"
      ]
     },
     "execution_count": 4,
     "metadata": {},
     "output_type": "execute_result"
    }
   ],
   "source": [
    "Tuple_1[-1]"
   ]
  },
  {
   "cell_type": "code",
   "execution_count": 5,
   "id": "a1358e0a-3389-47a6-babd-30eb7500a6ed",
   "metadata": {},
   "outputs": [
    {
     "data": {
      "text/plain": [
       "(2, 5, 9)"
      ]
     },
     "execution_count": 5,
     "metadata": {},
     "output_type": "execute_result"
    }
   ],
   "source": [
    "Tuple_1[6]"
   ]
  },
  {
   "cell_type": "code",
   "execution_count": 7,
   "id": "067eaf24-ac1b-4073-9fce-3149e888ef54",
   "metadata": {},
   "outputs": [],
   "source": [
    "Tuple_2 = (1,1,1,2,3,3,4,5)"
   ]
  },
  {
   "cell_type": "code",
   "execution_count": 8,
   "id": "d339183d-fa7a-4b4d-995b-d340b3a6f852",
   "metadata": {},
   "outputs": [
    {
     "data": {
      "text/plain": [
       "(1, 1, 1, 2, 3, 3, 4, 5)"
      ]
     },
     "execution_count": 8,
     "metadata": {},
     "output_type": "execute_result"
    }
   ],
   "source": [
    "Tuple_2"
   ]
  },
  {
   "cell_type": "code",
   "execution_count": 9,
   "id": "b882c1f1-61c2-4a70-854b-523f91d3a145",
   "metadata": {},
   "outputs": [
    {
     "name": "stdout",
     "output_type": "stream",
     "text": [
      "<class 'tuple'>\n"
     ]
    }
   ],
   "source": [
    "print(type(Tuple_1))"
   ]
  },
  {
   "cell_type": "code",
   "execution_count": 11,
   "id": "c2f28a4a-d414-4df0-9f06-b10e97edcbf5",
   "metadata": {},
   "outputs": [],
   "source": [
    "Tuple_3  = (1)"
   ]
  },
  {
   "cell_type": "code",
   "execution_count": 12,
   "id": "64dea324-5ecb-4696-aa00-444cf3a51b19",
   "metadata": {},
   "outputs": [
    {
     "name": "stdout",
     "output_type": "stream",
     "text": [
      "<class 'int'>\n"
     ]
    }
   ],
   "source": [
    "print(type(Tuple_3))"
   ]
  },
  {
   "cell_type": "code",
   "execution_count": 13,
   "id": "ce323c12-1575-43be-b0a4-8b757889bee5",
   "metadata": {},
   "outputs": [
    {
     "name": "stdout",
     "output_type": "stream",
     "text": [
      "<class 'tuple'>\n"
     ]
    }
   ],
   "source": [
    "Tuple_4  = (1,)\n",
    "print(type(Tuple_4))"
   ]
  },
  {
   "cell_type": "code",
   "execution_count": 14,
   "id": "c0b31e0c-f9e9-40e7-acea-1f375fe409c4",
   "metadata": {},
   "outputs": [],
   "source": [
    "# The tuple() Constructor -- practice it yourself"
   ]
  },
  {
   "cell_type": "code",
   "execution_count": 15,
   "id": "255444f1-18d4-4bab-8fb0-c74597ec15ee",
   "metadata": {},
   "outputs": [],
   "source": [
    "x = (\"apple\", \"banana\", \"cherry\")\n"
   ]
  },
  {
   "cell_type": "code",
   "execution_count": 16,
   "id": "f23eb59d-1282-4a54-9524-74c002552404",
   "metadata": {},
   "outputs": [
    {
     "data": {
      "text/plain": [
       "tuple"
      ]
     },
     "execution_count": 16,
     "metadata": {},
     "output_type": "execute_result"
    }
   ],
   "source": [
    "type(x)"
   ]
  },
  {
   "cell_type": "code",
   "execution_count": 17,
   "id": "37ed4646-6460-45c3-a035-b62d1a8fd4e8",
   "metadata": {},
   "outputs": [],
   "source": [
    "Y = list(x)"
   ]
  },
  {
   "cell_type": "code",
   "execution_count": 19,
   "id": "1f02ab50-5157-4453-9216-37b9434db46e",
   "metadata": {},
   "outputs": [
    {
     "data": {
      "text/plain": [
       "['apple', 'banana', 'cherry']"
      ]
     },
     "execution_count": 19,
     "metadata": {},
     "output_type": "execute_result"
    }
   ],
   "source": [
    "Y"
   ]
  },
  {
   "cell_type": "code",
   "execution_count": 20,
   "id": "1f3c0360-f0b6-4cfb-969e-418246d7add7",
   "metadata": {},
   "outputs": [
    {
     "name": "stdout",
     "output_type": "stream",
     "text": [
      "('apple', 'kiwi', 'cherry')\n"
     ]
    }
   ],
   "source": [
    "Y[1] = \"kiwi\"\n",
    "x = tuple(Y)\n",
    "\n",
    "print(x)"
   ]
  },
  {
   "cell_type": "code",
   "execution_count": 21,
   "id": "7295d381-8d67-44fc-9a4c-be60423dbe56",
   "metadata": {},
   "outputs": [
    {
     "name": "stdout",
     "output_type": "stream",
     "text": [
      "('apple', 'kiwi', 'cherry')\n"
     ]
    }
   ],
   "source": [
    "x = (\"apple\", \"banana\", \"cherry\")\n",
    "y = list(x)\n",
    "y[1] = \"kiwi\"\n",
    "x = tuple(y)\n",
    "\n",
    "print(x)"
   ]
  },
  {
   "cell_type": "code",
   "execution_count": 24,
   "id": "8888cc19-8728-4544-a947-9c1538fbfac5",
   "metadata": {},
   "outputs": [
    {
     "name": "stdout",
     "output_type": "stream",
     "text": [
      "(88, 89, 28, 67, 76)\n",
      "<class 'tuple'>\n",
      "(88, 89, 99, 67, 76)\n"
     ]
    }
   ],
   "source": [
    "a = (88, 89, 28, 67, 76)\n",
    "print(a)\n",
    "print(type(a))\n",
    "b = list(a)\n",
    "b[2] = 99\n",
    "a = tuple(b)\n",
    "print(a)"
   ]
  },
  {
   "cell_type": "code",
   "execution_count": 25,
   "id": "1a909201-9320-4f73-bd0f-0699c073413a",
   "metadata": {},
   "outputs": [
    {
     "data": {
      "text/plain": [
       "(1, 1, 1, 2, 3, 3, 4, 5)"
      ]
     },
     "execution_count": 25,
     "metadata": {},
     "output_type": "execute_result"
    }
   ],
   "source": [
    "Tuple_2"
   ]
  },
  {
   "cell_type": "code",
   "execution_count": 26,
   "id": "80eab7ae-37a3-492b-ac89-4b024e88dc95",
   "metadata": {},
   "outputs": [],
   "source": [
    "del Tuple_2"
   ]
  },
  {
   "cell_type": "code",
   "execution_count": 27,
   "id": "e20ffab0-82a2-4b28-b10f-f52075098dd0",
   "metadata": {},
   "outputs": [
    {
     "ename": "NameError",
     "evalue": "name 'Tuple_2' is not defined",
     "output_type": "error",
     "traceback": [
      "\u001b[1;31m---------------------------------------------------------------------------\u001b[0m",
      "\u001b[1;31mNameError\u001b[0m                                 Traceback (most recent call last)",
      "Cell \u001b[1;32mIn[27], line 1\u001b[0m\n\u001b[1;32m----> 1\u001b[0m Tuple_2\n",
      "\u001b[1;31mNameError\u001b[0m: name 'Tuple_2' is not defined"
     ]
    }
   ],
   "source": [
    "Tuple_2"
   ]
  },
  {
   "cell_type": "code",
   "execution_count": 28,
   "id": "36d93786-0620-498d-aaf5-edffdb4da847",
   "metadata": {},
   "outputs": [
    {
     "name": "stdout",
     "output_type": "stream",
     "text": [
      "apple\n",
      "banana\n",
      "['cherry', 'strawberry', 'raspberry']\n"
     ]
    }
   ],
   "source": [
    "fruits = (\"apple\", \"banana\", \"cherry\", \"strawberry\", \"raspberry\")\n",
    "\n",
    "(green, yellow, *red) = fruits\n",
    "\n",
    "print(green)\n",
    "print(yellow)\n",
    "print(red)"
   ]
  },
  {
   "cell_type": "code",
   "execution_count": 29,
   "id": "6af3d1c4-618f-4fea-8c41-3feab814bdcd",
   "metadata": {},
   "outputs": [
    {
     "name": "stdout",
     "output_type": "stream",
     "text": [
      "apple\n",
      "['mango', 'papaya', 'pineapple']\n",
      "cherry\n"
     ]
    }
   ],
   "source": [
    "fruits = (\"apple\", \"mango\", \"papaya\", \"pineapple\", \"cherry\")\n",
    "\n",
    "(green, *tropic, red) = fruits\n",
    "\n",
    "print(green)\n",
    "print(tropic)\n",
    "print(red)"
   ]
  },
  {
   "cell_type": "code",
   "execution_count": 30,
   "id": "afd7ea18-e13f-4020-a813-3fcac96fae52",
   "metadata": {},
   "outputs": [
    {
     "name": "stdout",
     "output_type": "stream",
     "text": [
      "['apple', 'mango', 'papaya']\n",
      "pineapple\n",
      "cherry\n"
     ]
    }
   ],
   "source": [
    "fruits = (\"apple\", \"mango\", \"papaya\", \"pineapple\", \"cherry\")\n",
    "\n",
    "(*green, tropic, red) = fruits\n",
    "\n",
    "print(green)\n",
    "print(tropic)\n",
    "print(red)"
   ]
  },
  {
   "cell_type": "code",
   "execution_count": 32,
   "id": "7c19202d-8b05-441a-83d1-2a49a77e4ac2",
   "metadata": {},
   "outputs": [
    {
     "data": {
      "text/plain": [
       "('apple', 'mango', 'papaya', 'pineapple', 'cherry')"
      ]
     },
     "execution_count": 32,
     "metadata": {},
     "output_type": "execute_result"
    }
   ],
   "source": [
    "fruits"
   ]
  },
  {
   "cell_type": "code",
   "execution_count": 33,
   "id": "dc3a85e4-7004-491c-a7d5-4457939ec961",
   "metadata": {},
   "outputs": [
    {
     "name": "stdout",
     "output_type": "stream",
     "text": [
      "apple\n",
      "mango\n",
      "papaya\n",
      "pineapple\n",
      "cherry\n"
     ]
    }
   ],
   "source": [
    "for i in fruits:\n",
    "    print(i)"
   ]
  },
  {
   "cell_type": "code",
   "execution_count": 40,
   "id": "43cdeb8f-a38d-44a2-9c48-53a731383eff",
   "metadata": {},
   "outputs": [
    {
     "name": "stdout",
     "output_type": "stream",
     "text": [
      "apple\n",
      "mango\n",
      "papaya\n",
      "pineapple\n",
      "cherry\n"
     ]
    }
   ],
   "source": [
    "i = 0\n",
    "while i < len(fruits):\n",
    "  print(fruits[i])\n",
    "  i = i + 1"
   ]
  },
  {
   "cell_type": "code",
   "execution_count": 41,
   "id": "07934efe-a1e5-44c2-b622-3aab4b91b4f5",
   "metadata": {},
   "outputs": [
    {
     "name": "stdout",
     "output_type": "stream",
     "text": [
      "('a', 'b', 'c', 1, 2, 3)\n"
     ]
    }
   ],
   "source": [
    "tuple1 = (\"a\", \"b\" , \"c\")\n",
    "tuple2 = (1, 2, 3)\n",
    "\n",
    "tuple3 = tuple1 + tuple2\n",
    "print(tuple3)"
   ]
  },
  {
   "cell_type": "code",
   "execution_count": 42,
   "id": "2d39bb2f-fa7b-45b6-9fb2-916a6fde60c6",
   "metadata": {},
   "outputs": [
    {
     "name": "stdout",
     "output_type": "stream",
     "text": [
      "('apple', 'banana', 'cherry', 'apple', 'banana', 'cherry')\n"
     ]
    }
   ],
   "source": [
    "fruits = (\"apple\", \"banana\", \"cherry\")\n",
    "mytuple = fruits * 2\n",
    "\n",
    "print(mytuple)"
   ]
  }
 ],
 "metadata": {
  "kernelspec": {
   "display_name": "Python 3 (ipykernel)",
   "language": "python",
   "name": "python3"
  },
  "language_info": {
   "codemirror_mode": {
    "name": "ipython",
    "version": 3
   },
   "file_extension": ".py",
   "mimetype": "text/x-python",
   "name": "python",
   "nbconvert_exporter": "python",
   "pygments_lexer": "ipython3",
   "version": "3.11.7"
  }
 },
 "nbformat": 4,
 "nbformat_minor": 5
}
