{
 "cells": [
  {
   "cell_type": "code",
   "execution_count": 4,
   "id": "2cadd492-ce98-445f-a119-735797ac4c94",
   "metadata": {},
   "outputs": [
    {
     "name": "stdin",
     "output_type": "stream",
     "text": [
      "Please enter the no. between 1-7:  2000\n"
     ]
    },
    {
     "name": "stdout",
     "output_type": "stream",
     "text": [
      "Invalid Day\n"
     ]
    }
   ],
   "source": [
    "\"\"\"Ask the user to enter the number of day\n",
    "and then show the output as weekday. And if user enters\n",
    "a number other than 1-7 then print a message as invalid day.\"\"\"\n",
    "\n",
    "no_day = int(input(\"Please enter the no. between 1-7: \"))\n",
    "\n",
    "if no_day == 1:\n",
    "    print(\"Saturday\")\n",
    "elif no_day == 2:\n",
    "    print(\"Sunday\")\n",
    "elif no_day == 3:\n",
    "    print(\"Monday\")\n",
    "elif no_day == 4:\n",
    "    print(\"Tuesday\")\n",
    "elif no_day == 5:\n",
    "    print(\"Wednesday\")\n",
    "elif no_day == 6:\n",
    "    print(\"Thursday\")\n",
    "elif no_day == 7:\n",
    "    print(\"Friday\")\n",
    "else:\n",
    "    print(\"Invalid Day\")"
   ]
  }
 ],
 "metadata": {
  "kernelspec": {
   "display_name": "Python 3 (ipykernel)",
   "language": "python",
   "name": "python3"
  },
  "language_info": {
   "codemirror_mode": {
    "name": "ipython",
    "version": 3
   },
   "file_extension": ".py",
   "mimetype": "text/x-python",
   "name": "python",
   "nbconvert_exporter": "python",
   "pygments_lexer": "ipython3",
   "version": "3.11.7"
  }
 },
 "nbformat": 4,
 "nbformat_minor": 5
}
