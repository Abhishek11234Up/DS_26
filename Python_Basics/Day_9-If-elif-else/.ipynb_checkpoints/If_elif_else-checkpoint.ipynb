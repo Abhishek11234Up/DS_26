{
 "cells": [
  {
   "cell_type": "code",
   "execution_count": 2,
   "id": "04cf1431-6148-4d09-8914-24f909e2239a",
   "metadata": {},
   "outputs": [],
   "source": [
    "import keyword"
   ]
  },
  {
   "cell_type": "code",
   "execution_count": 5,
   "id": "2308ecfa-a613-4388-8776-d83fb6dde462",
   "metadata": {},
   "outputs": [
    {
     "name": "stdout",
     "output_type": "stream",
     "text": [
      "['False', 'None', 'True', 'and', 'as', 'assert', 'async', 'await', 'break', 'class', 'continue', 'def', 'del', 'elif', 'else', 'except', 'finally', 'for', 'from', 'global', 'if', 'import', 'in', 'is', 'lambda', 'nonlocal', 'not', 'or', 'pass', 'raise', 'return', 'try', 'while', 'with', 'yield']\n"
     ]
    }
   ],
   "source": [
    "print(keyword.kwlist)"
   ]
  },
  {
   "cell_type": "code",
   "execution_count": 6,
   "id": "9a9b63d9-eacf-4a02-ac16-e91eef082897",
   "metadata": {},
   "outputs": [],
   "source": [
    "x = 50\n",
    "y = 60\n",
    "\n",
    "if x > y:\n",
    "    print(\"x is greater than y\")"
   ]
  },
  {
   "cell_type": "code",
   "execution_count": 7,
   "id": "b84cf4ef-49f5-43dd-9f1b-89fec305c0c0",
   "metadata": {},
   "outputs": [
    {
     "name": "stdout",
     "output_type": "stream",
     "text": [
      "x is smaller than y\n"
     ]
    }
   ],
   "source": [
    "x = 50\n",
    "y = 60\n",
    "\n",
    "if x < y:\n",
    "    print(\"x is smaller than y\")"
   ]
  },
  {
   "cell_type": "code",
   "execution_count": 12,
   "id": "14a677dd-e611-4b3d-a0fc-7c55eea404e1",
   "metadata": {},
   "outputs": [
    {
     "name": "stdout",
     "output_type": "stream",
     "text": [
      "Kuch Bhi\n"
     ]
    }
   ],
   "source": [
    "# when there is something in which you are going to test only one condition then use if.\n",
    "\n",
    "s = 78\n",
    "t = 900\n",
    "\n",
    "if t>s:\n",
    "    print(\"Kuch Bhi\")"
   ]
  },
  {
   "cell_type": "code",
   "execution_count": 16,
   "id": "151792ea-2428-4028-b2ed-baeca288ff1e",
   "metadata": {},
   "outputs": [
    {
     "name": "stdout",
     "output_type": "stream",
     "text": [
      "Bhai ka bhaukal hai\n"
     ]
    }
   ],
   "source": [
    "s = 78\n",
    "t = 900\n",
    "\n",
    "if t<s:\n",
    "    print(\"Kuch Bhi\")\n",
    "else:\n",
    "    print(\"Bhai ka bhaukal hai\")"
   ]
  },
  {
   "cell_type": "code",
   "execution_count": 17,
   "id": "9d6c1ec3-b17d-47b9-b81d-514240d62b1e",
   "metadata": {},
   "outputs": [
    {
     "name": "stdout",
     "output_type": "stream",
     "text": [
      "Bhai ka bhaukal hai\n"
     ]
    }
   ],
   "source": [
    "s = 78\n",
    "t = 900\n",
    "\n",
    "if t<s:\n",
    "    print(\"Kuch Bhi\")\n",
    "elif t>s:\n",
    "    print(\"Bhai ka bhaukal hai\")\n",
    "else:\n",
    "    print(\"Ab mai ni chlne wala\")"
   ]
  },
  {
   "cell_type": "code",
   "execution_count": 18,
   "id": "8cef3937-8534-45f9-8172-c23fe027e75f",
   "metadata": {},
   "outputs": [
    {
     "name": "stdout",
     "output_type": "stream",
     "text": [
      "a is greater than b\n"
     ]
    }
   ],
   "source": [
    "# Ternary Operators\n",
    "a = 200\n",
    "b = 33\n",
    "\n",
    "if a > b: print(\"a is greater than b\")"
   ]
  },
  {
   "cell_type": "code",
   "execution_count": 19,
   "id": "a199f705-45de-4ae4-a239-59f187cfcf8c",
   "metadata": {},
   "outputs": [
    {
     "name": "stdout",
     "output_type": "stream",
     "text": [
      "A\n"
     ]
    }
   ],
   "source": [
    "a = 2\n",
    "b = 330\n",
    "\n",
    "print(\"A\") if a < b else print(\"B\")"
   ]
  },
  {
   "cell_type": "code",
   "execution_count": 21,
   "id": "15dbddf8-38bf-4181-8b8e-e470189a5e99",
   "metadata": {},
   "outputs": [
    {
     "name": "stdout",
     "output_type": "stream",
     "text": [
      "B\n"
     ]
    }
   ],
   "source": [
    "a = 2\n",
    "b = 330\n",
    "\n",
    "print(\"A\") if a > b else print(\"B\")"
   ]
  },
  {
   "cell_type": "code",
   "execution_count": 23,
   "id": "4d4a7569-a4ad-49be-b27b-4fe20cc2b965",
   "metadata": {},
   "outputs": [
    {
     "name": "stdout",
     "output_type": "stream",
     "text": [
      "Both conditions are True\n"
     ]
    }
   ],
   "source": [
    "a = 200\n",
    "b = 33\n",
    "c = 500\n",
    "if a > b and c > a:\n",
    "  print(\"Both conditions are True\")"
   ]
  },
  {
   "cell_type": "code",
   "execution_count": 25,
   "id": "086ada8e-b7af-4588-97fd-cbfefaf668ff",
   "metadata": {},
   "outputs": [
    {
     "name": "stdout",
     "output_type": "stream",
     "text": [
      "Both conditions are True\n"
     ]
    }
   ],
   "source": [
    "a = 200\n",
    "b = 33\n",
    "c = 500\n",
    "if a > b or c < a:\n",
    "  print(\"Both conditions are True\")"
   ]
  },
  {
   "cell_type": "code",
   "execution_count": 26,
   "id": "06692ffa-058a-40fc-9d72-eaabbe633c01",
   "metadata": {},
   "outputs": [
    {
     "name": "stdout",
     "output_type": "stream",
     "text": [
      "a is NOT greater than b\n"
     ]
    }
   ],
   "source": [
    "a = 33\n",
    "b = 200\n",
    "if not a > b:\n",
    "  print(\"a is NOT greater than b\")"
   ]
  },
  {
   "cell_type": "code",
   "execution_count": 27,
   "id": "31df35d1-d86c-48cf-a1d6-607ae624a99e",
   "metadata": {},
   "outputs": [
    {
     "name": "stdout",
     "output_type": "stream",
     "text": [
      "Above ten,\n",
      "and also above 20!\n"
     ]
    }
   ],
   "source": [
    "x = 41\n",
    "\n",
    "if x > 10:\n",
    "  print(\"Above ten,\")\n",
    "  if x > 20:\n",
    "    print(\"and also above 20!\")\n",
    "  else:\n",
    "    print(\"but not above 20.\")"
   ]
  },
  {
   "cell_type": "code",
   "execution_count": 29,
   "id": "88e589c2-31b0-45b7-882a-4536c54883f9",
   "metadata": {},
   "outputs": [
    {
     "name": "stdout",
     "output_type": "stream",
     "text": [
      "Ho gya panga idhr\n"
     ]
    }
   ],
   "source": [
    "x = 41\n",
    "\n",
    "if x < 10:\n",
    "  print(\"Above ten,\")\n",
    "  if x > 20:\n",
    "    print(\"and also above 20!\")\n",
    "  else:\n",
    "    print(\"but not above 20.\")\n",
    "else:\n",
    "    print(\"Ho gya panga idhr\")"
   ]
  },
  {
   "cell_type": "code",
   "execution_count": 30,
   "id": "9d8d234f-a3c1-4e58-a3b1-1d32a71cffcd",
   "metadata": {},
   "outputs": [
    {
     "name": "stdout",
     "output_type": "stream",
     "text": [
      "3.0\n"
     ]
    }
   ],
   "source": [
    "print(3 * (3 + 3) / 3 - 3)\n",
    "\n",
    "# (3 * 6 / 3 - 3)\n",
    "# (18 / 3 - 3)\n",
    "# (6.0 - 3)\n",
    "# 3.0\n",
    "\n",
    "# P --> Parentheses\n",
    "# E --> Exponent\n",
    "# M --> Multiplication\n",
    "# D --> Divison\n",
    "# A --> Addition\n",
    "# S --> Subtraction\n",
    "# L --> Left\n",
    "# R --> Right\n",
    "\n",
    "\n",
    "# BODMAS --> Bracket Of(Exponent) Division Multiplication Addition Subtraction"
   ]
  },
  {
   "cell_type": "code",
   "execution_count": 33,
   "id": "18c92a91-0b53-4c49-95fb-8311824bd4ad",
   "metadata": {},
   "outputs": [
    {
     "ename": "SyntaxError",
     "evalue": "incomplete input (3550681220.py, line 4)",
     "output_type": "error",
     "traceback": [
      "\u001b[1;36m  Cell \u001b[1;32mIn[33], line 4\u001b[1;36m\u001b[0m\n\u001b[1;33m    if x < 10:\u001b[0m\n\u001b[1;37m              ^\u001b[0m\n\u001b[1;31mSyntaxError\u001b[0m\u001b[1;31m:\u001b[0m incomplete input\n"
     ]
    }
   ],
   "source": [
    "# This will give you a error as if statement needs to be completed\n",
    "x = 41\n",
    "\n",
    "if x < 10:"
   ]
  },
  {
   "cell_type": "code",
   "execution_count": 31,
   "id": "f7c33890-fd2d-4703-b789-400d2db40587",
   "metadata": {},
   "outputs": [],
   "source": [
    "x = 41\n",
    "\n",
    "if x < 10:\n",
    "  pass"
   ]
  }
 ],
 "metadata": {
  "kernelspec": {
   "display_name": "Python 3 (ipykernel)",
   "language": "python",
   "name": "python3"
  },
  "language_info": {
   "codemirror_mode": {
    "name": "ipython",
    "version": 3
   },
   "file_extension": ".py",
   "mimetype": "text/x-python",
   "name": "python",
   "nbconvert_exporter": "python",
   "pygments_lexer": "ipython3",
   "version": "3.11.7"
  }
 },
 "nbformat": 4,
 "nbformat_minor": 5
}
