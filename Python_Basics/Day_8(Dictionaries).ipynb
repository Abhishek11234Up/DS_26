{
 "cells": [
  {
   "cell_type": "code",
   "execution_count": 1,
   "id": "cde89fc5-3f14-4cf2-8600-92fdd858f14a",
   "metadata": {},
   "outputs": [],
   "source": [
    "# Dictionaries --> {'key':\"value\"},, dict(key:value)"
   ]
  },
  {
   "cell_type": "code",
   "execution_count": 77,
   "id": "881b8d04-e5df-42c4-88c0-f75029670f30",
   "metadata": {},
   "outputs": [],
   "source": [
    "# Creating dictionary by using {}\n",
    "my_contacts = {\n",
    "    'Aditya':8107809006,\n",
    "    \"Amit\":9898787434,\n",
    "    \"Abhi_1\":7728042227,\n",
    "    \"Amit_1\":7250652389\n",
    "}"
   ]
  },
  {
   "cell_type": "code",
   "execution_count": 78,
   "id": "acc6dba6-74a4-40ec-ac0e-af0b0c82a9ea",
   "metadata": {},
   "outputs": [
    {
     "name": "stdout",
     "output_type": "stream",
     "text": [
      "<class 'dict'>\n"
     ]
    }
   ],
   "source": [
    "print(type(my_contacts))"
   ]
  },
  {
   "cell_type": "code",
   "execution_count": 79,
   "id": "e689eaf1-de8c-4b83-9512-701610d06c33",
   "metadata": {},
   "outputs": [
    {
     "name": "stdout",
     "output_type": "stream",
     "text": [
      "9898787434\n"
     ]
    }
   ],
   "source": [
    "# Accessing a particular item\n",
    "print(my_contacts['Amit'])"
   ]
  },
  {
   "cell_type": "code",
   "execution_count": 80,
   "id": "88555d80-2d0f-459d-af78-0d73816aced5",
   "metadata": {},
   "outputs": [
    {
     "name": "stdout",
     "output_type": "stream",
     "text": [
      "{'Aditya': 8107809006, 'Amit': 9898787434, 'Abhi_1': 7728042227, 'Amit_1': 7250652389}\n"
     ]
    }
   ],
   "source": [
    "# printing the whole dictionary itself\n",
    "print(my_contacts)"
   ]
  },
  {
   "cell_type": "code",
   "execution_count": 81,
   "id": "a4c16228-3f4c-47ab-abb3-b1c4809a5bae",
   "metadata": {},
   "outputs": [
    {
     "data": {
      "text/plain": [
       "4"
      ]
     },
     "execution_count": 81,
     "metadata": {},
     "output_type": "execute_result"
    }
   ],
   "source": [
    "len(my_contacts)"
   ]
  },
  {
   "cell_type": "code",
   "execution_count": 82,
   "id": "1a803bb2-d4c1-497c-bf85-3af1974b3499",
   "metadata": {},
   "outputs": [],
   "source": [
    "thisdict = {\n",
    "  \"brand\": \"Ford\",\n",
    "  \"electric\": False,\n",
    "  \"year\": 1964,\n",
    "  \"colors\": [\"red\", \"white\", \"blue\"]\n",
    "}"
   ]
  },
  {
   "cell_type": "code",
   "execution_count": 83,
   "id": "56ad6537-26dd-4bbb-ab30-c5c8df51c97a",
   "metadata": {},
   "outputs": [
    {
     "data": {
      "text/plain": [
       "['red', 'white', 'blue']"
      ]
     },
     "execution_count": 83,
     "metadata": {},
     "output_type": "execute_result"
    }
   ],
   "source": [
    "thisdict[\"colors\"]"
   ]
  },
  {
   "cell_type": "code",
   "execution_count": 84,
   "id": "f3d17d15-f691-4564-9266-8e7adc221c59",
   "metadata": {},
   "outputs": [
    {
     "data": {
      "text/plain": [
       "['red', 'white', 'blue']"
      ]
     },
     "execution_count": 84,
     "metadata": {},
     "output_type": "execute_result"
    }
   ],
   "source": [
    "thisdict['colors']"
   ]
  },
  {
   "cell_type": "code",
   "execution_count": 85,
   "id": "5eae5894-528d-4037-95e1-72ad4835b7f9",
   "metadata": {},
   "outputs": [],
   "source": [
    "# Creating dictionary by using dict()\n",
    "my_details = dict(name ='Abhishek', \n",
    "                  gaming_name = \"Leonidus\",\n",
    "                  Insta = \"Abhi_upadh786\",\n",
    "                  Mobile = 9898787434,\n",
    "                  Acc = \"kotak\"\n",
    "                 )"
   ]
  },
  {
   "cell_type": "code",
   "execution_count": 86,
   "id": "31a86e7b-38e7-4a0e-be41-63c0dc03ee5c",
   "metadata": {},
   "outputs": [
    {
     "data": {
      "text/plain": [
       "{'name': 'Abhishek',\n",
       " 'gaming_name': 'Leonidus',\n",
       " 'Insta': 'Abhi_upadh786',\n",
       " 'Mobile': 9898787434,\n",
       " 'Acc': 'kotak'}"
      ]
     },
     "execution_count": 86,
     "metadata": {},
     "output_type": "execute_result"
    }
   ],
   "source": [
    "my_details"
   ]
  },
  {
   "cell_type": "code",
   "execution_count": 87,
   "id": "a847294c-051d-45f0-92de-e66af339d9dc",
   "metadata": {},
   "outputs": [
    {
     "data": {
      "text/plain": [
       "9898787434"
      ]
     },
     "execution_count": 87,
     "metadata": {},
     "output_type": "execute_result"
    }
   ],
   "source": [
    "# 2nd method of accessing the dict() items\n",
    "my_details.get(\"Mobile\")"
   ]
  },
  {
   "cell_type": "code",
   "execution_count": 88,
   "id": "b7cdd157-d184-43d7-a148-635a8ffe09a5",
   "metadata": {},
   "outputs": [
    {
     "data": {
      "text/plain": [
       "dict_keys(['Aditya', 'Amit', 'Abhi_1', 'Amit_1'])"
      ]
     },
     "execution_count": 88,
     "metadata": {},
     "output_type": "execute_result"
    }
   ],
   "source": [
    "# printing the whole keys as a list\n",
    "my_contacts.keys()"
   ]
  },
  {
   "cell_type": "code",
   "execution_count": 89,
   "id": "e947104b-84ed-43c1-b2ce-dd9fd158d489",
   "metadata": {},
   "outputs": [],
   "source": [
    "# updating dictionary or adding a new item to the dictionary\n",
    "my_contacts['Mahi'] = 1234457890"
   ]
  },
  {
   "cell_type": "code",
   "execution_count": 90,
   "id": "e9b8ea22-0280-4cc5-a450-8e02535b6565",
   "metadata": {},
   "outputs": [
    {
     "data": {
      "text/plain": [
       "dict_keys(['Aditya', 'Amit', 'Abhi_1', 'Amit_1', 'Mahi'])"
      ]
     },
     "execution_count": 90,
     "metadata": {},
     "output_type": "execute_result"
    }
   ],
   "source": [
    "# printing the keys and kindly use print() statement\n",
    "my_contacts.keys()"
   ]
  },
  {
   "cell_type": "code",
   "execution_count": 91,
   "id": "e5aa43ab-c5db-4829-8cce-abcab9d14f84",
   "metadata": {},
   "outputs": [
    {
     "data": {
      "text/plain": [
       "dict_values(['Ford', False, 1964, ['red', 'white', 'blue']])"
      ]
     },
     "execution_count": 91,
     "metadata": {},
     "output_type": "execute_result"
    }
   ],
   "source": [
    "# # printing the values\n",
    "thisdict.values()"
   ]
  },
  {
   "cell_type": "code",
   "execution_count": 92,
   "id": "848bebb8-6344-4425-bbb1-1714d99761a5",
   "metadata": {},
   "outputs": [],
   "source": [
    "# updating the existing details inside a dictionary or updating values of a dictionary\n",
    "my_contacts[\"Aditya\"] = 3278746324"
   ]
  },
  {
   "cell_type": "code",
   "execution_count": 93,
   "id": "99db9dc9-8629-4659-989a-e68dcd588f1b",
   "metadata": {},
   "outputs": [
    {
     "data": {
      "text/plain": [
       "{'Aditya': 3278746324,\n",
       " 'Amit': 9898787434,\n",
       " 'Abhi_1': 7728042227,\n",
       " 'Amit_1': 7250652389,\n",
       " 'Mahi': 1234457890}"
      ]
     },
     "execution_count": 93,
     "metadata": {},
     "output_type": "execute_result"
    }
   ],
   "source": [
    "my_contacts"
   ]
  },
  {
   "cell_type": "code",
   "execution_count": 94,
   "id": "03ebfb7e-146a-479a-9b98-1016d6aa6271",
   "metadata": {},
   "outputs": [
    {
     "data": {
      "text/plain": [
       "dict_values([3278746324, 9898787434, 7728042227, 7250652389, 1234457890])"
      ]
     },
     "execution_count": 94,
     "metadata": {},
     "output_type": "execute_result"
    }
   ],
   "source": [
    "my_contacts.values()"
   ]
  },
  {
   "cell_type": "code",
   "execution_count": 95,
   "id": "6e5c5349-7472-40c6-a346-f968162d1716",
   "metadata": {},
   "outputs": [
    {
     "data": {
      "text/plain": [
       "dict_items([('Aditya', 3278746324), ('Amit', 9898787434), ('Abhi_1', 7728042227), ('Amit_1', 7250652389), ('Mahi', 1234457890)])"
      ]
     },
     "execution_count": 95,
     "metadata": {},
     "output_type": "execute_result"
    }
   ],
   "source": [
    "# printing keys and values at same time\n",
    "my_contacts.items()"
   ]
  },
  {
   "cell_type": "code",
   "execution_count": 69,
   "id": "20788486-3ace-496c-b795-3e3c2206a1f3",
   "metadata": {},
   "outputs": [
    {
     "name": "stdout",
     "output_type": "stream",
     "text": [
      "Yes, 'model' is one of the keys in the car dictionary\n"
     ]
    }
   ],
   "source": [
    "# checking if a particular key is available or not using membership operator and if\n",
    "car = {\n",
    "  \"brand\": \"Ford\",\n",
    "  \"model\": \"Mustang\",\n",
    "  \"year\": 1964\n",
    "}\n",
    "if \"model\" in car:\n",
    "  print(\"Yes, 'model' is one of the keys in the car dictionary\")"
   ]
  },
  {
   "cell_type": "code",
   "execution_count": 55,
   "id": "5246f713-f289-4912-9d8d-ab7bdbd8771c",
   "metadata": {},
   "outputs": [],
   "source": [
    "# 2nd method of doing update inside an existing dictionary\n",
    "car.update({\"year\":2022})"
   ]
  },
  {
   "cell_type": "code",
   "execution_count": 44,
   "id": "6d53e531-4a81-43e7-bbeb-92a82974b58b",
   "metadata": {},
   "outputs": [
    {
     "data": {
      "text/plain": [
       "{'brand': 'Ford', 'model': 'Mustang', 'year': 2022}"
      ]
     },
     "execution_count": 44,
     "metadata": {},
     "output_type": "execute_result"
    }
   ],
   "source": [
    "car"
   ]
  },
  {
   "cell_type": "code",
   "execution_count": 57,
   "id": "5a6f0392-4fa5-44e2-a536-068df519b78e",
   "metadata": {},
   "outputs": [],
   "source": [
    "# Deleting the whole dictionary\n",
    "\n",
    "del my_contacts"
   ]
  },
  {
   "cell_type": "code",
   "execution_count": 59,
   "id": "b8de4221-f821-405b-80bc-fd246749b6c2",
   "metadata": {},
   "outputs": [
    {
     "data": {
      "text/plain": [
       "1964"
      ]
     },
     "execution_count": 59,
     "metadata": {},
     "output_type": "execute_result"
    }
   ],
   "source": [
    "# deleting a particular item\n",
    "car.pop(\"year\")"
   ]
  },
  {
   "cell_type": "code",
   "execution_count": 60,
   "id": "a03f905a-86be-418c-8cbf-8a80309337ee",
   "metadata": {},
   "outputs": [
    {
     "data": {
      "text/plain": [
       "{'brand': 'Ford', 'model': 'Mustang'}"
      ]
     },
     "execution_count": 60,
     "metadata": {},
     "output_type": "execute_result"
    }
   ],
   "source": [
    "car"
   ]
  },
  {
   "cell_type": "code",
   "execution_count": 64,
   "id": "a2449274-6ddc-4959-bca0-bd06db0315ae",
   "metadata": {},
   "outputs": [
    {
     "data": {
      "text/plain": [
       "('year', 1964)"
      ]
     },
     "execution_count": 64,
     "metadata": {},
     "output_type": "execute_result"
    }
   ],
   "source": [
    "# deleting the last item\n",
    "thisdict.popitem()"
   ]
  },
  {
   "cell_type": "code",
   "execution_count": 65,
   "id": "3347aae2-19bf-4ce4-b6fb-232bbef0e9fc",
   "metadata": {},
   "outputs": [
    {
     "data": {
      "text/plain": [
       "{'brand': 'Ford', 'electric': False}"
      ]
     },
     "execution_count": 65,
     "metadata": {},
     "output_type": "execute_result"
    }
   ],
   "source": [
    "thisdict"
   ]
  },
  {
   "cell_type": "code",
   "execution_count": 66,
   "id": "9ec2b037-30a8-4536-b606-a112a824b086",
   "metadata": {},
   "outputs": [],
   "source": [
    "# empty the dictionary\n",
    "\n",
    "thisdict.clear()"
   ]
  },
  {
   "cell_type": "code",
   "execution_count": 67,
   "id": "25fccb10-5d09-4cba-9c1b-150fa4e29b3d",
   "metadata": {},
   "outputs": [
    {
     "data": {
      "text/plain": [
       "{}"
      ]
     },
     "execution_count": 67,
     "metadata": {},
     "output_type": "execute_result"
    }
   ],
   "source": [
    "thisdict"
   ]
  },
  {
   "cell_type": "code",
   "execution_count": 72,
   "id": "ff5e0ebf-3579-40a5-ac13-38a64915f099",
   "metadata": {},
   "outputs": [
    {
     "name": "stdout",
     "output_type": "stream",
     "text": [
      "brand\n",
      "model\n",
      "year\n"
     ]
    }
   ],
   "source": [
    "# this loop will give you keys of the dictionary\n",
    "for i in car:\n",
    "    print(i)"
   ]
  },
  {
   "cell_type": "code",
   "execution_count": 73,
   "id": "96cc489b-480a-469f-b267-ee8ce3015d3a",
   "metadata": {},
   "outputs": [
    {
     "name": "stdout",
     "output_type": "stream",
     "text": [
      "Ford\n",
      "Mustang\n",
      "1964\n"
     ]
    }
   ],
   "source": [
    "# this will give values\n",
    "for c in car:\n",
    "    print(car[c])"
   ]
  },
  {
   "cell_type": "code",
   "execution_count": 74,
   "id": "fbe6eca1-2a08-45e5-bef0-f4a59920f074",
   "metadata": {},
   "outputs": [
    {
     "name": "stdout",
     "output_type": "stream",
     "text": [
      "Ford\n",
      "Mustang\n",
      "1964\n"
     ]
    }
   ],
   "source": [
    "# Another method to get values\n",
    "\n",
    "for c in car.values():\n",
    "    print(c)"
   ]
  },
  {
   "cell_type": "code",
   "execution_count": 75,
   "id": "383a2aad-eefb-481c-ac00-c0250275aa97",
   "metadata": {},
   "outputs": [],
   "source": [
    "# Try with keys() on your own"
   ]
  },
  {
   "cell_type": "code",
   "execution_count": 96,
   "id": "6143baa2-ecab-4849-b898-41d2e27d5725",
   "metadata": {},
   "outputs": [
    {
     "name": "stdout",
     "output_type": "stream",
     "text": [
      "brand Ford\n",
      "model Mustang\n",
      "year 1964\n"
     ]
    }
   ],
   "source": [
    "# printing keys and values both at same time\n",
    "\n",
    "for x, y in car.items():\n",
    "  print(x, y)"
   ]
  },
  {
   "cell_type": "code",
   "execution_count": 97,
   "id": "00695b43-e04d-4178-8b7f-2ccb75d9a478",
   "metadata": {},
   "outputs": [],
   "source": [
    "# Assigning a name = value\n",
    "car_1 = car"
   ]
  },
  {
   "cell_type": "code",
   "execution_count": 98,
   "id": "57d325c3-246b-42a5-aaae-d69717ab2285",
   "metadata": {},
   "outputs": [
    {
     "data": {
      "text/plain": [
       "{'brand': 'Ford', 'model': 'Mustang', 'year': 1964}"
      ]
     },
     "execution_count": 98,
     "metadata": {},
     "output_type": "execute_result"
    }
   ],
   "source": [
    "car_1"
   ]
  },
  {
   "cell_type": "code",
   "execution_count": 101,
   "id": "daf33322-68d6-4292-8b2c-0f8535f90067",
   "metadata": {},
   "outputs": [],
   "source": [
    "car.update({'year':2024})"
   ]
  },
  {
   "cell_type": "code",
   "execution_count": 102,
   "id": "c8769239-1563-446c-a227-7152017fff48",
   "metadata": {},
   "outputs": [
    {
     "data": {
      "text/plain": [
       "{'brand': 'Ford', 'model': 'Mustang', 'year': 2024}"
      ]
     },
     "execution_count": 102,
     "metadata": {},
     "output_type": "execute_result"
    }
   ],
   "source": [
    "car"
   ]
  },
  {
   "cell_type": "code",
   "execution_count": 103,
   "id": "7b9df5c2-8e32-4e40-98d9-ecc4fa531b39",
   "metadata": {},
   "outputs": [
    {
     "data": {
      "text/plain": [
       "{'brand': 'Ford', 'model': 'Mustang', 'year': 2024}"
      ]
     },
     "execution_count": 103,
     "metadata": {},
     "output_type": "execute_result"
    }
   ],
   "source": [
    "car_1"
   ]
  },
  {
   "cell_type": "code",
   "execution_count": 104,
   "id": "9434da93-597a-49b3-b193-e5a992ec4c3b",
   "metadata": {},
   "outputs": [
    {
     "name": "stdout",
     "output_type": "stream",
     "text": [
      "{'brand': 'Ford', 'model': 'Mustang', 'year': 1964}\n"
     ]
    }
   ],
   "source": [
    "thisdict = {\n",
    "  \"brand\": \"Ford\",\n",
    "  \"model\": \"Mustang\",\n",
    "  \"year\": 1964\n",
    "}\n",
    "mydict = thisdict.copy()\n",
    "print(mydict)"
   ]
  },
  {
   "cell_type": "code",
   "execution_count": 105,
   "id": "a5032bc7-cf28-487d-bf95-ef7ac78c3bc9",
   "metadata": {},
   "outputs": [
    {
     "name": "stdout",
     "output_type": "stream",
     "text": [
      "{'child1': {'name': 'Emil', 'year': 2004}, 'child2': {'name': 'Tobias', 'year': 2007}, 'child3': {'name': 'Linus', 'year': 2011}}\n"
     ]
    }
   ],
   "source": [
    "# Nesting of dictionaries --> ek dictionary ke inside ek aur dictionary\n",
    "\n",
    "myfamily = {\n",
    "  \"child1\" : {\n",
    "    \"name\" : \"Emil\",\n",
    "    \"year\" : 2004\n",
    "  },\n",
    "  \"child2\" : {\n",
    "    \"name\" : \"Tobias\",\n",
    "    \"year\" : 2007\n",
    "  },\n",
    "  \"child3\" : {\n",
    "    \"name\" : \"Linus\",\n",
    "    \"year\" : 2011\n",
    "  }\n",
    "}\n",
    "\n",
    "print(myfamily)\n"
   ]
  },
  {
   "cell_type": "code",
   "execution_count": 106,
   "id": "3994ec9d-4fdf-4415-a13d-9c53f6cfceaf",
   "metadata": {},
   "outputs": [
    {
     "name": "stdout",
     "output_type": "stream",
     "text": [
      "{'child1': {'name': 'Emil', 'year': 2004}, 'child2': {'name': 'Tobias', 'year': 2007}, 'child3': {'name': 'Linus', 'year': 2011}}\n"
     ]
    }
   ],
   "source": [
    "#  if you want to add three dictionaries into a new dictionary:\n",
    "# Create three dictionaries, then create one dictionary that will contain the other three dictionaries:\n",
    "\n",
    "child1 = {\n",
    "  \"name\" : \"Emil\",\n",
    "  \"year\" : 2004\n",
    "}\n",
    "child2 = {\n",
    "  \"name\" : \"Tobias\",\n",
    "  \"year\" : 2007\n",
    "}\n",
    "child3 = {\n",
    "  \"name\" : \"Linus\",\n",
    "  \"year\" : 2011\n",
    "}\n",
    "\n",
    "myfamily = {\n",
    "  \"child1\" : child1,\n",
    "  \"child2\" : child2,\n",
    "  \"child3\" : child3\n",
    "}\n",
    "\n",
    "print(myfamily)\n"
   ]
  },
  {
   "cell_type": "code",
   "execution_count": 107,
   "id": "eb397736-0fad-482b-a03e-8e89b35d15cf",
   "metadata": {},
   "outputs": [
    {
     "data": {
      "text/plain": [
       "2011"
      ]
     },
     "execution_count": 107,
     "metadata": {},
     "output_type": "execute_result"
    }
   ],
   "source": [
    "#Access Items in Nested Dictionaries\n",
    "#To access items from a nested dictionary, you use the name of the dictionaries, starting with the outer dictionary:\n",
    "myfamily[\"child3\"]['year']"
   ]
  },
  {
   "cell_type": "code",
   "execution_count": 108,
   "id": "bd54a178-8963-4e14-bde6-212889c5d7aa",
   "metadata": {},
   "outputs": [
    {
     "data": {
      "text/plain": [
       "'Linus'"
      ]
     },
     "execution_count": 108,
     "metadata": {},
     "output_type": "execute_result"
    }
   ],
   "source": [
    "myfamily[\"child3\"]['name']"
   ]
  },
  {
   "cell_type": "code",
   "execution_count": 109,
   "id": "c7b057f8-a7ae-409e-82ac-237bba7f3309",
   "metadata": {},
   "outputs": [
    {
     "name": "stdout",
     "output_type": "stream",
     "text": [
      "child1\n",
      "name: Emil\n",
      "year: 2004\n",
      "child2\n",
      "name: Tobias\n",
      "year: 2007\n",
      "child3\n",
      "name: Linus\n",
      "year: 2011\n"
     ]
    }
   ],
   "source": [
    "myfamily = {\n",
    "  \"child1\" : {\n",
    "    \"name\" : \"Emil\",\n",
    "    \"year\" : 2004\n",
    "  },\n",
    "  \"child2\" : {\n",
    "    \"name\" : \"Tobias\",\n",
    "    \"year\" : 2007\n",
    "  },\n",
    "  \"child3\" : {\n",
    "    \"name\" : \"Linus\",\n",
    "    \"year\" : 2011\n",
    "  }\n",
    "}\n",
    "\n",
    "for x, obj in myfamily.items():\n",
    "    print(x)\n",
    "    \n",
    "    for y in obj:\n",
    "        print(y + ':', obj[y])\n"
   ]
  }
 ],
 "metadata": {
  "kernelspec": {
   "display_name": "Python 3 (ipykernel)",
   "language": "python",
   "name": "python3"
  },
  "language_info": {
   "codemirror_mode": {
    "name": "ipython",
    "version": 3
   },
   "file_extension": ".py",
   "mimetype": "text/x-python",
   "name": "python",
   "nbconvert_exporter": "python",
   "pygments_lexer": "ipython3",
   "version": "3.11.7"
  }
 },
 "nbformat": 4,
 "nbformat_minor": 5
}
