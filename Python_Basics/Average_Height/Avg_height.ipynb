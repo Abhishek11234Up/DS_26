{
 "cells": [
  {
   "cell_type": "code",
   "execution_count": 5,
   "id": "6dcef0fa-9455-4ed7-bd4f-7aaf94c57010",
   "metadata": {},
   "outputs": [
    {
     "name": "stdin",
     "output_type": "stream",
     "text": [
      "Input a list of student heights  100 160 290 450\n"
     ]
    },
    {
     "name": "stdout",
     "output_type": "stream",
     "text": [
      "250\n"
     ]
    }
   ],
   "source": [
    "# 🚨 Don't change the code below 👇\n",
    "student_heights = input(\"Input a list of student heights \").split()\n",
    "for n in range(0, len(student_heights)):\n",
    "  student_heights[n] = int(student_heights[n])\n",
    "# 🚨 Don't change the code above 👆\n",
    "\n",
    "\n",
    "#Write your code below this row 👇\n",
    "  \n",
    "# KAr skte the lkin ni karna hai\n",
    "  \n",
    "  \n",
    "# total_height = sum(student_heights)\n",
    "\n",
    "# number_of_students = len(student_heights)\n",
    "\n",
    "# average_height = round(total_height / number_of_students)\n",
    "\n",
    "# print(average_height)"
   ]
  },
  {
   "cell_type": "code",
   "execution_count": 6,
   "id": "3850229f-550c-43c1-85b9-b136f53fe044",
   "metadata": {},
   "outputs": [
    {
     "name": "stdout",
     "output_type": "stream",
     "text": [
      "total height = 1000\n",
      "number of students = 4\n",
      "250\n"
     ]
    }
   ],
   "source": [
    "total_height = 0\n",
    "for height in student_heights:\n",
    "  total_height += height\n",
    "print(f\"total height = {total_height}\")\n",
    "\n",
    "number_of_students = 0\n",
    "for student in student_heights:\n",
    "  number_of_students += 1\n",
    "print(f\"number of students = {number_of_students}\")\n",
    "  \n",
    "average_height = round(total_height / number_of_students)\n",
    "print(average_height)"
   ]
  },
  {
   "cell_type": "code",
   "execution_count": null,
   "id": "9e91277e-180a-41c3-b349-28e2d54bfe7d",
   "metadata": {},
   "outputs": [],
   "source": []
  }
 ],
 "metadata": {
  "kernelspec": {
   "display_name": "Python 3 (ipykernel)",
   "language": "python",
   "name": "python3"
  },
  "language_info": {
   "codemirror_mode": {
    "name": "ipython",
    "version": 3
   },
   "file_extension": ".py",
   "mimetype": "text/x-python",
   "name": "python",
   "nbconvert_exporter": "python",
   "pygments_lexer": "ipython3",
   "version": "3.11.7"
  }
 },
 "nbformat": 4,
 "nbformat_minor": 5
}
