{
 "cells": [
  {
   "cell_type": "code",
   "execution_count": 1,
   "id": "6893068d-d88f-4934-be1e-a83a5379390a",
   "metadata": {},
   "outputs": [
    {
     "name": "stdin",
     "output_type": "stream",
     "text": [
      "Input a list of student scores  200 300 190 400 480 375 675\n"
     ]
    },
    {
     "name": "stdout",
     "output_type": "stream",
     "text": [
      "[200, 300, 190, 400, 480, 375, 675]\n",
      "The highest score in the class is: 675\n"
     ]
    }
   ],
   "source": [
    "# 🚨 Don't change the code below 👇\n",
    "student_scores = input(\"Input a list of student scores \").split()\n",
    "for n in range(0, len(student_scores)):\n",
    "  student_scores[n] = int(student_scores[n])\n",
    "print(student_scores)\n",
    "# 🚨 Don't change the code above 👆\n",
    "\n",
    "#Write your code below this row 👇\n",
    "\n",
    "# checked the number without using the min() and max().\n",
    "\n",
    "\n",
    "highest_score = 0\n",
    "for score in student_scores:\n",
    "  if score > highest_score:\n",
    "    highest_score = score\n",
    "    # print(highest_score)\n",
    "    \n",
    "print(f\"The highest score in the class is: {highest_score}\")\n"
   ]
  },
  {
   "cell_type": "code",
   "execution_count": 2,
   "id": "c5df399e-1782-490d-bff8-8e6676730a02",
   "metadata": {},
   "outputs": [
    {
     "name": "stdout",
     "output_type": "stream",
     "text": [
      "200\n",
      "300\n",
      "190\n",
      "400\n",
      "480\n",
      "375\n",
      "675\n"
     ]
    }
   ],
   "source": [
    "for i in student_scores:\n",
    "    print(i)"
   ]
  }
 ],
 "metadata": {
  "kernelspec": {
   "display_name": "Python 3 (ipykernel)",
   "language": "python",
   "name": "python3"
  },
  "language_info": {
   "codemirror_mode": {
    "name": "ipython",
    "version": 3
   },
   "file_extension": ".py",
   "mimetype": "text/x-python",
   "name": "python",
   "nbconvert_exporter": "python",
   "pygments_lexer": "ipython3",
   "version": "3.11.7"
  }
 },
 "nbformat": 4,
 "nbformat_minor": 5
}
