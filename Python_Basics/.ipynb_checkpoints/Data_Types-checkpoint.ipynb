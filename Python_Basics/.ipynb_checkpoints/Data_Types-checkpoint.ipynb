{
 "cells": [
  {
   "cell_type": "markdown",
   "id": "2c8af175-2b2e-4d8a-a1cd-9fd1f509cef9",
   "metadata": {},
   "source": [
    "## Built-in Data Types\r",
    "### \n",
    "In programming, data type is an important concept\r",
    "### \n",
    "\r\n",
    "Variables can store data of different types, and different types can do different thins### .\r\n",
    "\r\n",
    "Python has the following data types built-in by default, in these categoi## es:\r\n",
    "\r\n",
    "Text Typ## e:\tstr\r\n",
    "Numeric Types:\tint, float, ## complex\r\n",
    "Sequence Types:\tlist, tupl## e, range\r\n",
    "Mapping T## ype:\tdict\r\n",
    "Set Types:\tset,##  frozenset\r\n",
    "Boolean##  Type:\tbool\r\n",
    "Binary Types:\tbytes, bytearray## , memoryview\r\n",
    "None Type:\tNoneType"
   ]
  },
  {
   "cell_type": "code",
   "execution_count": 2,
   "id": "7e20a92a-b668-4a2b-aab0-85ed5e62ec29",
   "metadata": {},
   "outputs": [
    {
     "name": "stdout",
     "output_type": "stream",
     "text": [
      "<class 'int'>\n"
     ]
    }
   ],
   "source": [
    " # Numeric Type\n",
    "\n",
    "# 1. Integer -- int()\n",
    "\n",
    "b = 2\n",
    "\n",
    "print(type(b))"
   ]
  },
  {
   "cell_type": "code",
   "execution_count": 6,
   "id": "66a49313-e93c-4a1a-8117-2b8cbd1fb6de",
   "metadata": {},
   "outputs": [
    {
     "name": "stdin",
     "output_type": "stream",
     "text": [
      "Enter a number:  45\n"
     ]
    }
   ],
   "source": [
    "a = int(input(\"Enter a number: \"))"
   ]
  },
  {
   "cell_type": "code",
   "execution_count": 7,
   "id": "0d20eb71-d233-4e69-a096-8cc6b24cd259",
   "metadata": {},
   "outputs": [
    {
     "name": "stdin",
     "output_type": "stream",
     "text": [
      "Bhai tera no. de de:  7728041227\n"
     ]
    }
   ],
   "source": [
    "# Specifying the input so that user can enter integers only\n",
    "dost = int(input(\"Bhai tera no. de de: \"))"
   ]
  },
  {
   "cell_type": "code",
   "execution_count": 8,
   "id": "4b1596a1-b6c4-4844-b934-38dd1d5ec6ff",
   "metadata": {},
   "outputs": [],
   "source": [
    "s = 19.95"
   ]
  },
  {
   "cell_type": "code",
   "execution_count": 9,
   "id": "0479d961-99bc-4a98-87f5-8ad1ab9fd237",
   "metadata": {},
   "outputs": [
    {
     "data": {
      "text/plain": [
       "float"
      ]
     },
     "execution_count": 9,
     "metadata": {},
     "output_type": "execute_result"
    }
   ],
   "source": [
    "type(s)"
   ]
  },
  {
   "cell_type": "code",
   "execution_count": 10,
   "id": "2aaf0cc0-fb0a-46cf-a26a-81cd4f30b969",
   "metadata": {},
   "outputs": [],
   "source": [
    "s = int(s)"
   ]
  },
  {
   "cell_type": "code",
   "execution_count": 11,
   "id": "eb20b6e4-36bd-4699-a9e2-910a9f9d3303",
   "metadata": {},
   "outputs": [
    {
     "data": {
      "text/plain": [
       "19"
      ]
     },
     "execution_count": 11,
     "metadata": {},
     "output_type": "execute_result"
    }
   ],
   "source": [
    "s"
   ]
  },
  {
   "cell_type": "code",
   "execution_count": 12,
   "id": "2dcf5593-355c-413f-a5c3-7a00d40cfcfc",
   "metadata": {},
   "outputs": [],
   "source": [
    "e = -20"
   ]
  },
  {
   "cell_type": "code",
   "execution_count": 13,
   "id": "d4761e7f-93c0-46a8-a1e7-96d05afac2ec",
   "metadata": {},
   "outputs": [
    {
     "data": {
      "text/plain": [
       "int"
      ]
     },
     "execution_count": 13,
     "metadata": {},
     "output_type": "execute_result"
    }
   ],
   "source": [
    "type(e)"
   ]
  },
  {
   "cell_type": "code",
   "execution_count": 26,
   "id": "1d7015b4-c40f-4c59-9bc0-c5943253e0d9",
   "metadata": {},
   "outputs": [],
   "source": [
    "# 2. Float -- Decimals/ fractions -- float()-- point wale nos.\n",
    "\n",
    "f = -20.5"
   ]
  },
  {
   "cell_type": "code",
   "execution_count": 19,
   "id": "90bae58c-997b-4c72-9c25-e798d2f58ae1",
   "metadata": {},
   "outputs": [
    {
     "data": {
      "text/plain": [
       "float"
      ]
     },
     "execution_count": 19,
     "metadata": {},
     "output_type": "execute_result"
    }
   ],
   "source": [
    "type(f)"
   ]
  },
  {
   "cell_type": "code",
   "execution_count": 21,
   "id": "7a36deed-1cc5-4ab0-9914-fd08917bcbad",
   "metadata": {},
   "outputs": [],
   "source": [
    "g = 1.5"
   ]
  },
  {
   "cell_type": "code",
   "execution_count": 22,
   "id": "aeecce59-d459-45fe-8489-187564592264",
   "metadata": {},
   "outputs": [
    {
     "data": {
      "text/plain": [
       "float"
      ]
     },
     "execution_count": 22,
     "metadata": {},
     "output_type": "execute_result"
    }
   ],
   "source": [
    "type(g)"
   ]
  },
  {
   "cell_type": "code",
   "execution_count": 27,
   "id": "ef15d9bd-736d-434b-a522-b79ef646c5ac",
   "metadata": {},
   "outputs": [
    {
     "data": {
      "text/plain": [
       "23"
      ]
     },
     "execution_count": 27,
     "metadata": {},
     "output_type": "execute_result"
    }
   ],
   "source": [
    "h = 23\n",
    "h"
   ]
  },
  {
   "cell_type": "code",
   "execution_count": 28,
   "id": "43352a52-42ed-4b9c-8547-a8305f3d838a",
   "metadata": {},
   "outputs": [
    {
     "data": {
      "text/plain": [
       "23.0"
      ]
     },
     "execution_count": 28,
     "metadata": {},
     "output_type": "execute_result"
    }
   ],
   "source": [
    "h = float(h)\n",
    "h"
   ]
  },
  {
   "cell_type": "code",
   "execution_count": 29,
   "id": "58c79fbc-dc1b-4479-8ff8-2b12b9a363ab",
   "metadata": {},
   "outputs": [],
   "source": [
    "# Complex Number -- a + bj -- a = real number and bj -- Imaginary number\n",
    "\n",
    "i = 2+3j\n",
    "\n"
   ]
  },
  {
   "cell_type": "code",
   "execution_count": 30,
   "id": "c4c80840-106c-427a-aafe-f45dd7b961b6",
   "metadata": {},
   "outputs": [
    {
     "data": {
      "text/plain": [
       "67"
      ]
     },
     "execution_count": 30,
     "metadata": {},
     "output_type": "execute_result"
    }
   ],
   "source": [
    "a"
   ]
  },
  {
   "cell_type": "code",
   "execution_count": 31,
   "id": "247d8bd1-710e-4166-b19c-2cc5bff61c64",
   "metadata": {},
   "outputs": [],
   "source": [
    "a = complex(a)"
   ]
  },
  {
   "cell_type": "code",
   "execution_count": 32,
   "id": "65856f48-c705-4f57-8125-ed75a73d4da9",
   "metadata": {},
   "outputs": [
    {
     "data": {
      "text/plain": [
       "(67+0j)"
      ]
     },
     "execution_count": 32,
     "metadata": {},
     "output_type": "execute_result"
    }
   ],
   "source": [
    "a"
   ]
  },
  {
   "cell_type": "code",
   "execution_count": 34,
   "id": "a486aebd-769b-4ff5-9052-d8513ad2bb86",
   "metadata": {},
   "outputs": [
    {
     "data": {
      "text/plain": [
       "(23+0j)"
      ]
     },
     "execution_count": 34,
     "metadata": {},
     "output_type": "execute_result"
    }
   ],
   "source": [
    "h = complex(h)\n",
    "h"
   ]
  },
  {
   "cell_type": "code",
   "execution_count": 37,
   "id": "2400e662-47cc-4bd1-b391-f50f56d27101",
   "metadata": {},
   "outputs": [
    {
     "name": "stdout",
     "output_type": "stream",
     "text": [
      "56\n",
      "<class 'int'>\n",
      "34.5\n",
      "<class 'float'>\n"
     ]
    }
   ],
   "source": [
    "# Typecasting -- type conversion -- changing the data types from one data type to another.\n",
    "\n",
    "a = 56\n",
    "b = 34.5\n",
    "\n",
    "\n",
    "print(a)\n",
    "print(type(a))\n",
    "print(b)\n",
    "print(type(b))"
   ]
  },
  {
   "cell_type": "code",
   "execution_count": 38,
   "id": "473fb161-9901-417b-8504-85af445a7796",
   "metadata": {},
   "outputs": [
    {
     "name": "stdout",
     "output_type": "stream",
     "text": [
      "<class 'float'>\n"
     ]
    }
   ],
   "source": [
    "a = float(a)\n",
    "print(type(a))"
   ]
  },
  {
   "cell_type": "code",
   "execution_count": 39,
   "id": "4591398d-3a8f-4d0a-b4da-73044e2ff32f",
   "metadata": {},
   "outputs": [],
   "source": [
    "# Similarly you can play with floats but don't try with complex"
   ]
  },
  {
   "cell_type": "code",
   "execution_count": null,
   "id": "41fecfc4-7c56-47b0-9171-1ecc9c7c84ce",
   "metadata": {},
   "outputs": [],
   "source": []
  }
 ],
 "metadata": {
  "kernelspec": {
   "display_name": "Python 3 (ipykernel)",
   "language": "python",
   "name": "python3"
  },
  "language_info": {
   "codemirror_mode": {
    "name": "ipython",
    "version": 3
   },
   "file_extension": ".py",
   "mimetype": "text/x-python",
   "name": "python",
   "nbconvert_exporter": "python",
   "pygments_lexer": "ipython3",
   "version": "3.11.7"
  }
 },
 "nbformat": 4,
 "nbformat_minor": 5
}
