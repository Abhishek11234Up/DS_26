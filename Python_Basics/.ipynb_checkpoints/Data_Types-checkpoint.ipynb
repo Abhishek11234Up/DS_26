{
 "cells": [
  {
   "cell_type": "markdown",
   "id": "5a2d4a64-93c0-4da0-a421-f07d63dd3ac5",
   "metadata": {},
   "source": [
    "# Built-in Data Types\r",
    "1. \n",
    "In programming, data type is an important concep.\n",
    "2. Variables can store data of different types, and different types can do different things.g\n",
    " ## .\r\n",
    "\r\n",
    "Python has the following data types built-in by default, in these categori### es:\r\n",
    "\r\n",
    "Text Typ### e:\tstr\r\n",
    "Numeric Types:\tint, float, ### complex\r\n",
    "Sequence Types:\tlist, tupl### e, range\r\n",
    "Mapping T### ype:\tdict\r\n",
    "Set Types:\tset,###  frozenset\r\n",
    "Boolean###  Type:\tbool\r\n",
    "Binary Types:\tbytes, bytearray### , memoryview\r\n",
    "None Type:\tNoneType"
   ]
  },
  {
   "cell_type": "code",
   "execution_count": null,
   "id": "7e20a92a-b668-4a2b-aab0-85ed5e62ec29",
   "metadata": {},
   "outputs": [],
   "source": []
  }
 ],
 "metadata": {
  "kernelspec": {
   "display_name": "Python 3 (ipykernel)",
   "language": "python",
   "name": "python3"
  },
  "language_info": {
   "codemirror_mode": {
    "name": "ipython",
    "version": 3
   },
   "file_extension": ".py",
   "mimetype": "text/x-python",
   "name": "python",
   "nbconvert_exporter": "python",
   "pygments_lexer": "ipython3",
   "version": "3.11.7"
  }
 },
 "nbformat": 4,
 "nbformat_minor": 5
}
