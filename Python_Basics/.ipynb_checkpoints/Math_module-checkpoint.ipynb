{
 "cells": [
  {
   "cell_type": "code",
   "execution_count": 17,
   "id": "951c42f5-c9e2-4bdf-bba9-998e875230a5",
   "metadata": {},
   "outputs": [],
   "source": [
    "import math"
   ]
  },
  {
   "cell_type": "code",
   "execution_count": 3,
   "id": "6d02a6c4-3bd1-4fe6-b685-b99e53b6d6cf",
   "metadata": {},
   "outputs": [],
   "source": [
    "a = [1, 200, 187, 76, 19, 20, 25, -100]"
   ]
  },
  {
   "cell_type": "code",
   "execution_count": 4,
   "id": "e3007b0e-28c3-46f0-a553-dc5e59aa8c29",
   "metadata": {},
   "outputs": [
    {
     "name": "stdout",
     "output_type": "stream",
     "text": [
      "-100\n"
     ]
    }
   ],
   "source": [
    "print(min(a))"
   ]
  },
  {
   "cell_type": "code",
   "execution_count": 5,
   "id": "f11cf219-2458-4b3a-a9d6-0af42c1b7bc4",
   "metadata": {},
   "outputs": [
    {
     "name": "stdout",
     "output_type": "stream",
     "text": [
      "200\n"
     ]
    }
   ],
   "source": [
    "print(max(a))"
   ]
  },
  {
   "cell_type": "code",
   "execution_count": 6,
   "id": "84e6a7d8-08ff-45a8-af25-ce88c98568f7",
   "metadata": {},
   "outputs": [],
   "source": [
    "b = 56.989"
   ]
  },
  {
   "cell_type": "code",
   "execution_count": 7,
   "id": "e67d80ac-0036-4bec-a9ad-6653d70b21c0",
   "metadata": {},
   "outputs": [
    {
     "name": "stdout",
     "output_type": "stream",
     "text": [
      "56.989\n"
     ]
    }
   ],
   "source": [
    "print(abs(b))"
   ]
  },
  {
   "cell_type": "code",
   "execution_count": 8,
   "id": "64f639f7-d03b-4135-95a9-086dcecacd59",
   "metadata": {},
   "outputs": [],
   "source": [
    "c = -19.432636"
   ]
  },
  {
   "cell_type": "code",
   "execution_count": 9,
   "id": "f2d1c289-1081-4096-bc5f-bc8a1267fff1",
   "metadata": {},
   "outputs": [
    {
     "name": "stdout",
     "output_type": "stream",
     "text": [
      "19.432636\n"
     ]
    }
   ],
   "source": [
    "print(abs(c))"
   ]
  },
  {
   "cell_type": "code",
   "execution_count": 10,
   "id": "c0da95ce-7ec7-45e5-a78f-23043324bc95",
   "metadata": {},
   "outputs": [
    {
     "name": "stdout",
     "output_type": "stream",
     "text": [
      "8\n"
     ]
    }
   ],
   "source": [
    "d = 2\n",
    "print(d**3)"
   ]
  },
  {
   "cell_type": "code",
   "execution_count": 11,
   "id": "c5340e26-c128-4d1c-b958-5160e9b2ff51",
   "metadata": {},
   "outputs": [
    {
     "name": "stdout",
     "output_type": "stream",
     "text": [
      "8\n"
     ]
    }
   ],
   "source": [
    "print(pow(d,3))"
   ]
  },
  {
   "cell_type": "code",
   "execution_count": 12,
   "id": "7f7b8020-a6aa-4c1b-b488-0a90176189cc",
   "metadata": {},
   "outputs": [
    {
     "name": "stdout",
     "output_type": "stream",
     "text": [
      "64\n"
     ]
    }
   ],
   "source": [
    "print(pow(4,3))"
   ]
  },
  {
   "cell_type": "code",
   "execution_count": 13,
   "id": "1d73b4e9-a6e0-4aec-a6fc-8ecc9ff4b9e2",
   "metadata": {},
   "outputs": [
    {
     "name": "stdout",
     "output_type": "stream",
     "text": [
      "3\n"
     ]
    }
   ],
   "source": [
    "print(round(3.141))"
   ]
  },
  {
   "cell_type": "code",
   "execution_count": 18,
   "id": "b75915f1-9231-4d5b-9ee3-497bd5082aff",
   "metadata": {},
   "outputs": [
    {
     "data": {
      "text/plain": [
       "3.0"
      ]
     },
     "execution_count": 18,
     "metadata": {},
     "output_type": "execute_result"
    }
   ],
   "source": [
    "\n",
    "\n",
    "y = math.sqrt(9)\n",
    "y"
   ]
  },
  {
   "cell_type": "code",
   "execution_count": 19,
   "id": "9bcbef86-e559-4acf-807c-73858c483e6f",
   "metadata": {},
   "outputs": [
    {
     "name": "stdout",
     "output_type": "stream",
     "text": [
      "2.6666666666666665\n"
     ]
    }
   ],
   "source": [
    "print(8/3)"
   ]
  },
  {
   "cell_type": "code",
   "execution_count": 16,
   "id": "c27e29c7-13da-4e1e-83e6-31463cc48a10",
   "metadata": {},
   "outputs": [
    {
     "name": "stdout",
     "output_type": "stream",
     "text": [
      "2\n"
     ]
    }
   ],
   "source": [
    "# rounds a number upwards to its nearest integer\n",
    "x = math.ceil(1.4)\n",
    "\n",
    "print(x)"
   ]
  },
  {
   "cell_type": "code",
   "execution_count": 20,
   "id": "42396be9-31e5-450b-bf66-cb2324cf3985",
   "metadata": {},
   "outputs": [
    {
     "name": "stdout",
     "output_type": "stream",
     "text": [
      "1\n"
     ]
    }
   ],
   "source": [
    "# rounds a number downwards to its nearest integer\n",
    "y = math.floor(1.4)\n",
    "print(y)"
   ]
  },
  {
   "cell_type": "code",
   "execution_count": 22,
   "id": "af80fde6-f0b9-496e-b70e-2e6359fad02f",
   "metadata": {},
   "outputs": [
    {
     "data": {
      "text/plain": [
       "1"
      ]
     },
     "execution_count": 22,
     "metadata": {},
     "output_type": "execute_result"
    }
   ],
   "source": [
    "round(1.4)"
   ]
  },
  {
   "cell_type": "code",
   "execution_count": 23,
   "id": "5d12a024-da66-40d0-bd1c-37f176c0c92e",
   "metadata": {},
   "outputs": [
    {
     "data": {
      "text/plain": [
       "2"
      ]
     },
     "execution_count": 23,
     "metadata": {},
     "output_type": "execute_result"
    }
   ],
   "source": [
    "round(1.5)"
   ]
  },
  {
   "cell_type": "code",
   "execution_count": 24,
   "id": "30914de4-0b11-4a0a-ac39-8ef99c14e8e2",
   "metadata": {},
   "outputs": [
    {
     "data": {
      "text/plain": [
       "2"
      ]
     },
     "execution_count": 24,
     "metadata": {},
     "output_type": "execute_result"
    }
   ],
   "source": [
    "c = math.floor(2.6)\n",
    "c"
   ]
  },
  {
   "cell_type": "code",
   "execution_count": 25,
   "id": "78166792-6fc3-462a-9002-bdb6692b6f14",
   "metadata": {},
   "outputs": [
    {
     "data": {
      "text/plain": [
       "3"
      ]
     },
     "execution_count": 25,
     "metadata": {},
     "output_type": "execute_result"
    }
   ],
   "source": [
    "round(2.6)"
   ]
  },
  {
   "cell_type": "code",
   "execution_count": 26,
   "id": "d3084626-a3f3-4940-9c14-dd748ca35d0f",
   "metadata": {},
   "outputs": [
    {
     "data": {
      "text/plain": [
       "2"
      ]
     },
     "execution_count": 26,
     "metadata": {},
     "output_type": "execute_result"
    }
   ],
   "source": [
    "math.floor(2.8)"
   ]
  },
  {
   "cell_type": "code",
   "execution_count": 27,
   "id": "ad00d8bd-754f-44a5-8311-86d6a6438aaf",
   "metadata": {},
   "outputs": [
    {
     "data": {
      "text/plain": [
       "3.141592653589793"
      ]
     },
     "execution_count": 27,
     "metadata": {},
     "output_type": "execute_result"
    }
   ],
   "source": [
    "e = math.pi\n",
    "e"
   ]
  },
  {
   "cell_type": "code",
   "execution_count": 28,
   "id": "37292afb-ce85-4892-b35b-aa69afb05bae",
   "metadata": {},
   "outputs": [
    {
     "data": {
      "text/plain": [
       "3.14159"
      ]
     },
     "execution_count": 28,
     "metadata": {},
     "output_type": "execute_result"
    }
   ],
   "source": [
    "round(e,5)"
   ]
  },
  {
   "cell_type": "code",
   "execution_count": null,
   "id": "cd59c948-9af5-4445-a5b2-3a997defab30",
   "metadata": {},
   "outputs": [],
   "source": []
  }
 ],
 "metadata": {
  "kernelspec": {
   "display_name": "Python 3 (ipykernel)",
   "language": "python",
   "name": "python3"
  },
  "language_info": {
   "codemirror_mode": {
    "name": "ipython",
    "version": 3
   },
   "file_extension": ".py",
   "mimetype": "text/x-python",
   "name": "python",
   "nbconvert_exporter": "python",
   "pygments_lexer": "ipython3",
   "version": "3.11.7"
  }
 },
 "nbformat": 4,
 "nbformat_minor": 5
}
