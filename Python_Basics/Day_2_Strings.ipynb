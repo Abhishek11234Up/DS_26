{
 "cells": [
  {
   "cell_type": "code",
   "execution_count": 1,
   "id": "66de7702-7679-4cf6-b749-670060708d0d",
   "metadata": {},
   "outputs": [
    {
     "name": "stdout",
     "output_type": "stream",
     "text": [
      "Hello World!\n",
      "Hello World!\n",
      "Hello World!\n"
     ]
    }
   ],
   "source": [
    "print(\"Hello World!\")\n",
    "print(\"Hello World!\")\n",
    "print(\"Hello World!\")"
   ]
  },
  {
   "cell_type": "code",
   "execution_count": 3,
   "id": "91c4d9fa-ced8-409b-958f-6a97a67d890f",
   "metadata": {},
   "outputs": [
    {
     "name": "stdout",
     "output_type": "stream",
     "text": [
      "Hello World!Hello World!Hello World!\n"
     ]
    }
   ],
   "source": [
    "print(\"Hello World!Hello World!Hello World!\")"
   ]
  },
  {
   "cell_type": "code",
   "execution_count": 4,
   "id": "2cba9d9d-aec7-4795-8f2b-692a3e703c7e",
   "metadata": {},
   "outputs": [
    {
     "name": "stdout",
     "output_type": "stream",
     "text": [
      "Hello World!\n",
      "Hello World!\n",
      "Hello World!\n"
     ]
    }
   ],
   "source": [
    "# Using single line of code using \\n -- (backslash n)\n",
    "print(\"Hello World!\\nHello World!\\nHello World!\")"
   ]
  },
  {
   "cell_type": "markdown",
   "id": "31b6e7ad-2403-406b-8093-7cadd8ac2422",
   "metadata": {},
   "source": [
    "# Strings -- str()\n",
    "\n",
    "## 1. Strings are set of characters."
   ]
  },
  {
   "cell_type": "code",
   "execution_count": 5,
   "id": "1ee6f77a-9528-4297-92ff-09886e5728f2",
   "metadata": {},
   "outputs": [
    {
     "name": "stdout",
     "output_type": "stream",
     "text": [
      "<class 'str'>\n"
     ]
    }
   ],
   "source": [
    "# Single line strings\n",
    "City_name = \"Delhi\"\n",
    "print(type(City_name))"
   ]
  },
  {
   "cell_type": "code",
   "execution_count": 11,
   "id": "8a1d1ea7-b51e-4b23-b091-9b13ee047fcf",
   "metadata": {},
   "outputs": [],
   "source": [
    "# Multiline string\n",
    "Zen_Python = \"\"\"Beautiful is better than ugly.\n",
    "Explicit is better than implicit.\n",
    "Simple is better than complex.\n",
    "Complex is better than complicated.\n",
    "Flat is better than nested.\n",
    "Sparse is better than dense.\n",
    "Readability counts.\n",
    "Special cases aren't special enough to break the rules.\n",
    "Although practicality beats purity.\n",
    "Errors should never pass silently.\n",
    "Unless explicitly silenced.\"\"\""
   ]
  },
  {
   "cell_type": "code",
   "execution_count": 10,
   "id": "94cd5d5f-846e-4e95-9d66-bd141413bf92",
   "metadata": {},
   "outputs": [
    {
     "data": {
      "text/plain": [
       "\"Beautiful is better than ugly.\\n\\nExplicit is better than implicit.\\n\\nSimple is better than complex.\\n\\nComplex is better than complicated.\\n\\nFlat is better than nested.\\nSparse is better than dense.\\nReadability counts.\\nSpecial cases aren't special enough to break the rules.\\nAlthough practicality beats purity.\\nErrors should never pass silently.\\nUnless explicitly silenced.\""
      ]
     },
     "execution_count": 10,
     "metadata": {},
     "output_type": "execute_result"
    }
   ],
   "source": [
    "Zen_Python"
   ]
  },
  {
   "cell_type": "code",
   "execution_count": 12,
   "id": "1dfdf6b8-cf90-4e8b-925c-fb2b39310722",
   "metadata": {},
   "outputs": [
    {
     "name": "stdout",
     "output_type": "stream",
     "text": [
      "A\n",
      "m\n",
      "i\n",
      "t\n"
     ]
    }
   ],
   "source": [
    "# Print every character of string -- using loop\n",
    "Name = \"Amit\"\n",
    "\n",
    "for y in Name:\n",
    "    print(y)"
   ]
  },
  {
   "cell_type": "code",
   "execution_count": 13,
   "id": "200f707b-7cf8-4614-84d5-a151dba7f306",
   "metadata": {},
   "outputs": [
    {
     "name": "stdout",
     "output_type": "stream",
     "text": [
      "4\n"
     ]
    }
   ],
   "source": [
    "# Counting the no. of characters -- len()\n",
    "print(len(Name))"
   ]
  },
  {
   "cell_type": "markdown",
   "id": "aadf020b-88a6-4480-8f3d-44a5ad1de18f",
   "metadata": {},
   "source": [
    "## with the help of len() function you can guess the position of last element while counting from left to right and vice versa."
   ]
  },
  {
   "cell_type": "code",
   "execution_count": 16,
   "id": "b124c9c3-1fc1-49db-aeb5-f42eeeb28ad0",
   "metadata": {},
   "outputs": [
    {
     "name": "stdout",
     "output_type": "stream",
     "text": [
      "Abhi\n"
     ]
    }
   ],
   "source": [
    "# Slicing -- [Start:End], [Start:End:Step] -- To cut a part\n",
    "Name = \"Abhishek\"\n",
    "# 1. [Start:End] -- left to right\n",
    "print(Name[0:4])"
   ]
  },
  {
   "cell_type": "code",
   "execution_count": 17,
   "id": "f0b18f0e-b024-49ad-934a-5c48d6218d0d",
   "metadata": {},
   "outputs": [
    {
     "name": "stdout",
     "output_type": "stream",
     "text": [
      "Abhi\n"
     ]
    }
   ],
   "source": [
    "# 2. Right to left\n",
    "print(Name[-8:-4])"
   ]
  },
  {
   "cell_type": "code",
   "execution_count": 21,
   "id": "3fb81b46-c81a-440e-a0b2-ba2309a47ed7",
   "metadata": {},
   "outputs": [
    {
     "name": "stdout",
     "output_type": "stream",
     "text": [
      "Abhi\n",
      "Abhi\n",
      "shek\n"
     ]
    }
   ],
   "source": [
    "# Another way \n",
    "print(Name[:4]) # Count everything till 4th position.\n",
    "print(Name[:-4])\n",
    "print(Name[4:]) #Count everything from 4th position. "
   ]
  },
  {
   "cell_type": "code",
   "execution_count": 24,
   "id": "9e066d06-091f-4123-90e3-cc53a95d46d3",
   "metadata": {},
   "outputs": [
    {
     "name": "stdout",
     "output_type": "stream",
     "text": [
      "Abhishek\n",
      "Ahse\n"
     ]
    }
   ],
   "source": [
    "# 3. [Start:End:Step]\n",
    "print(Name)\n",
    "print(Name[0::2])"
   ]
  },
  {
   "cell_type": "code",
   "execution_count": 25,
   "id": "338dc776-b8b3-4459-b91e-74820e0c01c9",
   "metadata": {},
   "outputs": [
    {
     "name": "stdout",
     "output_type": "stream",
     "text": [
      "bihk\n"
     ]
    }
   ],
   "source": [
    "print(Name[1::2])"
   ]
  },
  {
   "cell_type": "code",
   "execution_count": 27,
   "id": "6ced35fb-0ce1-482c-97de-2ee7bd29e202",
   "metadata": {},
   "outputs": [
    {
     "name": "stdout",
     "output_type": "stream",
     "text": [
      "4\n"
     ]
    }
   ],
   "source": [
    "print(len('1234'))"
   ]
  },
  {
   "cell_type": "code",
   "execution_count": 31,
   "id": "14be9f86-3447-4f55-b164-a2a5934d0f32",
   "metadata": {},
   "outputs": [
    {
     "name": "stdout",
     "output_type": "stream",
     "text": [
      "2468\n",
      "13579\n"
     ]
    }
   ],
   "source": [
    "Numbers = \"123456789\"\n",
    "# Even Numbers\n",
    "print(Numbers[1::2])\n",
    "\n",
    "# Odd Numbers\n",
    "print(Numbers[0::2])"
   ]
  },
  {
   "cell_type": "code",
   "execution_count": 32,
   "id": "1fb69e79-85f4-498a-ad45-affb8aa5596b",
   "metadata": {},
   "outputs": [
    {
     "name": "stdout",
     "output_type": "stream",
     "text": [
      "Abhishek\n"
     ]
    }
   ],
   "source": [
    "print(Name)"
   ]
  },
  {
   "cell_type": "code",
   "execution_count": 33,
   "id": "66162a5f-bf0a-4ef2-9ee0-047fca72a7c8",
   "metadata": {},
   "outputs": [
    {
     "name": "stdout",
     "output_type": "stream",
     "text": [
      "ABHISHEK\n"
     ]
    }
   ],
   "source": [
    "# Modifying strings\n",
    "\n",
    "print(Name.upper()) # Change the charcter in upper case"
   ]
  },
  {
   "cell_type": "code",
   "execution_count": 34,
   "id": "04865103-5982-482b-929d-514415b51109",
   "metadata": {},
   "outputs": [
    {
     "name": "stdout",
     "output_type": "stream",
     "text": [
      "abhishek\n"
     ]
    }
   ],
   "source": [
    "print(Name.lower()) # Change the charcter in lower case"
   ]
  },
  {
   "cell_type": "code",
   "execution_count": 37,
   "id": "901aaef0-7352-4535-8e10-9d24d8083091",
   "metadata": {},
   "outputs": [
    {
     "name": "stdout",
     "output_type": "stream",
     "text": [
      "    Harman      \n"
     ]
    }
   ],
   "source": [
    "# Creating a variable with extra white spaces\n",
    "Name_1 = \"    Harman      \"\n",
    "print(Name_1)"
   ]
  },
  {
   "cell_type": "code",
   "execution_count": 39,
   "id": "e165120c-e3cc-42e9-91d5-d647aec657aa",
   "metadata": {},
   "outputs": [
    {
     "name": "stdout",
     "output_type": "stream",
     "text": [
      "1644451212352\n"
     ]
    }
   ],
   "source": [
    "# Location of variable where it is located inside your computer memory id().\n",
    "print(id(Name_1))"
   ]
  },
  {
   "cell_type": "code",
   "execution_count": 42,
   "id": "10a3d978-1a4d-4db5-9aca-530bd984ad68",
   "metadata": {},
   "outputs": [],
   "source": [
    "Name_1 = Name_1.strip()"
   ]
  },
  {
   "cell_type": "code",
   "execution_count": 46,
   "id": "f7fbdf31-ffdd-4ada-9091-554bb9a6ff6f",
   "metadata": {},
   "outputs": [
    {
     "data": {
      "text/plain": [
       "'Harman'"
      ]
     },
     "execution_count": 46,
     "metadata": {},
     "output_type": "execute_result"
    }
   ],
   "source": [
    "# Not recommended\n",
    "Name_1"
   ]
  },
  {
   "cell_type": "code",
   "execution_count": 47,
   "id": "567955a9-aac5-4432-8f29-861eca1352cc",
   "metadata": {},
   "outputs": [
    {
     "name": "stdout",
     "output_type": "stream",
     "text": [
      "Harman\n"
     ]
    }
   ],
   "source": [
    "print(Name_1)"
   ]
  },
  {
   "cell_type": "code",
   "execution_count": 48,
   "id": "40c8a178-c512-4c63-9464-9534992b9085",
   "metadata": {},
   "outputs": [
    {
     "name": "stdout",
     "output_type": "stream",
     "text": [
      "1644451187248\n"
     ]
    }
   ],
   "source": [
    "print(id(Name_1))"
   ]
  },
  {
   "cell_type": "code",
   "execution_count": 49,
   "id": "92288269-f936-4963-a6de-3fcaf6f9f2bb",
   "metadata": {},
   "outputs": [
    {
     "name": "stdout",
     "output_type": "stream",
     "text": [
      "Abhishek\n"
     ]
    }
   ],
   "source": [
    "print(Name)"
   ]
  },
  {
   "cell_type": "code",
   "execution_count": 51,
   "id": "287e3f23-f7b9-4e3c-8d2d-194ca004ba16",
   "metadata": {},
   "outputs": [
    {
     "name": "stdout",
     "output_type": "stream",
     "text": [
      "Abbisbek\n"
     ]
    }
   ],
   "source": [
    "# How can I replace a particular instance of a character?.\n",
    "print(Name.replace(\"h\",\"b\"))"
   ]
  },
  {
   "cell_type": "code",
   "execution_count": 52,
   "id": "3a30909d-5591-49c3-a5e8-e1454b765be4",
   "metadata": {},
   "outputs": [
    {
     "data": {
      "text/plain": [
       "'Abhishek'"
      ]
     },
     "execution_count": 52,
     "metadata": {},
     "output_type": "execute_result"
    }
   ],
   "source": [
    "Name"
   ]
  },
  {
   "cell_type": "code",
   "execution_count": 53,
   "id": "e7fc56d3-461a-4f2e-9c5c-334d18207136",
   "metadata": {},
   "outputs": [
    {
     "name": "stdout",
     "output_type": "stream",
     "text": [
      "Ahhishek\n"
     ]
    }
   ],
   "source": [
    "print(Name.replace('b','h'))"
   ]
  },
  {
   "cell_type": "code",
   "execution_count": 54,
   "id": "24591422-6779-4657-a3ca-76edbe65cf74",
   "metadata": {},
   "outputs": [
    {
     "name": "stdout",
     "output_type": "stream",
     "text": [
      "Hello, Abhishek\n"
     ]
    }
   ],
   "source": [
    "greet = \"Hello, \" + Name\n",
    "print(greet)"
   ]
  },
  {
   "cell_type": "code",
   "execution_count": 55,
   "id": "b63dd62d-9278-41a5-ab1a-a5de9d1c05ae",
   "metadata": {},
   "outputs": [
    {
     "name": "stdout",
     "output_type": "stream",
     "text": [
      "['Hello', ' Abhishek']\n"
     ]
    }
   ],
   "source": [
    "# Split is used to split strings with a separator.\n",
    "print(greet.split(\",\"))"
   ]
  },
  {
   "cell_type": "code",
   "execution_count": 56,
   "id": "70f55bbd-df4f-4979-ad6e-7e8c4259829c",
   "metadata": {},
   "outputs": [],
   "source": [
    "# Concatenation == Combining/Joining/Merging more than one string together.\n",
    "c = 'I'\n",
    "d = \"M\"\n",
    "e = \"L\"\n",
    "f = \"I\"\n",
    "\n",
    "g = c + d + e + f"
   ]
  },
  {
   "cell_type": "code",
   "execution_count": 59,
   "id": "e6c5deef-d36e-44f9-a961-840d064955ae",
   "metadata": {},
   "outputs": [
    {
     "name": "stdout",
     "output_type": "stream",
     "text": [
      "IMLI\n"
     ]
    }
   ],
   "source": [
    "# Best Practice\n",
    "print(g)"
   ]
  },
  {
   "cell_type": "code",
   "execution_count": 60,
   "id": "786fd8b1-7015-4750-9d9d-8aeeb856bfbc",
   "metadata": {},
   "outputs": [
    {
     "name": "stdout",
     "output_type": "stream",
     "text": [
      "I've got 85 marks in Maths.\n"
     ]
    }
   ],
   "source": [
    "# Formatting strings -- Using format() operators and placeholders{}.\n",
    "\n",
    "Mathematics = 85\n",
    "\n",
    "print(\"I've got {} marks in Maths.\".format(Mathematics))\n"
   ]
  },
  {
   "cell_type": "code",
   "execution_count": 61,
   "id": "694e7555-1051-41d0-87cd-29e0a5c3748b",
   "metadata": {},
   "outputs": [
    {
     "name": "stdout",
     "output_type": "stream",
     "text": [
      "I want to pay 49.95 dollars for 3 pieces of item 567.\n"
     ]
    }
   ],
   "source": [
    "quantity = 3\n",
    "itemno = 567\n",
    "price = 49.95\n",
    "myorder = \"I want to pay {2} dollars for {0} pieces of item {1}.\"\n",
    "print(myorder.format(quantity, itemno, price))"
   ]
  },
  {
   "cell_type": "code",
   "execution_count": 63,
   "id": "708f8490-03b9-43e5-a199-1863218a33fd",
   "metadata": {},
   "outputs": [
    {
     "name": "stdout",
     "output_type": "stream",
     "text": [
      "I want to pay 49.95 dollars for 3 pieces of item 567.\n"
     ]
    }
   ],
   "source": [
    "print(\"I want to pay {2} dollars for {0} pieces of item {1}.\".format(quantity, itemno, price))"
   ]
  },
  {
   "cell_type": "code",
   "execution_count": 71,
   "id": "8e7d73cf-6c76-4078-b0d6-6cfae85cd387",
   "metadata": {},
   "outputs": [],
   "source": [
    "# Escape Characters\n",
    "# This will cause a error.\n",
    "\n",
    "# msg = \"I will be a \"Data Scientist\" in 2024\"\n",
    "# msg"
   ]
  },
  {
   "cell_type": "code",
   "execution_count": 68,
   "id": "4d56f449-623a-4a61-92aa-e38396990cb3",
   "metadata": {},
   "outputs": [
    {
     "data": {
      "text/plain": [
       "'I will be a \"Data Scientist\" in 2024'"
      ]
     },
     "execution_count": 68,
     "metadata": {},
     "output_type": "execute_result"
    }
   ],
   "source": [
    "# 1. First way and bookish way\n",
    "msg = \"I will be a \\\"Data Scientist\\\" in 2024\"\n",
    "msg"
   ]
  },
  {
   "cell_type": "code",
   "execution_count": 69,
   "id": "5e42623e-1e55-4142-af44-3a837aef7bd4",
   "metadata": {},
   "outputs": [
    {
     "data": {
      "text/plain": [
       "'I will be a \"Data Scientist\" in 2024'"
      ]
     },
     "execution_count": 69,
     "metadata": {},
     "output_type": "execute_result"
    }
   ],
   "source": [
    "# 2. Second Way\n",
    "msg_1 = 'I will be a \"Data Scientist\" in 2024'\n",
    "msg_1"
   ]
  }
 ],
 "metadata": {
  "kernelspec": {
   "display_name": "Python 3 (ipykernel)",
   "language": "python",
   "name": "python3"
  },
  "language_info": {
   "codemirror_mode": {
    "name": "ipython",
    "version": 3
   },
   "file_extension": ".py",
   "mimetype": "text/x-python",
   "name": "python",
   "nbconvert_exporter": "python",
   "pygments_lexer": "ipython3",
   "version": "3.11.7"
  }
 },
 "nbformat": 4,
 "nbformat_minor": 5
}
