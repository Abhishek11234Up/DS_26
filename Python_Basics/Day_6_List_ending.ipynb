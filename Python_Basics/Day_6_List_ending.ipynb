{
 "cells": [
  {
   "cell_type": "code",
   "execution_count": 28,
   "id": "627edd1f-e519-4b47-aeee-588ad726a252",
   "metadata": {},
   "outputs": [],
   "source": [
    "My_List = [\"Tulip\", \"Rose\", \"Marigold\", \"Lotus\", \"Lilly\", \"Orchids\"]"
   ]
  },
  {
   "cell_type": "code",
   "execution_count": 16,
   "id": "c5bfd930-4a75-4f7b-a48b-2bf2f6eff966",
   "metadata": {},
   "outputs": [],
   "source": [
    "New_list = []"
   ]
  },
  {
   "cell_type": "code",
   "execution_count": 17,
   "id": "bcabb9a5-dc47-4628-98b7-202b57127a57",
   "metadata": {},
   "outputs": [],
   "source": [
    "for i in My_List:\n",
    "    if \"r\" in i:\n",
    "        New_list.append(i)"
   ]
  },
  {
   "cell_type": "code",
   "execution_count": 18,
   "id": "a9103a92-a8b5-42ec-9809-b50834b9b3e7",
   "metadata": {},
   "outputs": [
    {
     "data": {
      "text/plain": [
       "['rose', 'Marigold', 'Orchids']"
      ]
     },
     "execution_count": 18,
     "metadata": {},
     "output_type": "execute_result"
    }
   ],
   "source": [
    "New_list"
   ]
  },
  {
   "cell_type": "code",
   "execution_count": 19,
   "id": "1d0ed636-59a1-4ca6-b8ec-99aac45ab6df",
   "metadata": {},
   "outputs": [
    {
     "name": "stdout",
     "output_type": "stream",
     "text": [
      "['apple', 'banana', 'mango']\n"
     ]
    }
   ],
   "source": [
    "fruits = [\"apple\", \"banana\", \"cherry\", \"kiwi\", \"mango\"]\n",
    "\n",
    "newlist = [x for x in fruits if \"a\" in x]\n",
    "\n",
    "print(newlist)"
   ]
  },
  {
   "cell_type": "code",
   "execution_count": 20,
   "id": "b52c2cc1-5d82-4e9c-8e46-518dfbf30993",
   "metadata": {},
   "outputs": [],
   "source": [
    "# newlist = [expression for item in iterable if condition == True]"
   ]
  },
  {
   "cell_type": "code",
   "execution_count": 21,
   "id": "ee499eee-51a7-4dd7-bfed-d277fa52b84e",
   "metadata": {},
   "outputs": [
    {
     "name": "stdout",
     "output_type": "stream",
     "text": [
      "[]\n"
     ]
    }
   ],
   "source": [
    "fruits = [\"apple\", \"banana\", \"cherry\", \"kiwi\", \"mango\"]\n",
    "\n",
    "renew_list = [x for x in fruits if \"z\" in x]\n",
    "\n",
    "print(renew_list)"
   ]
  },
  {
   "cell_type": "code",
   "execution_count": 22,
   "id": "23a3b2b7-e97a-4d78-9a98-2bcb93a449dd",
   "metadata": {},
   "outputs": [
    {
     "name": "stdout",
     "output_type": "stream",
     "text": [
      "[0, 1, 2, 3, 4, 5, 6, 7, 8, 9, 10, 11, 12, 13, 14, 15, 16, 17, 18, 19]\n"
     ]
    }
   ],
   "source": [
    "My_nos = [i for i in range(20)]\n",
    "print(My_nos)"
   ]
  },
  {
   "cell_type": "code",
   "execution_count": 26,
   "id": "b112c50b-f889-401d-b324-9d7de1f4017f",
   "metadata": {},
   "outputs": [
    {
     "name": "stdout",
     "output_type": "stream",
     "text": [
      "[15, 16, 17, 18, 19]\n"
     ]
    }
   ],
   "source": [
    "My_2nos = [i for i in range(20) if i >= 15]\n",
    "print(My_2nos)"
   ]
  },
  {
   "cell_type": "code",
   "execution_count": 29,
   "id": "6cf8026e-224e-4787-9676-c7637fd57eb5",
   "metadata": {},
   "outputs": [
    {
     "data": {
      "text/plain": [
       "['Lilly', 'Lotus', 'Marigold', 'Orchids', 'Rose', 'Tulip']"
      ]
     },
     "execution_count": 29,
     "metadata": {},
     "output_type": "execute_result"
    }
   ],
   "source": [
    "My_List.sort()\n",
    "My_List"
   ]
  },
  {
   "cell_type": "code",
   "execution_count": 30,
   "id": "a3550871-3567-4c92-8cb9-5aca8e1c113a",
   "metadata": {},
   "outputs": [
    {
     "data": {
      "text/plain": [
       "['Tulip', 'Rose', 'Orchids', 'Marigold', 'Lotus', 'Lilly']"
      ]
     },
     "execution_count": 30,
     "metadata": {},
     "output_type": "execute_result"
    }
   ],
   "source": [
    "My_List.sort(reverse  = True)\n",
    "My_List"
   ]
  },
  {
   "cell_type": "code",
   "execution_count": 31,
   "id": "d48b7afc-4e31-4b20-9947-2c3735105841",
   "metadata": {},
   "outputs": [
    {
     "data": {
      "text/plain": [
       "[19, 18, 17, 16, 15, 14, 13, 12, 11, 10, 9, 8, 7, 6, 5, 4, 3, 2, 1, 0]"
      ]
     },
     "execution_count": 31,
     "metadata": {},
     "output_type": "execute_result"
    }
   ],
   "source": [
    "My_nos.sort(reverse=True)\n",
    "My_nos"
   ]
  },
  {
   "cell_type": "code",
   "execution_count": 33,
   "id": "8afcb98d-aae3-4c91-83e4-b3df30c73d81",
   "metadata": {},
   "outputs": [
    {
     "name": "stdout",
     "output_type": "stream",
     "text": [
      "['False', 'None', 'True', 'and', 'as', 'assert', 'async', 'await', 'break', 'class', 'continue', 'def', 'del', 'elif', 'else', 'except', 'finally', 'for', 'from', 'global', 'if', 'import', 'in', 'is', 'lambda', 'nonlocal', 'not', 'or', 'pass', 'raise', 'return', 'try', 'while', 'with', 'yield']\n"
     ]
    }
   ],
   "source": [
    "import keyword\n",
    "print(keyword.kwlist)"
   ]
  },
  {
   "cell_type": "code",
   "execution_count": 34,
   "id": "da8ed44b-bc56-4a3b-ba37-c28286db6b49",
   "metadata": {},
   "outputs": [
    {
     "data": {
      "text/plain": [
       "['Vivek', 'Kinshuk', 'Harman', 'Abhishek']"
      ]
     },
     "execution_count": 34,
     "metadata": {},
     "output_type": "execute_result"
    }
   ],
   "source": [
    "list_1 = [\"Abhishek\", \"Harman\", \"Kinshuk\", \"Vivek\"]\n",
    "list_1.reverse()\n",
    "list_1"
   ]
  },
  {
   "cell_type": "code",
   "execution_count": 46,
   "id": "6033d4b9-0fa7-4d92-8aa6-214e4762f7a0",
   "metadata": {},
   "outputs": [],
   "source": [
    "# Not recommended\n",
    "list_2 = list_1"
   ]
  },
  {
   "cell_type": "code",
   "execution_count": 47,
   "id": "69108c9a-bcf2-4cda-b09b-c42e93129edb",
   "metadata": {},
   "outputs": [
    {
     "data": {
      "text/plain": [
       "['Vivek', 'Kinshuk', 'Harman', 'Abhishek', 'Amit', 'Khalik']"
      ]
     },
     "execution_count": 47,
     "metadata": {},
     "output_type": "execute_result"
    }
   ],
   "source": [
    "list_2"
   ]
  },
  {
   "cell_type": "code",
   "execution_count": 48,
   "id": "1188422f-2ffb-40ed-b7ae-4c2c4ee78b7c",
   "metadata": {},
   "outputs": [],
   "source": [
    "list_1.append(\"Amit\")"
   ]
  },
  {
   "cell_type": "code",
   "execution_count": 49,
   "id": "6f51d695-2189-4c9f-ba4f-bd16c47c5678",
   "metadata": {},
   "outputs": [
    {
     "data": {
      "text/plain": [
       "['Vivek', 'Kinshuk', 'Harman', 'Abhishek', 'Amit', 'Khalik', 'Amit']"
      ]
     },
     "execution_count": 49,
     "metadata": {},
     "output_type": "execute_result"
    }
   ],
   "source": [
    "list_2"
   ]
  },
  {
   "cell_type": "code",
   "execution_count": 50,
   "id": "2a503484-0b9c-4b4d-9127-89f8eef8dd49",
   "metadata": {},
   "outputs": [
    {
     "data": {
      "text/plain": [
       "['Vivek', 'Kinshuk', 'Harman', 'Abhishek', 'Amit', 'Khalik', 'Amit']"
      ]
     },
     "execution_count": 50,
     "metadata": {},
     "output_type": "execute_result"
    }
   ],
   "source": [
    "list_1"
   ]
  },
  {
   "cell_type": "code",
   "execution_count": 51,
   "id": "8f4fa82d-272e-4a2c-bb5d-d6fce204e18e",
   "metadata": {},
   "outputs": [],
   "source": [
    "list_2 = list_1.copy()"
   ]
  },
  {
   "cell_type": "code",
   "execution_count": 52,
   "id": "cd503878-501b-4896-991a-173771c606e5",
   "metadata": {},
   "outputs": [],
   "source": [
    "list_1.append(\"Khalik\")"
   ]
  },
  {
   "cell_type": "code",
   "execution_count": 53,
   "id": "5c8f2d8b-a732-4594-a68f-b5be7b1b1a7e",
   "metadata": {},
   "outputs": [
    {
     "data": {
      "text/plain": [
       "['Vivek', 'Kinshuk', 'Harman', 'Abhishek', 'Amit', 'Khalik', 'Amit', 'Khalik']"
      ]
     },
     "execution_count": 53,
     "metadata": {},
     "output_type": "execute_result"
    }
   ],
   "source": [
    "list_1"
   ]
  },
  {
   "cell_type": "code",
   "execution_count": 54,
   "id": "4d04c22e-24a6-4a1d-a727-2536707b2e3e",
   "metadata": {},
   "outputs": [
    {
     "data": {
      "text/plain": [
       "['Vivek', 'Kinshuk', 'Harman', 'Abhishek', 'Amit', 'Khalik', 'Amit']"
      ]
     },
     "execution_count": 54,
     "metadata": {},
     "output_type": "execute_result"
    }
   ],
   "source": [
    "list_2"
   ]
  },
  {
   "cell_type": "code",
   "execution_count": 55,
   "id": "ee1e8412-e2f8-40e8-b8ad-c6745f7caaa4",
   "metadata": {},
   "outputs": [
    {
     "name": "stdout",
     "output_type": "stream",
     "text": [
      "['a', 'b', 'c', 1, 2, 3]\n"
     ]
    }
   ],
   "source": [
    "list1 = [\"a\", \"b\", \"c\"]\n",
    "list2 = [1, 2, 3]\n",
    "\n",
    "list3 = list1 + list2\n",
    "print(list3)"
   ]
  }
 ],
 "metadata": {
  "kernelspec": {
   "display_name": "Python 3 (ipykernel)",
   "language": "python",
   "name": "python3"
  },
  "language_info": {
   "codemirror_mode": {
    "name": "ipython",
    "version": 3
   },
   "file_extension": ".py",
   "mimetype": "text/x-python",
   "name": "python",
   "nbconvert_exporter": "python",
   "pygments_lexer": "ipython3",
   "version": "3.11.7"
  }
 },
 "nbformat": 4,
 "nbformat_minor": 5
}
