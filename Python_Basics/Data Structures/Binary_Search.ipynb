{
 "cells": [
  {
   "cell_type": "code",
   "execution_count": 1,
   "id": "4461836d-15ea-4a9a-828e-b11533edfb2c",
   "metadata": {},
   "outputs": [
    {
     "name": "stdout",
     "output_type": "stream",
     "text": [
      "6\n"
     ]
    }
   ],
   "source": [
    "# To find the index of 68\n",
    "\n",
    "numbers = [4, 9, 15, 21, 34, 57, 68, 91]\n",
    "\n",
    "for n in range(len(numbers)):\n",
    "    if numbers[n] == 68:\n",
    "        print(n)"
   ]
  },
  {
   "cell_type": "code",
   "execution_count": 3,
   "id": "18100ad6-2658-4f98-b1c8-06fc052cdbd9",
   "metadata": {},
   "outputs": [
    {
     "name": "stdout",
     "output_type": "stream",
     "text": [
      "Value 9 found at index 3\n"
     ]
    }
   ],
   "source": [
    "# Linear Search \n",
    "\n",
    "def linearSearch(arr, targetVal):\n",
    "    for i in range(len(arr)):\n",
    "        if arr[i] == targetVal:\n",
    "            return i\n",
    "    return -1\n",
    "\n",
    "arr = [3, 7, 2, 9, 5]\n",
    "targetVal = 9\n",
    "\n",
    "result = linearSearch(arr, targetVal)\n",
    "\n",
    "if result != -1:\n",
    "    print(\"Value\",targetVal,\"found at index\",result)\n",
    "else:\n",
    "    print(\"Value\",targetVal,\"not found\")"
   ]
  },
  {
   "cell_type": "code",
   "execution_count": 2,
   "id": "d37c2746-b834-4af4-a875-3b6d0e02e6f7",
   "metadata": {},
   "outputs": [
    {
     "name": "stdout",
     "output_type": "stream",
     "text": [
      "7\n",
      "Value 15 found at index 7\n"
     ]
    }
   ],
   "source": [
    "def binarySearch(arr, targetVal):\n",
    "    left = 0\n",
    "    right = len(arr) - 1\n",
    "\n",
    "    while left <= right:\n",
    "        mid = (left + right) // 2\n",
    "\n",
    "        if arr[mid] == targetVal:\n",
    "            return mid\n",
    "        \n",
    "        if arr[mid] < targetVal:\n",
    "            left = mid + 1\n",
    "        else:\n",
    "            right = mid - 1\n",
    "\n",
    "    return -1\n",
    "\n",
    "myArray = [1, 3, 5, 7, 9, 11, 13, 15, 17, 19]\n",
    "myTarget = 15\n",
    "\n",
    "result = binarySearch(myArray, myTarget)\n",
    "print(result)\n",
    "\n",
    "if result != -1:\n",
    "    print(\"Value\",myTarget,\"found at index\", result)\n",
    "else:\n",
    "    print(\"Target not found in array.\")"
   ]
  },
  {
   "cell_type": "code",
   "execution_count": 4,
   "id": "f500a9c3-3c50-492b-a966-1bd3ba833be7",
   "metadata": {},
   "outputs": [],
   "source": [
    "x = 50"
   ]
  },
  {
   "cell_type": "code",
   "execution_count": 5,
   "id": "4643b3a2-9cf3-4776-b447-b7d1d715f58b",
   "metadata": {},
   "outputs": [
    {
     "name": "stdout",
     "output_type": "stream",
     "text": [
      "140731483539784\n"
     ]
    }
   ],
   "source": [
    "print(id(x))"
   ]
  },
  {
   "cell_type": "code",
   "execution_count": null,
   "id": "7ce644a0-9b35-4e03-84a6-dae9c0da8dfb",
   "metadata": {},
   "outputs": [],
   "source": []
  }
 ],
 "metadata": {
  "kernelspec": {
   "display_name": "Python 3 (ipykernel)",
   "language": "python",
   "name": "python3"
  },
  "language_info": {
   "codemirror_mode": {
    "name": "ipython",
    "version": 3
   },
   "file_extension": ".py",
   "mimetype": "text/x-python",
   "name": "python",
   "nbconvert_exporter": "python",
   "pygments_lexer": "ipython3",
   "version": "3.11.7"
  }
 },
 "nbformat": 4,
 "nbformat_minor": 5
}
