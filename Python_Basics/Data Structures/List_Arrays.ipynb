{
 "cells": [
  {
   "cell_type": "code",
   "execution_count": 7,
   "id": "e2d9f7e0-ddf1-490f-b400-68c075ed7a33",
   "metadata": {},
   "outputs": [],
   "source": [
    "# List is called array also\n",
    "list_1 = [34, 67, 45, 23, 89]"
   ]
  },
  {
   "cell_type": "code",
   "execution_count": 8,
   "id": "99b678af-bab9-417a-9a13-6cb2ffe89374",
   "metadata": {},
   "outputs": [
    {
     "name": "stdout",
     "output_type": "stream",
     "text": [
      "Lowest value:  23\n"
     ]
    }
   ],
   "source": [
    "minVal = list_1[0]    # Step 1\n",
    "\n",
    "for i in list_1:      # Step 2\n",
    "    if i < minVal:      # Step 3\n",
    "        minVal = i\n",
    "        \n",
    "print('Lowest value: ',minVal) # Step 4"
   ]
  },
  {
   "cell_type": "code",
   "execution_count": 11,
   "id": "c546af03-a9f5-4ce7-8640-0072816872dc",
   "metadata": {},
   "outputs": [
    {
     "name": "stdout",
     "output_type": "stream",
     "text": [
      "23\n"
     ]
    }
   ],
   "source": [
    "print(min(list_1))"
   ]
  },
  {
   "cell_type": "code",
   "execution_count": 6,
   "id": "0b4ca93c-9779-48dc-acb2-3a8f067a6a1b",
   "metadata": {},
   "outputs": [],
   "source": [
    "# Try the max on our own"
   ]
  }
 ],
 "metadata": {
  "kernelspec": {
   "display_name": "Python 3 (ipykernel)",
   "language": "python",
   "name": "python3"
  },
  "language_info": {
   "codemirror_mode": {
    "name": "ipython",
    "version": 3
   },
   "file_extension": ".py",
   "mimetype": "text/x-python",
   "name": "python",
   "nbconvert_exporter": "python",
   "pygments_lexer": "ipython3",
   "version": "3.11.7"
  }
 },
 "nbformat": 4,
 "nbformat_minor": 5
}
