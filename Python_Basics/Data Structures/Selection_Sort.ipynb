{
 "cells": [
  {
   "cell_type": "code",
   "execution_count": 2,
   "id": "9235cb39-119f-4ae2-bd72-6f155716d09c",
   "metadata": {},
   "outputs": [],
   "source": [
    "list_A1 = [67, 69, 4, 7, 3, 0]"
   ]
  },
  {
   "cell_type": "code",
   "execution_count": 3,
   "id": "b1af5a99-0fb9-4f9b-9b24-54822e0aa09d",
   "metadata": {},
   "outputs": [],
   "source": [
    "modified_list_v_1 = [0, 67, 69, 4, 7, 3]\n",
    "modified_list_v_2 = [0, 3, 67, 69, 4, 7]\n",
    "modified_list_v_3 = [0, 3, 4, 67, 69, 7]\n",
    "modified_list_v_4 = [0, 3, 4, 7, 67, 69]\n",
    "modified_list_Version_f = [0, 3, 4, 7, 67, 69]"
   ]
  },
  {
   "cell_type": "code",
   "execution_count": 4,
   "id": "8641c30c-57ac-4b2f-8b82-d07fccc66fee",
   "metadata": {},
   "outputs": [
    {
     "data": {
      "text/plain": [
       "[67, 69, 4, 7, 3, 0]"
      ]
     },
     "execution_count": 4,
     "metadata": {},
     "output_type": "execute_result"
    }
   ],
   "source": [
    "list_A1"
   ]
  },
  {
   "cell_type": "code",
   "execution_count": 5,
   "id": "70c952de-0aee-4d55-b6a7-35c04ce28bc3",
   "metadata": {},
   "outputs": [
    {
     "name": "stdout",
     "output_type": "stream",
     "text": [
      "Sorted array: [0, 3, 4, 7, 67, 69]\n"
     ]
    }
   ],
   "source": [
    "n = len(list_A1)\n",
    "for i in range(n-1):\n",
    "    min_index = i\n",
    "    for j in range(i+1, n):\n",
    "        if list_A1[j] < list_A1[min_index]:\n",
    "            min_index = j\n",
    "    min_value = list_A1.pop(min_index)\n",
    "    list_A1.insert(i, min_value)\n",
    "\n",
    "print(\"Sorted array:\", list_A1)"
   ]
  },
  {
   "cell_type": "code",
   "execution_count": 7,
   "id": "9197ba7b-9f98-4c07-b387-5cbf339abec7",
   "metadata": {},
   "outputs": [
    {
     "name": "stdout",
     "output_type": "stream",
     "text": [
      "Sorted array: [5, 11, 12, 22, 25, 34, 64, 90]\n"
     ]
    }
   ],
   "source": [
    "# Improved version\n",
    "my_array = [64, 34, 25, 12, 22, 11, 90, 5]\n",
    "\n",
    "n = len(my_array)\n",
    "for i in range(n):\n",
    "    min_index = i\n",
    "    for j in range(i+1, n):\n",
    "        if my_array[j] < my_array[min_index]:\n",
    "            min_index = j   \n",
    "    my_array[i], my_array[min_index] = my_array[min_index], my_array[i]\n",
    "\n",
    "print(\"Sorted array:\", my_array)"
   ]
  }
 ],
 "metadata": {
  "kernelspec": {
   "display_name": "Python 3 (ipykernel)",
   "language": "python",
   "name": "python3"
  },
  "language_info": {
   "codemirror_mode": {
    "name": "ipython",
    "version": 3
   },
   "file_extension": ".py",
   "mimetype": "text/x-python",
   "name": "python",
   "nbconvert_exporter": "python",
   "pygments_lexer": "ipython3",
   "version": "3.11.7"
  }
 },
 "nbformat": 4,
 "nbformat_minor": 5
}
