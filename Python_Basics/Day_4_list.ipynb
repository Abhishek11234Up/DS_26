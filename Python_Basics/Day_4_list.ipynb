{
 "cells": [
  {
   "cell_type": "code",
   "execution_count": 1,
   "id": "b3144c4f-3cc9-4327-935a-4045e09b13af",
   "metadata": {},
   "outputs": [],
   "source": [
    "# Keywords -- There are some reserved words which will perform a particular task."
   ]
  },
  {
   "cell_type": "code",
   "execution_count": 3,
   "id": "428c7970-ffcb-44a8-a113-d90b124c106a",
   "metadata": {},
   "outputs": [],
   "source": [
    "import keyword"
   ]
  },
  {
   "cell_type": "code",
   "execution_count": 4,
   "id": "a976ead2-fc73-46fb-948b-14e53405c441",
   "metadata": {},
   "outputs": [
    {
     "name": "stdout",
     "output_type": "stream",
     "text": [
      "['False', 'None', 'True', 'and', 'as', 'assert', 'async', 'await', 'break', 'class', 'continue', 'def', 'del', 'elif', 'else', 'except', 'finally', 'for', 'from', 'global', 'if', 'import', 'in', 'is', 'lambda', 'nonlocal', 'not', 'or', 'pass', 'raise', 'return', 'try', 'while', 'with', 'yield']\n"
     ]
    }
   ],
   "source": [
    "print(keyword.kwlist)"
   ]
  },
  {
   "cell_type": "markdown",
   "id": "4c955dfc-76f1-49b5-beb0-12fac39d8b8c",
   "metadata": {},
   "source": [
    "# List - [], list() -- and items are separated by comma(,)."
   ]
  },
  {
   "cell_type": "code",
   "execution_count": 14,
   "id": "ca0ce296-76f7-434e-bdba-1962c6d9f5d0",
   "metadata": {},
   "outputs": [],
   "source": [
    "my_list = [\"shoes\", \"Books\", \"Laptop\", 10000, 2+3j, \"Aditya\", True, False]"
   ]
  },
  {
   "cell_type": "code",
   "execution_count": 15,
   "id": "fbf98999-b81c-4a9c-8129-25afe966a5f6",
   "metadata": {},
   "outputs": [
    {
     "name": "stdout",
     "output_type": "stream",
     "text": [
      "<class 'list'>\n"
     ]
    }
   ],
   "source": [
    "print(type(my_list))"
   ]
  },
  {
   "cell_type": "code",
   "execution_count": 16,
   "id": "c1f026f1-28d2-40b6-9ce3-d15d9fed57e8",
   "metadata": {},
   "outputs": [],
   "source": [
    "# Allow duplicates\n",
    "my_list = [\"shoes\", \"Books\", \"Books\", \"Laptop\", 10000, 2+3j, \"Aditya\", True, False]"
   ]
  },
  {
   "cell_type": "code",
   "execution_count": 17,
   "id": "7c695a47-27a3-4f75-9704-a588c0670739",
   "metadata": {},
   "outputs": [
    {
     "name": "stdout",
     "output_type": "stream",
     "text": [
      "['shoes', 'Books', 'Books', 'Laptop', 10000, (2+3j), 'Aditya', True, False]\n"
     ]
    }
   ],
   "source": [
    "print(my_list)"
   ]
  },
  {
   "cell_type": "code",
   "execution_count": 21,
   "id": "10bcbf8d-b218-4c57-8aa8-3527885d6d9c",
   "metadata": {},
   "outputs": [
    {
     "data": {
      "text/plain": [
       "9"
      ]
     },
     "execution_count": 21,
     "metadata": {},
     "output_type": "execute_result"
    }
   ],
   "source": [
    "# Length of the list -- no. of items inside a list\n",
    "len(my_list)"
   ]
  },
  {
   "cell_type": "code",
   "execution_count": 19,
   "id": "4560387f-1a5d-440e-aaa2-f41f2b4f065a",
   "metadata": {},
   "outputs": [],
   "source": [
    "# list()\n",
    "my_list_1 = list((1,2,True,None))"
   ]
  },
  {
   "cell_type": "code",
   "execution_count": 20,
   "id": "b0d99447-8982-46d9-80e5-ac1ee914b89b",
   "metadata": {},
   "outputs": [
    {
     "data": {
      "text/plain": [
       "[1, 2, True, None]"
      ]
     },
     "execution_count": 20,
     "metadata": {},
     "output_type": "execute_result"
    }
   ],
   "source": [
    "my_list_1"
   ]
  },
  {
   "cell_type": "code",
   "execution_count": 23,
   "id": "0a5628fd-b3c9-4366-baa6-401b0900aed5",
   "metadata": {},
   "outputs": [
    {
     "data": {
      "text/plain": [
       "'shoes'"
      ]
     },
     "execution_count": 23,
     "metadata": {},
     "output_type": "execute_result"
    }
   ],
   "source": [
    "# indexing - positioning of items\n",
    "my_list[0]"
   ]
  },
  {
   "cell_type": "code",
   "execution_count": 24,
   "id": "6ae372b0-b0dd-4503-b283-10e6c72e4abc",
   "metadata": {},
   "outputs": [
    {
     "data": {
      "text/plain": [
       "[10000, (2+3j)]"
      ]
     },
     "execution_count": 24,
     "metadata": {},
     "output_type": "execute_result"
    }
   ],
   "source": [
    "# Slice --: [Start:End], [Start:End:Step]  -- for selecting a range of items\n",
    "\n",
    "my_list[4:6]"
   ]
  },
  {
   "cell_type": "code",
   "execution_count": 27,
   "id": "d12e3faa-2333-46ef-9e2c-c99597b30c83",
   "metadata": {},
   "outputs": [
    {
     "data": {
      "text/plain": [
       "['shoes', 'Books', 10000, 'Aditya', False]"
      ]
     },
     "execution_count": 27,
     "metadata": {},
     "output_type": "execute_result"
    }
   ],
   "source": [
    "# my_list[::2]\n",
    "my_list[0::2]"
   ]
  },
  {
   "cell_type": "code",
   "execution_count": 28,
   "id": "aeeb9551-63e0-4a91-9d35-1428f15b56e3",
   "metadata": {},
   "outputs": [
    {
     "data": {
      "text/plain": [
       "['shoes', 'Books', 'Books', 'Laptop']"
      ]
     },
     "execution_count": 28,
     "metadata": {},
     "output_type": "execute_result"
    }
   ],
   "source": [
    "my_list[-9:-5]"
   ]
  },
  {
   "cell_type": "code",
   "execution_count": 32,
   "id": "76db399b-b6b7-4767-a99f-8bdba10723c0",
   "metadata": {},
   "outputs": [
    {
     "name": "stdout",
     "output_type": "stream",
     "text": [
      "amit is not there\n"
     ]
    }
   ],
   "source": [
    "# Check if a particular item is inside the list or not.\n",
    "if \"Amit\" in my_list:\n",
    "    print(\"yes Amit is there\")\n",
    "else:\n",
    "    print(\"amit is not there\")"
   ]
  },
  {
   "cell_type": "code",
   "execution_count": 33,
   "id": "9c4ee598-f13c-40de-bf99-b20f9d75ec92",
   "metadata": {},
   "outputs": [],
   "source": [
    "my_list[1] = \"Apple\""
   ]
  },
  {
   "cell_type": "code",
   "execution_count": 34,
   "id": "ffb590c4-c906-4609-b938-a93776914219",
   "metadata": {},
   "outputs": [
    {
     "data": {
      "text/plain": [
       "['shoes', 'Apple', 'Books', 'Laptop', 10000, (2+3j), 'Aditya', True, False]"
      ]
     },
     "execution_count": 34,
     "metadata": {},
     "output_type": "execute_result"
    }
   ],
   "source": [
    "my_list"
   ]
  },
  {
   "cell_type": "code",
   "execution_count": 35,
   "id": "b816b407-da09-4116-954a-1678f2c7e83e",
   "metadata": {},
   "outputs": [
    {
     "data": {
      "text/plain": [
       "9"
      ]
     },
     "execution_count": 35,
     "metadata": {},
     "output_type": "execute_result"
    }
   ],
   "source": [
    "len(my_list)"
   ]
  },
  {
   "cell_type": "code",
   "execution_count": 36,
   "id": "04d4c2ce-4089-4a61-a2f7-b5b5d360e3a4",
   "metadata": {},
   "outputs": [],
   "source": [
    "my_list[6:] = [\"Oranges\",\"grapes\",\"Mango\"]"
   ]
  },
  {
   "cell_type": "code",
   "execution_count": 37,
   "id": "d517e6fc-f3d6-4102-b4d3-868e7cdb95fb",
   "metadata": {},
   "outputs": [
    {
     "data": {
      "text/plain": [
       "['shoes',\n",
       " 'Apple',\n",
       " 'Books',\n",
       " 'Laptop',\n",
       " 10000,\n",
       " (2+3j),\n",
       " 'Oranges',\n",
       " 'grapes',\n",
       " 'Mango']"
      ]
     },
     "execution_count": 37,
     "metadata": {},
     "output_type": "execute_result"
    }
   ],
   "source": [
    "my_list"
   ]
  },
  {
   "cell_type": "code",
   "execution_count": 38,
   "id": "ec56a194-fc7c-4287-bc3d-bdf455a9fa06",
   "metadata": {},
   "outputs": [],
   "source": [
    "my_list.insert(0,\"WaterBottle\")"
   ]
  },
  {
   "cell_type": "code",
   "execution_count": 39,
   "id": "08e06ce3-b28d-4a67-8049-4aa0ba137bb4",
   "metadata": {},
   "outputs": [
    {
     "data": {
      "text/plain": [
       "['WaterBottle',\n",
       " 'shoes',\n",
       " 'Apple',\n",
       " 'Books',\n",
       " 'Laptop',\n",
       " 10000,\n",
       " (2+3j),\n",
       " 'Oranges',\n",
       " 'grapes',\n",
       " 'Mango']"
      ]
     },
     "execution_count": 39,
     "metadata": {},
     "output_type": "execute_result"
    }
   ],
   "source": [
    "my_list"
   ]
  },
  {
   "cell_type": "code",
   "execution_count": 40,
   "id": "34025fc8-ec9a-49b2-8361-8deb71907ad9",
   "metadata": {},
   "outputs": [
    {
     "data": {
      "text/plain": [
       "10"
      ]
     },
     "execution_count": 40,
     "metadata": {},
     "output_type": "execute_result"
    }
   ],
   "source": [
    "len(my_list)"
   ]
  },
  {
   "cell_type": "code",
   "execution_count": 41,
   "id": "9e4515de-ba07-4160-8007-ac12665e75f1",
   "metadata": {},
   "outputs": [],
   "source": [
    "#Adding items inside a list"
   ]
  },
  {
   "cell_type": "code",
   "execution_count": 42,
   "id": "7a20a978-3b93-430d-b88e-b73bb91d255c",
   "metadata": {},
   "outputs": [],
   "source": [
    "# adding items at end\n",
    "\n",
    "my_list.append(500)"
   ]
  },
  {
   "cell_type": "code",
   "execution_count": 43,
   "id": "5d745372-980e-4cbf-a622-085857010126",
   "metadata": {},
   "outputs": [
    {
     "data": {
      "text/plain": [
       "['WaterBottle',\n",
       " 'shoes',\n",
       " 'Apple',\n",
       " 'Books',\n",
       " 'Laptop',\n",
       " 10000,\n",
       " (2+3j),\n",
       " 'Oranges',\n",
       " 'grapes',\n",
       " 'Mango',\n",
       " 500]"
      ]
     },
     "execution_count": 43,
     "metadata": {},
     "output_type": "execute_result"
    }
   ],
   "source": [
    "my_list"
   ]
  },
  {
   "cell_type": "code",
   "execution_count": 45,
   "id": "94ea5d66-86ca-47d3-ae7b-cc0686ce5a10",
   "metadata": {},
   "outputs": [
    {
     "name": "stdout",
     "output_type": "stream",
     "text": [
      "WaterBottle\n",
      "shoes\n",
      "Apple\n",
      "Books\n",
      "Laptop\n",
      "10000\n",
      "(2+3j)\n",
      "Oranges\n",
      "grapes\n",
      "Mango\n",
      "500\n"
     ]
    }
   ],
   "source": [
    "for v in my_list:\n",
    "    print(v)"
   ]
  },
  {
   "cell_type": "code",
   "execution_count": 46,
   "id": "7be23ab2-c745-49dd-ac54-c8390312a967",
   "metadata": {},
   "outputs": [
    {
     "data": {
      "text/plain": [
       "[1, 2, True, None]"
      ]
     },
     "execution_count": 46,
     "metadata": {},
     "output_type": "execute_result"
    }
   ],
   "source": [
    "my_list_1"
   ]
  },
  {
   "cell_type": "code",
   "execution_count": 47,
   "id": "faea2161-d85d-45be-9936-3449e65d4060",
   "metadata": {},
   "outputs": [
    {
     "name": "stdout",
     "output_type": "stream",
     "text": [
      "['WaterBottle', 'shoes', 'Apple', 'Books', 'Laptop', 10000, (2+3j), 'Oranges', 'grapes', 'Mango', 500, 1, 2, True, None]\n"
     ]
    }
   ],
   "source": [
    "my_list.extend(my_list_1)\n",
    "print(my_list)"
   ]
  },
  {
   "cell_type": "code",
   "execution_count": 48,
   "id": "4a36fabc-a4d7-45cc-883a-880cdf3c6f92",
   "metadata": {},
   "outputs": [],
   "source": [
    "my_list.remove(1)"
   ]
  },
  {
   "cell_type": "code",
   "execution_count": 50,
   "id": "27358f72-aaa3-4abf-a51b-122fa990360e",
   "metadata": {},
   "outputs": [
    {
     "name": "stdout",
     "output_type": "stream",
     "text": [
      "['WaterBottle', 'shoes', 'Apple', 'Books', 'Laptop', 10000, (2+3j), 'Oranges', 'grapes', 'Mango', 500, 2, True, None]\n"
     ]
    }
   ],
   "source": [
    "print(my_list)"
   ]
  },
  {
   "cell_type": "code",
   "execution_count": 51,
   "id": "1c2c25b1-2bdf-408e-9eef-f8187625c1f3",
   "metadata": {},
   "outputs": [],
   "source": [
    "my_list.insert(10,'shoes')"
   ]
  },
  {
   "cell_type": "code",
   "execution_count": 53,
   "id": "4b9853f4-1095-4f55-b60c-dfa87d4b94e5",
   "metadata": {},
   "outputs": [
    {
     "name": "stdout",
     "output_type": "stream",
     "text": [
      "['WaterBottle', 'shoes', 'Apple', 'Books', 'Laptop', 10000, (2+3j), 'Oranges', 'grapes', 'Mango', 'shoes', 500, 2, True, None]\n"
     ]
    }
   ],
   "source": [
    "print(my_list)"
   ]
  },
  {
   "cell_type": "code",
   "execution_count": 54,
   "id": "ff7a6d01-df53-4fde-87be-bda471021e98",
   "metadata": {},
   "outputs": [],
   "source": [
    "my_list.remove('shoes')"
   ]
  },
  {
   "cell_type": "code",
   "execution_count": 55,
   "id": "4105b73f-b531-4204-9341-e7607fc5ff43",
   "metadata": {},
   "outputs": [
    {
     "name": "stdout",
     "output_type": "stream",
     "text": [
      "['WaterBottle', 'Apple', 'Books', 'Laptop', 10000, (2+3j), 'Oranges', 'grapes', 'Mango', 'shoes', 500, 2, True, None]\n"
     ]
    }
   ],
   "source": [
    "print(my_list)"
   ]
  },
  {
   "cell_type": "code",
   "execution_count": 56,
   "id": "6e767b35-1494-4d47-9766-c27a1b5d7f2c",
   "metadata": {},
   "outputs": [],
   "source": [
    "my_list.pop()"
   ]
  },
  {
   "cell_type": "code",
   "execution_count": 57,
   "id": "2f42a95d-097e-4c7b-adaa-947787546101",
   "metadata": {},
   "outputs": [
    {
     "name": "stdout",
     "output_type": "stream",
     "text": [
      "['WaterBottle', 'Apple', 'Books', 'Laptop', 10000, (2+3j), 'Oranges', 'grapes', 'Mango', 'shoes', 500, 2, True]\n"
     ]
    }
   ],
   "source": [
    "print(my_list)"
   ]
  },
  {
   "cell_type": "code",
   "execution_count": 58,
   "id": "95bcadbc-ad2f-47d3-83f4-39c8d741fd13",
   "metadata": {},
   "outputs": [
    {
     "data": {
      "text/plain": [
       "'shoes'"
      ]
     },
     "execution_count": 58,
     "metadata": {},
     "output_type": "execute_result"
    }
   ],
   "source": [
    "my_list.pop(-4)"
   ]
  },
  {
   "cell_type": "code",
   "execution_count": 59,
   "id": "bec3a438-fdac-4566-bf02-aecc74b0320d",
   "metadata": {},
   "outputs": [
    {
     "name": "stdout",
     "output_type": "stream",
     "text": [
      "['WaterBottle', 'Apple', 'Books', 'Laptop', 10000, (2+3j), 'Oranges', 'grapes', 'Mango', 500, 2, True]\n"
     ]
    }
   ],
   "source": [
    "print(my_list)"
   ]
  },
  {
   "cell_type": "code",
   "execution_count": 60,
   "id": "cef7f716-a677-4e39-9f31-59e27dc0b197",
   "metadata": {},
   "outputs": [
    {
     "data": {
      "text/plain": [
       "[1, 2, True, None]"
      ]
     },
     "execution_count": 60,
     "metadata": {},
     "output_type": "execute_result"
    }
   ],
   "source": [
    "my_list_1"
   ]
  },
  {
   "cell_type": "code",
   "execution_count": 61,
   "id": "70502b93-a013-44d0-842e-80df93fff439",
   "metadata": {},
   "outputs": [],
   "source": [
    "del my_list_1"
   ]
  },
  {
   "cell_type": "code",
   "execution_count": 62,
   "id": "bae9aead-ef83-4090-aa13-89623b30e291",
   "metadata": {},
   "outputs": [
    {
     "ename": "NameError",
     "evalue": "name 'my_list_1' is not defined",
     "output_type": "error",
     "traceback": [
      "\u001b[1;31m---------------------------------------------------------------------------\u001b[0m",
      "\u001b[1;31mNameError\u001b[0m                                 Traceback (most recent call last)",
      "Cell \u001b[1;32mIn[62], line 1\u001b[0m\n\u001b[1;32m----> 1\u001b[0m my_list_1\n",
      "\u001b[1;31mNameError\u001b[0m: name 'my_list_1' is not defined"
     ]
    }
   ],
   "source": [
    "my_list_1"
   ]
  },
  {
   "cell_type": "code",
   "execution_count": 63,
   "id": "060ba3e2-eaa6-4170-907a-87d57d0f4de6",
   "metadata": {},
   "outputs": [],
   "source": [
    "my_lst = [1,2,3,4]"
   ]
  },
  {
   "cell_type": "code",
   "execution_count": 64,
   "id": "3ef22735-54f9-4625-a386-1adb2a23abc7",
   "metadata": {},
   "outputs": [
    {
     "data": {
      "text/plain": [
       "[1, 2, 3, 4]"
      ]
     },
     "execution_count": 64,
     "metadata": {},
     "output_type": "execute_result"
    }
   ],
   "source": [
    "my_lst"
   ]
  },
  {
   "cell_type": "code",
   "execution_count": 65,
   "id": "ca2021e6-fc18-4333-a1a4-693efb897ba7",
   "metadata": {},
   "outputs": [],
   "source": [
    "my_lst.clear()"
   ]
  },
  {
   "cell_type": "code",
   "execution_count": 66,
   "id": "1386e648-9fbd-4c77-96ed-f83a16dd74b3",
   "metadata": {},
   "outputs": [
    {
     "data": {
      "text/plain": [
       "[]"
      ]
     },
     "execution_count": 66,
     "metadata": {},
     "output_type": "execute_result"
    }
   ],
   "source": [
    "my_lst"
   ]
  },
  {
   "cell_type": "code",
   "execution_count": 67,
   "id": "ad1f291b-df96-48f3-9e24-dc680d7f63cc",
   "metadata": {},
   "outputs": [
    {
     "data": {
      "text/plain": [
       "['WaterBottle',\n",
       " 'Apple',\n",
       " 'Books',\n",
       " 'Laptop',\n",
       " 10000,\n",
       " (2+3j),\n",
       " 'Oranges',\n",
       " 'grapes',\n",
       " 'Mango',\n",
       " 500,\n",
       " 2,\n",
       " True]"
      ]
     },
     "execution_count": 67,
     "metadata": {},
     "output_type": "execute_result"
    }
   ],
   "source": [
    "my_list"
   ]
  },
  {
   "cell_type": "code",
   "execution_count": 69,
   "id": "60e2ea4f-fcf2-497c-b1c2-0204fc43c3f9",
   "metadata": {},
   "outputs": [
    {
     "name": "stdout",
     "output_type": "stream",
     "text": [
      "WaterBottle\n",
      "Apple\n",
      "Books\n",
      "Laptop\n",
      "10000\n",
      "(2+3j)\n",
      "Oranges\n",
      "grapes\n",
      "Mango\n",
      "500\n",
      "2\n",
      "True\n"
     ]
    }
   ],
   "source": [
    "for I in my_list:\n",
    "    print(I)"
   ]
  },
  {
   "cell_type": "code",
   "execution_count": 70,
   "id": "50d82b40-a589-475a-b02e-1fc31e9466b4",
   "metadata": {},
   "outputs": [
    {
     "name": "stdout",
     "output_type": "stream",
     "text": [
      "WaterBottle\n",
      "Apple\n",
      "Books\n",
      "Laptop\n",
      "10000\n",
      "(2+3j)\n",
      "Oranges\n",
      "grapes\n",
      "Mango\n",
      "500\n",
      "2\n",
      "True\n"
     ]
    }
   ],
   "source": [
    "for q in range(len(my_list)):\n",
    "    print(my_list[q])"
   ]
  },
  {
   "cell_type": "code",
   "execution_count": 74,
   "id": "c95c26b2-2566-42a4-b3ca-cc9167ebdb23",
   "metadata": {},
   "outputs": [
    {
     "name": "stdout",
     "output_type": "stream",
     "text": [
      "10000\n",
      "(2+3j)\n",
      "Oranges\n",
      "grapes\n",
      "Mango\n",
      "500\n",
      "2\n",
      "True\n"
     ]
    }
   ],
   "source": [
    "# start with declaring a variable which will be index of a item-- from where your loop is going to start.\n",
    "i = 4\n",
    "\n",
    "# looping through indexes\n",
    "while i < len(my_list):\n",
    "  print(my_list[i])\n",
    "  i = i + 1"
   ]
  },
  {
   "cell_type": "code",
   "execution_count": null,
   "id": "20afc1e9-610e-4511-b4f1-23ff457811df",
   "metadata": {},
   "outputs": [],
   "source": []
  }
 ],
 "metadata": {
  "kernelspec": {
   "display_name": "Python 3 (ipykernel)",
   "language": "python",
   "name": "python3"
  },
  "language_info": {
   "codemirror_mode": {
    "name": "ipython",
    "version": 3
   },
   "file_extension": ".py",
   "mimetype": "text/x-python",
   "name": "python",
   "nbconvert_exporter": "python",
   "pygments_lexer": "ipython3",
   "version": "3.11.7"
  }
 },
 "nbformat": 4,
 "nbformat_minor": 5
}
