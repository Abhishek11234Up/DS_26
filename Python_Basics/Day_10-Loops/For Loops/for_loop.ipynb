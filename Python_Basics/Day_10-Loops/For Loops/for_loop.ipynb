{
 "cells": [
  {
   "cell_type": "markdown",
   "id": "c42c4793-783e-4bbc-97f7-287ff543e0c6",
   "metadata": {},
   "source": [
    "## When you know in how many times a certain condition will match, use for loop.\n",
    "## Means you already know in how many times you are going to finish the work."
   ]
  },
  {
   "cell_type": "code",
   "execution_count": 4,
   "id": "e66cfa73-56fb-4d6b-994c-39fa087d69a8",
   "metadata": {},
   "outputs": [],
   "source": [
    "# Iterating through a string\n",
    "name_std = \"Kishuk\""
   ]
  },
  {
   "cell_type": "code",
   "execution_count": 5,
   "id": "bbd73d7c-80e5-4109-addd-03560383be09",
   "metadata": {},
   "outputs": [
    {
     "name": "stdout",
     "output_type": "stream",
     "text": [
      "K\n",
      "i\n",
      "s\n",
      "h\n",
      "u\n",
      "k\n"
     ]
    }
   ],
   "source": [
    "for i in name_std:\n",
    "    print(i)"
   ]
  },
  {
   "cell_type": "code",
   "execution_count": 6,
   "id": "701bda01-56c0-49b2-af49-defd41b7fb47",
   "metadata": {},
   "outputs": [
    {
     "name": "stdout",
     "output_type": "stream",
     "text": [
      "Delhi\n",
      "Lucknow\n",
      "Jaipur\n",
      "Bengaluru\n"
     ]
    }
   ],
   "source": [
    "# iterating through a list\n",
    "cities = [\"Delhi\",\"Lucknow\",\"Jaipur\",\"Bengaluru\"]\n",
    "\n",
    "for a in cities:\n",
    "    print(a)"
   ]
  },
  {
   "cell_type": "code",
   "execution_count": 8,
   "id": "a39761d9-bd98-4429-bdf7-df239209785c",
   "metadata": {},
   "outputs": [
    {
     "name": "stdout",
     "output_type": "stream",
     "text": [
      "1\n",
      "2\n",
      "5j\n",
      "True\n"
     ]
    }
   ],
   "source": [
    "# iterating through a tuples\n",
    "kuch_bhi = (\"1\",2,5.0j,True)\n",
    "\n",
    "for a in kuch_bhi:\n",
    "    print(a)"
   ]
  },
  {
   "cell_type": "code",
   "execution_count": 9,
   "id": "84d6ee62-be50-4ba8-8562-1f4f28e521c7",
   "metadata": {},
   "outputs": [
    {
     "name": "stdout",
     "output_type": "stream",
     "text": [
      "122323\n",
      "aaa\n",
      "74732782\n"
     ]
    }
   ],
   "source": [
    "# iterating through set\n",
    "random_val = {'aaa',122323,74732782}\n",
    "\n",
    "for i in random_val:\n",
    "    print(i)"
   ]
  },
  {
   "cell_type": "code",
   "execution_count": 10,
   "id": "cee8f335-1f18-44cf-a5ef-125538118b4b",
   "metadata": {},
   "outputs": [
    {
     "name": "stdout",
     "output_type": "stream",
     "text": [
      "apple\n",
      "banana\n"
     ]
    }
   ],
   "source": [
    "fruits = [\"apple\", \"banana\", \"cherry\"]\n",
    "for x in fruits:\n",
    "  print(x)\n",
    "  if x == \"banana\":\n",
    "    break"
   ]
  },
  {
   "cell_type": "code",
   "execution_count": 16,
   "id": "227e0d83-e96d-4526-9775-3aad3095307e",
   "metadata": {},
   "outputs": [
    {
     "name": "stdout",
     "output_type": "stream",
     "text": [
      "Delhi\n",
      "Jaipur\n",
      "Bengaluru\n"
     ]
    }
   ],
   "source": [
    "cities = [\"Delhi\",\"Lucknow\",\"Jaipur\",\"Bengaluru\"]\n",
    "\n",
    "for a in cities: \n",
    "    if a == \"Lucknow\":\n",
    "        continue\n",
    "    print(a)"
   ]
  },
  {
   "cell_type": "code",
   "execution_count": 17,
   "id": "944504c4-e089-4e05-917e-0c2b525ef4ea",
   "metadata": {},
   "outputs": [
    {
     "name": "stdout",
     "output_type": "stream",
     "text": [
      "0\n",
      "1\n",
      "2\n",
      "3\n",
      "4\n",
      "5\n",
      "6\n",
      "7\n"
     ]
    }
   ],
   "source": [
    "for n in range(8):\n",
    "    print(n)"
   ]
  },
  {
   "cell_type": "code",
   "execution_count": 18,
   "id": "9ab12168-fa56-4cc2-9735-cbe97e287400",
   "metadata": {},
   "outputs": [
    {
     "name": "stdout",
     "output_type": "stream",
     "text": [
      "10\n",
      "11\n",
      "12\n",
      "13\n",
      "14\n"
     ]
    }
   ],
   "source": [
    "for m in range(10,15):\n",
    "    print(m)"
   ]
  },
  {
   "cell_type": "code",
   "execution_count": 19,
   "id": "2b0c385d-7b3b-4d07-9336-c60b6ec58441",
   "metadata": {},
   "outputs": [
    {
     "name": "stdout",
     "output_type": "stream",
     "text": [
      "2\n",
      "5\n",
      "8\n",
      "11\n",
      "14\n",
      "17\n",
      "20\n",
      "23\n",
      "26\n",
      "29\n"
     ]
    }
   ],
   "source": [
    "for x in range(2, 30, 3):\n",
    "  print(x)"
   ]
  },
  {
   "cell_type": "code",
   "execution_count": 20,
   "id": "8e5c79da-913a-4793-bfc3-94eb6fd77197",
   "metadata": {},
   "outputs": [
    {
     "name": "stdout",
     "output_type": "stream",
     "text": [
      "0\n",
      "1\n",
      "2\n",
      "3\n",
      "4\n",
      "5\n",
      "Finally finished!\n"
     ]
    }
   ],
   "source": [
    "for x in range(6):\n",
    "  print(x)\n",
    "else:\n",
    "  print(\"Finally finished!\")"
   ]
  },
  {
   "cell_type": "code",
   "execution_count": 21,
   "id": "105184b9-ca19-4d87-8958-2f8d4c24bf15",
   "metadata": {},
   "outputs": [
    {
     "name": "stdout",
     "output_type": "stream",
     "text": [
      "0\n",
      "1\n",
      "2\n"
     ]
    }
   ],
   "source": [
    "for x in range(6):\n",
    "  if x == 3: break\n",
    "  print(x)\n",
    "else:\n",
    "  print(\"Finally finished!\")"
   ]
  },
  {
   "cell_type": "code",
   "execution_count": 23,
   "id": "47da0cbf-9efd-42ab-8463-7a0d7d705688",
   "metadata": {},
   "outputs": [],
   "source": [
    "for i in range(9):\n",
    "    pass"
   ]
  },
  {
   "cell_type": "code",
   "execution_count": null,
   "id": "d50fed9e-aac8-4e09-bef3-97a68c15770a",
   "metadata": {},
   "outputs": [],
   "source": []
  }
 ],
 "metadata": {
  "kernelspec": {
   "display_name": "Python 3 (ipykernel)",
   "language": "python",
   "name": "python3"
  },
  "language_info": {
   "codemirror_mode": {
    "name": "ipython",
    "version": 3
   },
   "file_extension": ".py",
   "mimetype": "text/x-python",
   "name": "python",
   "nbconvert_exporter": "python",
   "pygments_lexer": "ipython3",
   "version": "3.11.7"
  }
 },
 "nbformat": 4,
 "nbformat_minor": 5
}
