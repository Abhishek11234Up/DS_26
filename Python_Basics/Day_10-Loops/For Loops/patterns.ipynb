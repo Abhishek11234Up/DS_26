{
 "cells": [
  {
   "cell_type": "code",
   "execution_count": 1,
   "id": "d24ae2cb-58c9-436f-8357-3ff07a4ba983",
   "metadata": {},
   "outputs": [
    {
     "name": "stdout",
     "output_type": "stream",
     "text": [
      "    *\n",
      "   ***\n",
      "  *****\n",
      " *******\n",
      "*********\n"
     ]
    }
   ],
   "source": [
    "\n",
    "# pyramid star pattern\n",
    "n = 5\n",
    "for i in range(1, n+1):\n",
    "    for j in range(n - i):\n",
    "        print(' ', end='')\n",
    "    for k in range(2 * i - 1):\n",
    "        print('*', end='')\n",
    "    print()"
   ]
  },
  {
   "cell_type": "code",
   "execution_count": 4,
   "id": "d558d638-216f-433f-8711-94b9dc7d96c3",
   "metadata": {},
   "outputs": [
    {
     "name": "stdout",
     "output_type": "stream",
     "text": [
      "     A\n",
      "    ABC\n",
      "   ABCDE\n",
      "  ABCDEFG\n",
      " ABCDEFGHI\n"
     ]
    }
   ],
   "source": [
    "# alphabet pyramid pattern\n",
    "size = 5\n",
    "alpha = 65\n",
    "\n",
    "for i in range(size):\n",
    "    # print spaces\n",
    "    for j in range(size - i):\n",
    "        print(\" \", end=\"\")\n",
    "    # print alphabets\n",
    "    for k in range(2 * i + 1):\n",
    "        print(chr(alpha + k), end=\"\")\n",
    "    print()"
   ]
  },
  {
   "cell_type": "code",
   "execution_count": 5,
   "id": "53d686c7-b793-4596-b441-c3e6b4442d79",
   "metadata": {},
   "outputs": [
    {
     "name": "stdout",
     "output_type": "stream",
     "text": [
      "    1\n",
      "   123\n",
      "  12345\n",
      " 1234567\n",
      "123456789\n"
     ]
    }
   ],
   "source": [
    "# number pyramid pattern\n",
    "size = 5\n",
    "for i in range(size):\n",
    "    # print spaces\n",
    "    for j in range(size - i - 1):\n",
    "        print(\" \", end=\"\")\n",
    "    # print numbers\n",
    "    for k in range(2 * i + 1):\n",
    "        print(k+1, end=\"\")\n",
    "    print()"
   ]
  }
 ],
 "metadata": {
  "kernelspec": {
   "display_name": "Python 3 (ipykernel)",
   "language": "python",
   "name": "python3"
  },
  "language_info": {
   "codemirror_mode": {
    "name": "ipython",
    "version": 3
   },
   "file_extension": ".py",
   "mimetype": "text/x-python",
   "name": "python",
   "nbconvert_exporter": "python",
   "pygments_lexer": "ipython3",
   "version": "3.11.7"
  }
 },
 "nbformat": 4,
 "nbformat_minor": 5
}
