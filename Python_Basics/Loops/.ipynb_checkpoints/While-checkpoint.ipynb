{
 "cells": [
  {
   "cell_type": "code",
   "execution_count": 5,
   "id": "3790c7e5-0dbb-4896-94d1-1e12e0832196",
   "metadata": {},
   "outputs": [],
   "source": [
    "c = 0\n",
    "while c < 20:\n",
    "    print(c)\n",
    "    c += 1"
   ]
  },
  {
   "cell_type": "code",
   "execution_count": null,
   "id": "4e9c3f92-1941-44d1-bc18-462a51c6bf95",
   "metadata": {},
   "outputs": [],
   "source": []
  }
 ],
 "metadata": {
  "kernelspec": {
   "display_name": "Python 3 (ipykernel)",
   "language": "python",
   "name": "python3"
  },
  "language_info": {
   "codemirror_mode": {
    "name": "ipython",
    "version": 3
   },
   "file_extension": ".py",
   "mimetype": "text/x-python",
   "name": "python",
   "nbconvert_exporter": "python",
   "pygments_lexer": "ipython3",
   "version": "3.11.7"
  }
 },
 "nbformat": 4,
 "nbformat_minor": 5
}
